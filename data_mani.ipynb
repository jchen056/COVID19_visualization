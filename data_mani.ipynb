{
 "cells": [
  {
   "cell_type": "code",
   "execution_count": 107,
   "id": "423fcc5b",
   "metadata": {},
   "outputs": [],
   "source": [
    "import numpy as np\n",
    "import pandas as pd\n",
    "from datetime import datetime\n",
    "import plotly.express as px\n",
    "import plotly.graph_objects as go"
   ]
  },
  {
   "cell_type": "markdown",
   "id": "b1fb8db9",
   "metadata": {},
   "source": [
    "# Efficiency Data"
   ]
  },
  {
   "cell_type": "code",
   "execution_count": 88,
   "id": "d2d5b24d",
   "metadata": {},
   "outputs": [
    {
     "data": {
      "text/html": [
       "<div>\n",
       "<style scoped>\n",
       "    .dataframe tbody tr th:only-of-type {\n",
       "        vertical-align: middle;\n",
       "    }\n",
       "\n",
       "    .dataframe tbody tr th {\n",
       "        vertical-align: top;\n",
       "    }\n",
       "\n",
       "    .dataframe thead th {\n",
       "        text-align: right;\n",
       "    }\n",
       "</style>\n",
       "<table border=\"1\" class=\"dataframe\">\n",
       "  <thead>\n",
       "    <tr style=\"text-align: right;\">\n",
       "      <th></th>\n",
       "      <th>Vaccine_Manufacturer</th>\n",
       "      <th>Population</th>\n",
       "      <th>Severe Disease</th>\n",
       "      <th>Infection</th>\n",
       "      <th>Severe Disease.1</th>\n",
       "      <th>Infection.1</th>\n",
       "      <th>Severe Disease.2</th>\n",
       "      <th>Infection.2</th>\n",
       "      <th>Severe Disease.3</th>\n",
       "      <th>Infection.3</th>\n",
       "      <th>Severe Disease.4</th>\n",
       "      <th>Infection.4</th>\n",
       "      <th>Severe Disease.5</th>\n",
       "      <th>Infection.5</th>\n",
       "    </tr>\n",
       "  </thead>\n",
       "  <tbody>\n",
       "    <tr>\n",
       "      <th>0</th>\n",
       "      <td>NaN</td>\n",
       "      <td>NaN</td>\n",
       "      <td>Ancestral</td>\n",
       "      <td>Ancestral</td>\n",
       "      <td>Alpha</td>\n",
       "      <td>Alpha</td>\n",
       "      <td>Beta</td>\n",
       "      <td>Beta</td>\n",
       "      <td>Gamma</td>\n",
       "      <td>Gamma</td>\n",
       "      <td>Delta</td>\n",
       "      <td>Delta</td>\n",
       "      <td>Omicron</td>\n",
       "      <td>Omicron</td>\n",
       "    </tr>\n",
       "    <tr>\n",
       "      <th>1</th>\n",
       "      <td>CanSino</td>\n",
       "      <td>100.0</td>\n",
       "      <td>66</td>\n",
       "      <td>62</td>\n",
       "      <td>66</td>\n",
       "      <td>62</td>\n",
       "      <td>64</td>\n",
       "      <td>61</td>\n",
       "      <td>64</td>\n",
       "      <td>61</td>\n",
       "      <td>64</td>\n",
       "      <td>61</td>\n",
       "      <td>48</td>\n",
       "      <td>32</td>\n",
       "    </tr>\n",
       "    <tr>\n",
       "      <th>2</th>\n",
       "      <td>Covaxin</td>\n",
       "      <td>100.0</td>\n",
       "      <td>78</td>\n",
       "      <td>73</td>\n",
       "      <td>78</td>\n",
       "      <td>73</td>\n",
       "      <td>76</td>\n",
       "      <td>72</td>\n",
       "      <td>76</td>\n",
       "      <td>72</td>\n",
       "      <td>76</td>\n",
       "      <td>72</td>\n",
       "      <td>57</td>\n",
       "      <td>38</td>\n",
       "    </tr>\n",
       "    <tr>\n",
       "      <th>3</th>\n",
       "      <td>Johnson&amp;Johnson</td>\n",
       "      <td>100.0</td>\n",
       "      <td>86</td>\n",
       "      <td>72</td>\n",
       "      <td>86</td>\n",
       "      <td>72</td>\n",
       "      <td>76</td>\n",
       "      <td>64</td>\n",
       "      <td>76</td>\n",
       "      <td>64</td>\n",
       "      <td>76</td>\n",
       "      <td>64</td>\n",
       "      <td>57</td>\n",
       "      <td>33</td>\n",
       "    </tr>\n",
       "    <tr>\n",
       "      <th>4</th>\n",
       "      <td>Medicago***</td>\n",
       "      <td>100.0</td>\n",
       "      <td>89</td>\n",
       "      <td>75</td>\n",
       "      <td>89</td>\n",
       "      <td>75</td>\n",
       "      <td>89</td>\n",
       "      <td>75</td>\n",
       "      <td>89</td>\n",
       "      <td>75</td>\n",
       "      <td>89</td>\n",
       "      <td>75</td>\n",
       "      <td>65</td>\n",
       "      <td>43</td>\n",
       "    </tr>\n",
       "    <tr>\n",
       "      <th>5</th>\n",
       "      <td>Moderna</td>\n",
       "      <td>100.0</td>\n",
       "      <td>97</td>\n",
       "      <td>92</td>\n",
       "      <td>97</td>\n",
       "      <td>92</td>\n",
       "      <td>97</td>\n",
       "      <td>91</td>\n",
       "      <td>97</td>\n",
       "      <td>91</td>\n",
       "      <td>97</td>\n",
       "      <td>91</td>\n",
       "      <td>73</td>\n",
       "      <td>48</td>\n",
       "    </tr>\n",
       "    <tr>\n",
       "      <th>6</th>\n",
       "      <td>Novavax</td>\n",
       "      <td>100.0</td>\n",
       "      <td>89</td>\n",
       "      <td>83</td>\n",
       "      <td>89</td>\n",
       "      <td>83</td>\n",
       "      <td>86</td>\n",
       "      <td>82</td>\n",
       "      <td>86</td>\n",
       "      <td>82</td>\n",
       "      <td>86</td>\n",
       "      <td>82</td>\n",
       "      <td>65</td>\n",
       "      <td>43</td>\n",
       "    </tr>\n",
       "    <tr>\n",
       "      <th>7</th>\n",
       "      <td>Oxford/AstraZeneca</td>\n",
       "      <td>100.0</td>\n",
       "      <td>94</td>\n",
       "      <td>63</td>\n",
       "      <td>94</td>\n",
       "      <td>63</td>\n",
       "      <td>94</td>\n",
       "      <td>69</td>\n",
       "      <td>94</td>\n",
       "      <td>69</td>\n",
       "      <td>94</td>\n",
       "      <td>69</td>\n",
       "      <td>71</td>\n",
       "      <td>36</td>\n",
       "    </tr>\n",
       "    <tr>\n",
       "      <th>8</th>\n",
       "      <td>Pfizer/BioNTech</td>\n",
       "      <td>100.0</td>\n",
       "      <td>95</td>\n",
       "      <td>86</td>\n",
       "      <td>95</td>\n",
       "      <td>86</td>\n",
       "      <td>95</td>\n",
       "      <td>84</td>\n",
       "      <td>95</td>\n",
       "      <td>84</td>\n",
       "      <td>95</td>\n",
       "      <td>84</td>\n",
       "      <td>72</td>\n",
       "      <td>44</td>\n",
       "    </tr>\n",
       "    <tr>\n",
       "      <th>9</th>\n",
       "      <td>Sinopharm/Beijing</td>\n",
       "      <td>100.0</td>\n",
       "      <td>73</td>\n",
       "      <td>68</td>\n",
       "      <td>73</td>\n",
       "      <td>68</td>\n",
       "      <td>71</td>\n",
       "      <td>67</td>\n",
       "      <td>71</td>\n",
       "      <td>67</td>\n",
       "      <td>71</td>\n",
       "      <td>67</td>\n",
       "      <td>53</td>\n",
       "      <td>35</td>\n",
       "    </tr>\n",
       "    <tr>\n",
       "      <th>10</th>\n",
       "      <td>Sinovac/Coronavac</td>\n",
       "      <td>100.0</td>\n",
       "      <td>50</td>\n",
       "      <td>47</td>\n",
       "      <td>50</td>\n",
       "      <td>47</td>\n",
       "      <td>49</td>\n",
       "      <td>46</td>\n",
       "      <td>49</td>\n",
       "      <td>46</td>\n",
       "      <td>49</td>\n",
       "      <td>46</td>\n",
       "      <td>37</td>\n",
       "      <td>24</td>\n",
       "    </tr>\n",
       "    <tr>\n",
       "      <th>11</th>\n",
       "      <td>SKYCovione</td>\n",
       "      <td>100.0</td>\n",
       "      <td>75</td>\n",
       "      <td>70</td>\n",
       "      <td>75</td>\n",
       "      <td>70</td>\n",
       "      <td>73</td>\n",
       "      <td>69</td>\n",
       "      <td>73</td>\n",
       "      <td>69</td>\n",
       "      <td>73</td>\n",
       "      <td>69</td>\n",
       "      <td>55</td>\n",
       "      <td>36</td>\n",
       "    </tr>\n",
       "    <tr>\n",
       "      <th>12</th>\n",
       "      <td>Sputnik V</td>\n",
       "      <td>100.0</td>\n",
       "      <td>92</td>\n",
       "      <td>86</td>\n",
       "      <td>92</td>\n",
       "      <td>86</td>\n",
       "      <td>89</td>\n",
       "      <td>85</td>\n",
       "      <td>89</td>\n",
       "      <td>85</td>\n",
       "      <td>89</td>\n",
       "      <td>85</td>\n",
       "      <td>67</td>\n",
       "      <td>44</td>\n",
       "    </tr>\n",
       "    <tr>\n",
       "      <th>13</th>\n",
       "      <td>Valneva**</td>\n",
       "      <td>100.0</td>\n",
       "      <td>75</td>\n",
       "      <td>70</td>\n",
       "      <td>75</td>\n",
       "      <td>70</td>\n",
       "      <td>73</td>\n",
       "      <td>69</td>\n",
       "      <td>73</td>\n",
       "      <td>69</td>\n",
       "      <td>73</td>\n",
       "      <td>69</td>\n",
       "      <td>55</td>\n",
       "      <td>36</td>\n",
       "    </tr>\n",
       "    <tr>\n",
       "      <th>14</th>\n",
       "      <td>** Exact effciacy data not readily available. ...</td>\n",
       "      <td>NaN</td>\n",
       "      <td>NaN</td>\n",
       "      <td>NaN</td>\n",
       "      <td>NaN</td>\n",
       "      <td>NaN</td>\n",
       "      <td>NaN</td>\n",
       "      <td>NaN</td>\n",
       "      <td>NaN</td>\n",
       "      <td>NaN</td>\n",
       "      <td>NaN</td>\n",
       "      <td>NaN</td>\n",
       "      <td>NaN</td>\n",
       "      <td>NaN</td>\n",
       "    </tr>\n",
       "    <tr>\n",
       "      <th>15</th>\n",
       "      <td>*** For Medicago no Omicron data is available....</td>\n",
       "      <td>NaN</td>\n",
       "      <td>NaN</td>\n",
       "      <td>NaN</td>\n",
       "      <td>NaN</td>\n",
       "      <td>NaN</td>\n",
       "      <td>NaN</td>\n",
       "      <td>NaN</td>\n",
       "      <td>NaN</td>\n",
       "      <td>NaN</td>\n",
       "      <td>NaN</td>\n",
       "      <td>NaN</td>\n",
       "      <td>NaN</td>\n",
       "      <td>NaN</td>\n",
       "    </tr>\n",
       "  </tbody>\n",
       "</table>\n",
       "</div>"
      ],
      "text/plain": [
       "                                 Vaccine_Manufacturer  Population  \\\n",
       "0                                                 NaN         NaN   \n",
       "1                                             CanSino       100.0   \n",
       "2                                             Covaxin       100.0   \n",
       "3                                     Johnson&Johnson       100.0   \n",
       "4                                         Medicago***       100.0   \n",
       "5                                             Moderna       100.0   \n",
       "6                                             Novavax       100.0   \n",
       "7                                  Oxford/AstraZeneca       100.0   \n",
       "8                                     Pfizer/BioNTech       100.0   \n",
       "9                                   Sinopharm/Beijing       100.0   \n",
       "10                                  Sinovac/Coronavac       100.0   \n",
       "11                                         SKYCovione       100.0   \n",
       "12                                          Sputnik V       100.0   \n",
       "13                                          Valneva**       100.0   \n",
       "14  ** Exact effciacy data not readily available. ...         NaN   \n",
       "15  *** For Medicago no Omicron data is available....         NaN   \n",
       "\n",
       "   Severe Disease  Infection Severe Disease.1 Infection.1 Severe Disease.2  \\\n",
       "0       Ancestral  Ancestral            Alpha       Alpha             Beta   \n",
       "1              66         62               66          62               64   \n",
       "2              78         73               78          73               76   \n",
       "3              86         72               86          72               76   \n",
       "4              89         75               89          75               89   \n",
       "5              97         92               97          92               97   \n",
       "6              89         83               89          83               86   \n",
       "7              94         63               94          63               94   \n",
       "8              95         86               95          86               95   \n",
       "9              73         68               73          68               71   \n",
       "10             50         47               50          47               49   \n",
       "11             75         70               75          70               73   \n",
       "12             92         86               92          86               89   \n",
       "13             75         70               75          70               73   \n",
       "14            NaN        NaN              NaN         NaN              NaN   \n",
       "15            NaN        NaN              NaN         NaN              NaN   \n",
       "\n",
       "   Infection.2 Severe Disease.3 Infection.3 Severe Disease.4 Infection.4  \\\n",
       "0         Beta            Gamma       Gamma            Delta       Delta   \n",
       "1           61               64          61               64          61   \n",
       "2           72               76          72               76          72   \n",
       "3           64               76          64               76          64   \n",
       "4           75               89          75               89          75   \n",
       "5           91               97          91               97          91   \n",
       "6           82               86          82               86          82   \n",
       "7           69               94          69               94          69   \n",
       "8           84               95          84               95          84   \n",
       "9           67               71          67               71          67   \n",
       "10          46               49          46               49          46   \n",
       "11          69               73          69               73          69   \n",
       "12          85               89          85               89          85   \n",
       "13          69               73          69               73          69   \n",
       "14         NaN              NaN         NaN              NaN         NaN   \n",
       "15         NaN              NaN         NaN              NaN         NaN   \n",
       "\n",
       "   Severe Disease.5 Infection.5  \n",
       "0           Omicron     Omicron  \n",
       "1                48          32  \n",
       "2                57          38  \n",
       "3                57          33  \n",
       "4                65          43  \n",
       "5                73          48  \n",
       "6                65          43  \n",
       "7                71          36  \n",
       "8                72          44  \n",
       "9                53          35  \n",
       "10               37          24  \n",
       "11               55          36  \n",
       "12               67          44  \n",
       "13               55          36  \n",
       "14              NaN         NaN  \n",
       "15              NaN         NaN  "
      ]
     },
     "execution_count": 88,
     "metadata": {},
     "output_type": "execute_result"
    }
   ],
   "source": [
    "df_efficacy=pd.read_excel('data/Covid-19 Vaccine Efficacy.xlsx')\n",
    "df_efficacy"
   ]
  },
  {
   "cell_type": "code",
   "execution_count": 89,
   "id": "4cffe4aa",
   "metadata": {},
   "outputs": [
    {
     "data": {
      "text/html": [
       "<div>\n",
       "<style scoped>\n",
       "    .dataframe tbody tr th:only-of-type {\n",
       "        vertical-align: middle;\n",
       "    }\n",
       "\n",
       "    .dataframe tbody tr th {\n",
       "        vertical-align: top;\n",
       "    }\n",
       "\n",
       "    .dataframe thead th {\n",
       "        text-align: right;\n",
       "    }\n",
       "</style>\n",
       "<table border=\"1\" class=\"dataframe\">\n",
       "  <thead>\n",
       "    <tr style=\"text-align: right;\">\n",
       "      <th></th>\n",
       "      <th>Vaccine_Manufacturer</th>\n",
       "      <th>Alpha Severe Disease</th>\n",
       "      <th>Alpha Infection</th>\n",
       "      <th>Delta Severe Disease</th>\n",
       "      <th>Delta Infection</th>\n",
       "      <th>Omicron Severe Disease</th>\n",
       "      <th>Omicron Infection</th>\n",
       "    </tr>\n",
       "  </thead>\n",
       "  <tbody>\n",
       "    <tr>\n",
       "      <th>1</th>\n",
       "      <td>CanSino</td>\n",
       "      <td>66</td>\n",
       "      <td>62</td>\n",
       "      <td>64</td>\n",
       "      <td>61</td>\n",
       "      <td>48</td>\n",
       "      <td>32</td>\n",
       "    </tr>\n",
       "    <tr>\n",
       "      <th>2</th>\n",
       "      <td>Covaxin</td>\n",
       "      <td>78</td>\n",
       "      <td>73</td>\n",
       "      <td>76</td>\n",
       "      <td>72</td>\n",
       "      <td>57</td>\n",
       "      <td>38</td>\n",
       "    </tr>\n",
       "    <tr>\n",
       "      <th>3</th>\n",
       "      <td>Johnson&amp;Johnson</td>\n",
       "      <td>86</td>\n",
       "      <td>72</td>\n",
       "      <td>76</td>\n",
       "      <td>64</td>\n",
       "      <td>57</td>\n",
       "      <td>33</td>\n",
       "    </tr>\n",
       "    <tr>\n",
       "      <th>4</th>\n",
       "      <td>Medicago</td>\n",
       "      <td>89</td>\n",
       "      <td>75</td>\n",
       "      <td>89</td>\n",
       "      <td>75</td>\n",
       "      <td>65</td>\n",
       "      <td>43</td>\n",
       "    </tr>\n",
       "    <tr>\n",
       "      <th>5</th>\n",
       "      <td>Moderna</td>\n",
       "      <td>97</td>\n",
       "      <td>92</td>\n",
       "      <td>97</td>\n",
       "      <td>91</td>\n",
       "      <td>73</td>\n",
       "      <td>48</td>\n",
       "    </tr>\n",
       "    <tr>\n",
       "      <th>6</th>\n",
       "      <td>Novavax</td>\n",
       "      <td>89</td>\n",
       "      <td>83</td>\n",
       "      <td>86</td>\n",
       "      <td>82</td>\n",
       "      <td>65</td>\n",
       "      <td>43</td>\n",
       "    </tr>\n",
       "    <tr>\n",
       "      <th>7</th>\n",
       "      <td>Oxford/AstraZeneca</td>\n",
       "      <td>94</td>\n",
       "      <td>63</td>\n",
       "      <td>94</td>\n",
       "      <td>69</td>\n",
       "      <td>71</td>\n",
       "      <td>36</td>\n",
       "    </tr>\n",
       "    <tr>\n",
       "      <th>8</th>\n",
       "      <td>Pfizer/BioNTech</td>\n",
       "      <td>95</td>\n",
       "      <td>86</td>\n",
       "      <td>95</td>\n",
       "      <td>84</td>\n",
       "      <td>72</td>\n",
       "      <td>44</td>\n",
       "    </tr>\n",
       "    <tr>\n",
       "      <th>9</th>\n",
       "      <td>Sinopharm/Beijing</td>\n",
       "      <td>73</td>\n",
       "      <td>68</td>\n",
       "      <td>71</td>\n",
       "      <td>67</td>\n",
       "      <td>53</td>\n",
       "      <td>35</td>\n",
       "    </tr>\n",
       "    <tr>\n",
       "      <th>10</th>\n",
       "      <td>Sinovac</td>\n",
       "      <td>50</td>\n",
       "      <td>47</td>\n",
       "      <td>49</td>\n",
       "      <td>46</td>\n",
       "      <td>37</td>\n",
       "      <td>24</td>\n",
       "    </tr>\n",
       "    <tr>\n",
       "      <th>11</th>\n",
       "      <td>SKYCovione</td>\n",
       "      <td>75</td>\n",
       "      <td>70</td>\n",
       "      <td>73</td>\n",
       "      <td>69</td>\n",
       "      <td>55</td>\n",
       "      <td>36</td>\n",
       "    </tr>\n",
       "    <tr>\n",
       "      <th>12</th>\n",
       "      <td>Sputnik V</td>\n",
       "      <td>92</td>\n",
       "      <td>86</td>\n",
       "      <td>89</td>\n",
       "      <td>85</td>\n",
       "      <td>67</td>\n",
       "      <td>44</td>\n",
       "    </tr>\n",
       "    <tr>\n",
       "      <th>13</th>\n",
       "      <td>Valneva</td>\n",
       "      <td>75</td>\n",
       "      <td>70</td>\n",
       "      <td>73</td>\n",
       "      <td>69</td>\n",
       "      <td>55</td>\n",
       "      <td>36</td>\n",
       "    </tr>\n",
       "  </tbody>\n",
       "</table>\n",
       "</div>"
      ],
      "text/plain": [
       "   Vaccine_Manufacturer Alpha Severe Disease Alpha Infection  \\\n",
       "1               CanSino                   66              62   \n",
       "2               Covaxin                   78              73   \n",
       "3       Johnson&Johnson                   86              72   \n",
       "4              Medicago                   89              75   \n",
       "5               Moderna                   97              92   \n",
       "6               Novavax                   89              83   \n",
       "7    Oxford/AstraZeneca                   94              63   \n",
       "8       Pfizer/BioNTech                   95              86   \n",
       "9     Sinopharm/Beijing                   73              68   \n",
       "10              Sinovac                   50              47   \n",
       "11           SKYCovione                   75              70   \n",
       "12            Sputnik V                   92              86   \n",
       "13              Valneva                   75              70   \n",
       "\n",
       "   Delta Severe Disease Delta Infection Omicron Severe Disease  \\\n",
       "1                    64              61                     48   \n",
       "2                    76              72                     57   \n",
       "3                    76              64                     57   \n",
       "4                    89              75                     65   \n",
       "5                    97              91                     73   \n",
       "6                    86              82                     65   \n",
       "7                    94              69                     71   \n",
       "8                    95              84                     72   \n",
       "9                    71              67                     53   \n",
       "10                   49              46                     37   \n",
       "11                   73              69                     55   \n",
       "12                   89              85                     67   \n",
       "13                   73              69                     55   \n",
       "\n",
       "   Omicron Infection  \n",
       "1                 32  \n",
       "2                 38  \n",
       "3                 33  \n",
       "4                 43  \n",
       "5                 48  \n",
       "6                 43  \n",
       "7                 36  \n",
       "8                 44  \n",
       "9                 35  \n",
       "10                24  \n",
       "11                36  \n",
       "12                44  \n",
       "13                36  "
      ]
     },
     "execution_count": 89,
     "metadata": {},
     "output_type": "execute_result"
    }
   ],
   "source": [
    "df_efficacy.Vaccine_Manufacturer=[np.nan,'CanSino','Covaxin','Johnson&Johnson','Medicago','Moderna','Novavax',\n",
    " 'Oxford/AstraZeneca','Pfizer/BioNTech','Sinopharm/Beijing','Sinovac','SKYCovione','Sputnik V','Valneva',np.nan,np.nan]\n",
    "df_efficacy_displayed=df_efficacy.loc[1:13]\n",
    "df_efficacy_displayed\n",
    "df_efficacy_displayed=df_efficacy_displayed[['Vaccine_Manufacturer','Severe Disease', 'Infection',\n",
    "       'Severe Disease.1', 'Infection.1', 'Severe Disease.2', 'Infection.2',\n",
    "       'Severe Disease.3', 'Infection.3', 'Severe Disease.4', 'Infection.4',\n",
    "       'Severe Disease.5', 'Infection.5']]\n",
    "df_efficacy_displayed.columns=['Vaccine_Manufacturer',\"Ancestral Severe Disease\",\"Ancestral Infection\",\n",
    "                                                              \"Alpha Severe Disease\",\"Alpha Infection\",\n",
    "                                                              \"Beta Severe Disease\",\"Beta Infection\",\n",
    "                                                               \"Gamma Severe Disease\",\"Gamma Infection\",\n",
    "                                                               \"Delta Severe Disease\",\"Delta Infection\",\n",
    "                                                               \"Omicron Severe Disease\",\"Omicron Infection\"]\n",
    "df_efficacy_displayed[[\"Vaccine_Manufacturer\",\"Alpha Severe Disease\",\"Alpha Infection\",\"Delta Severe Disease\",\"Delta Infection\",\n",
    "                                                               \"Omicron Severe Disease\",\"Omicron Infection\"]]\n"
   ]
  },
  {
   "cell_type": "code",
   "execution_count": 46,
   "id": "9c56b463",
   "metadata": {},
   "outputs": [
    {
     "data": {
      "text/html": [
       "<div>\n",
       "<style scoped>\n",
       "    .dataframe tbody tr th:only-of-type {\n",
       "        vertical-align: middle;\n",
       "    }\n",
       "\n",
       "    .dataframe tbody tr th {\n",
       "        vertical-align: top;\n",
       "    }\n",
       "\n",
       "    .dataframe thead th {\n",
       "        text-align: right;\n",
       "    }\n",
       "</style>\n",
       "<table border=\"1\" class=\"dataframe\">\n",
       "  <thead>\n",
       "    <tr style=\"text-align: right;\">\n",
       "      <th></th>\n",
       "      <th>Vaccine_Manufacturer</th>\n",
       "      <th>Ancestral Severe Disease</th>\n",
       "      <th>Ancestral Infection</th>\n",
       "      <th>Alpha Severe Disease</th>\n",
       "      <th>Alpha Infection</th>\n",
       "      <th>Beta Severe Disease</th>\n",
       "      <th>Beta Infection</th>\n",
       "      <th>Gamma Severe Disease</th>\n",
       "      <th>Gamma Infection</th>\n",
       "      <th>Delta Severe Disease</th>\n",
       "      <th>Delta Infection</th>\n",
       "      <th>Omicron Severe Disease</th>\n",
       "      <th>Omicron Infection</th>\n",
       "    </tr>\n",
       "  </thead>\n",
       "  <tbody>\n",
       "    <tr>\n",
       "      <th>1</th>\n",
       "      <td>CanSino</td>\n",
       "      <td>66</td>\n",
       "      <td>62</td>\n",
       "      <td>66</td>\n",
       "      <td>62</td>\n",
       "      <td>64</td>\n",
       "      <td>61</td>\n",
       "      <td>64</td>\n",
       "      <td>61</td>\n",
       "      <td>64</td>\n",
       "      <td>61</td>\n",
       "      <td>48</td>\n",
       "      <td>32</td>\n",
       "    </tr>\n",
       "    <tr>\n",
       "      <th>2</th>\n",
       "      <td>Covaxin</td>\n",
       "      <td>78</td>\n",
       "      <td>73</td>\n",
       "      <td>78</td>\n",
       "      <td>73</td>\n",
       "      <td>76</td>\n",
       "      <td>72</td>\n",
       "      <td>76</td>\n",
       "      <td>72</td>\n",
       "      <td>76</td>\n",
       "      <td>72</td>\n",
       "      <td>57</td>\n",
       "      <td>38</td>\n",
       "    </tr>\n",
       "    <tr>\n",
       "      <th>3</th>\n",
       "      <td>Johnson&amp;Johnson</td>\n",
       "      <td>86</td>\n",
       "      <td>72</td>\n",
       "      <td>86</td>\n",
       "      <td>72</td>\n",
       "      <td>76</td>\n",
       "      <td>64</td>\n",
       "      <td>76</td>\n",
       "      <td>64</td>\n",
       "      <td>76</td>\n",
       "      <td>64</td>\n",
       "      <td>57</td>\n",
       "      <td>33</td>\n",
       "    </tr>\n",
       "    <tr>\n",
       "      <th>4</th>\n",
       "      <td>Medicago</td>\n",
       "      <td>89</td>\n",
       "      <td>75</td>\n",
       "      <td>89</td>\n",
       "      <td>75</td>\n",
       "      <td>89</td>\n",
       "      <td>75</td>\n",
       "      <td>89</td>\n",
       "      <td>75</td>\n",
       "      <td>89</td>\n",
       "      <td>75</td>\n",
       "      <td>65</td>\n",
       "      <td>43</td>\n",
       "    </tr>\n",
       "    <tr>\n",
       "      <th>5</th>\n",
       "      <td>Moderna</td>\n",
       "      <td>97</td>\n",
       "      <td>92</td>\n",
       "      <td>97</td>\n",
       "      <td>92</td>\n",
       "      <td>97</td>\n",
       "      <td>91</td>\n",
       "      <td>97</td>\n",
       "      <td>91</td>\n",
       "      <td>97</td>\n",
       "      <td>91</td>\n",
       "      <td>73</td>\n",
       "      <td>48</td>\n",
       "    </tr>\n",
       "  </tbody>\n",
       "</table>\n",
       "</div>"
      ],
      "text/plain": [
       "  Vaccine_Manufacturer Ancestral Severe Disease Ancestral Infection  \\\n",
       "1              CanSino                       66                  62   \n",
       "2              Covaxin                       78                  73   \n",
       "3      Johnson&Johnson                       86                  72   \n",
       "4             Medicago                       89                  75   \n",
       "5              Moderna                       97                  92   \n",
       "\n",
       "  Alpha Severe Disease Alpha Infection Beta Severe Disease Beta Infection  \\\n",
       "1                   66              62                  64             61   \n",
       "2                   78              73                  76             72   \n",
       "3                   86              72                  76             64   \n",
       "4                   89              75                  89             75   \n",
       "5                   97              92                  97             91   \n",
       "\n",
       "  Gamma Severe Disease Gamma Infection Delta Severe Disease Delta Infection  \\\n",
       "1                   64              61                   64              61   \n",
       "2                   76              72                   76              72   \n",
       "3                   76              64                   76              64   \n",
       "4                   89              75                   89              75   \n",
       "5                   97              91                   97              91   \n",
       "\n",
       "  Omicron Severe Disease Omicron Infection  \n",
       "1                     48                32  \n",
       "2                     57                38  \n",
       "3                     57                33  \n",
       "4                     65                43  \n",
       "5                     73                48  "
      ]
     },
     "execution_count": 46,
     "metadata": {},
     "output_type": "execute_result"
    }
   ],
   "source": [
    "df_efficacy_displayed.head()"
   ]
  },
  {
   "cell_type": "code",
   "execution_count": 90,
   "id": "c742e496",
   "metadata": {},
   "outputs": [
    {
     "name": "stderr",
     "output_type": "stream",
     "text": [
      "/var/folders/c3/wqq2zhw90l596jqv25j63ggc0000gn/T/ipykernel_76407/83953372.py:9: SettingWithCopyWarning:\n",
      "\n",
      "\n",
      "A value is trying to be set on a copy of a slice from a DataFrame\n",
      "\n",
      "See the caveats in the documentation: https://pandas.pydata.org/pandas-docs/stable/user_guide/indexing.html#returning-a-view-versus-a-copy\n",
      "\n"
     ]
    },
    {
     "data": {
      "application/vnd.plotly.v1+json": {
       "config": {
        "plotlyServerURL": "https://plot.ly"
       },
       "data": [
        {
         "mode": "lines+markers",
         "name": "CanSino",
         "type": "scatter",
         "x": [
          "Alpha Infection",
          "Delta Infection",
          "Omicron Infection"
         ],
         "y": [
          62,
          61,
          32
         ]
        },
        {
         "mode": "lines+markers",
         "name": "Covaxin",
         "type": "scatter",
         "x": [
          "Alpha Infection",
          "Delta Infection",
          "Omicron Infection"
         ],
         "y": [
          73,
          72,
          38
         ]
        },
        {
         "mode": "lines+markers",
         "name": "Johnson&Johnson",
         "type": "scatter",
         "x": [
          "Alpha Infection",
          "Delta Infection",
          "Omicron Infection"
         ],
         "y": [
          72,
          64,
          33
         ]
        },
        {
         "mode": "lines+markers",
         "name": "Medicago",
         "type": "scatter",
         "x": [
          "Alpha Infection",
          "Delta Infection",
          "Omicron Infection"
         ],
         "y": [
          75,
          75,
          43
         ]
        },
        {
         "mode": "lines+markers",
         "name": "Moderna",
         "type": "scatter",
         "x": [
          "Alpha Infection",
          "Delta Infection",
          "Omicron Infection"
         ],
         "y": [
          92,
          91,
          48
         ]
        },
        {
         "mode": "lines+markers",
         "name": "Novavax",
         "type": "scatter",
         "x": [
          "Alpha Infection",
          "Delta Infection",
          "Omicron Infection"
         ],
         "y": [
          83,
          82,
          43
         ]
        },
        {
         "mode": "lines+markers",
         "name": "Oxford/AstraZeneca",
         "type": "scatter",
         "x": [
          "Alpha Infection",
          "Delta Infection",
          "Omicron Infection"
         ],
         "y": [
          63,
          69,
          36
         ]
        },
        {
         "mode": "lines+markers",
         "name": "Pfizer/BioNTech",
         "type": "scatter",
         "x": [
          "Alpha Infection",
          "Delta Infection",
          "Omicron Infection"
         ],
         "y": [
          86,
          84,
          44
         ]
        },
        {
         "mode": "lines+markers",
         "name": "Sinopharm/Beijing",
         "type": "scatter",
         "x": [
          "Alpha Infection",
          "Delta Infection",
          "Omicron Infection"
         ],
         "y": [
          68,
          67,
          35
         ]
        },
        {
         "mode": "lines+markers",
         "name": "Sinovac",
         "type": "scatter",
         "x": [
          "Alpha Infection",
          "Delta Infection",
          "Omicron Infection"
         ],
         "y": [
          47,
          46,
          24
         ]
        },
        {
         "mode": "lines+markers",
         "name": "SKYCovione",
         "type": "scatter",
         "x": [
          "Alpha Infection",
          "Delta Infection",
          "Omicron Infection"
         ],
         "y": [
          70,
          69,
          36
         ]
        },
        {
         "mode": "lines+markers",
         "name": "Sputnik V",
         "type": "scatter",
         "x": [
          "Alpha Infection",
          "Delta Infection",
          "Omicron Infection"
         ],
         "y": [
          86,
          85,
          44
         ]
        },
        {
         "mode": "lines+markers",
         "name": "Valneva",
         "type": "scatter",
         "x": [
          "Alpha Infection",
          "Delta Infection",
          "Omicron Infection"
         ],
         "y": [
          70,
          69,
          36
         ]
        }
       ],
       "layout": {
        "legend": {
         "title": {
          "text": "Vaccines"
         }
        },
        "template": {
         "data": {
          "bar": [
           {
            "error_x": {
             "color": "#2a3f5f"
            },
            "error_y": {
             "color": "#2a3f5f"
            },
            "marker": {
             "line": {
              "color": "#E5ECF6",
              "width": 0.5
             },
             "pattern": {
              "fillmode": "overlay",
              "size": 10,
              "solidity": 0.2
             }
            },
            "type": "bar"
           }
          ],
          "barpolar": [
           {
            "marker": {
             "line": {
              "color": "#E5ECF6",
              "width": 0.5
             },
             "pattern": {
              "fillmode": "overlay",
              "size": 10,
              "solidity": 0.2
             }
            },
            "type": "barpolar"
           }
          ],
          "carpet": [
           {
            "aaxis": {
             "endlinecolor": "#2a3f5f",
             "gridcolor": "white",
             "linecolor": "white",
             "minorgridcolor": "white",
             "startlinecolor": "#2a3f5f"
            },
            "baxis": {
             "endlinecolor": "#2a3f5f",
             "gridcolor": "white",
             "linecolor": "white",
             "minorgridcolor": "white",
             "startlinecolor": "#2a3f5f"
            },
            "type": "carpet"
           }
          ],
          "choropleth": [
           {
            "colorbar": {
             "outlinewidth": 0,
             "ticks": ""
            },
            "type": "choropleth"
           }
          ],
          "contour": [
           {
            "colorbar": {
             "outlinewidth": 0,
             "ticks": ""
            },
            "colorscale": [
             [
              0,
              "#0d0887"
             ],
             [
              0.1111111111111111,
              "#46039f"
             ],
             [
              0.2222222222222222,
              "#7201a8"
             ],
             [
              0.3333333333333333,
              "#9c179e"
             ],
             [
              0.4444444444444444,
              "#bd3786"
             ],
             [
              0.5555555555555556,
              "#d8576b"
             ],
             [
              0.6666666666666666,
              "#ed7953"
             ],
             [
              0.7777777777777778,
              "#fb9f3a"
             ],
             [
              0.8888888888888888,
              "#fdca26"
             ],
             [
              1,
              "#f0f921"
             ]
            ],
            "type": "contour"
           }
          ],
          "contourcarpet": [
           {
            "colorbar": {
             "outlinewidth": 0,
             "ticks": ""
            },
            "type": "contourcarpet"
           }
          ],
          "heatmap": [
           {
            "colorbar": {
             "outlinewidth": 0,
             "ticks": ""
            },
            "colorscale": [
             [
              0,
              "#0d0887"
             ],
             [
              0.1111111111111111,
              "#46039f"
             ],
             [
              0.2222222222222222,
              "#7201a8"
             ],
             [
              0.3333333333333333,
              "#9c179e"
             ],
             [
              0.4444444444444444,
              "#bd3786"
             ],
             [
              0.5555555555555556,
              "#d8576b"
             ],
             [
              0.6666666666666666,
              "#ed7953"
             ],
             [
              0.7777777777777778,
              "#fb9f3a"
             ],
             [
              0.8888888888888888,
              "#fdca26"
             ],
             [
              1,
              "#f0f921"
             ]
            ],
            "type": "heatmap"
           }
          ],
          "heatmapgl": [
           {
            "colorbar": {
             "outlinewidth": 0,
             "ticks": ""
            },
            "colorscale": [
             [
              0,
              "#0d0887"
             ],
             [
              0.1111111111111111,
              "#46039f"
             ],
             [
              0.2222222222222222,
              "#7201a8"
             ],
             [
              0.3333333333333333,
              "#9c179e"
             ],
             [
              0.4444444444444444,
              "#bd3786"
             ],
             [
              0.5555555555555556,
              "#d8576b"
             ],
             [
              0.6666666666666666,
              "#ed7953"
             ],
             [
              0.7777777777777778,
              "#fb9f3a"
             ],
             [
              0.8888888888888888,
              "#fdca26"
             ],
             [
              1,
              "#f0f921"
             ]
            ],
            "type": "heatmapgl"
           }
          ],
          "histogram": [
           {
            "marker": {
             "pattern": {
              "fillmode": "overlay",
              "size": 10,
              "solidity": 0.2
             }
            },
            "type": "histogram"
           }
          ],
          "histogram2d": [
           {
            "colorbar": {
             "outlinewidth": 0,
             "ticks": ""
            },
            "colorscale": [
             [
              0,
              "#0d0887"
             ],
             [
              0.1111111111111111,
              "#46039f"
             ],
             [
              0.2222222222222222,
              "#7201a8"
             ],
             [
              0.3333333333333333,
              "#9c179e"
             ],
             [
              0.4444444444444444,
              "#bd3786"
             ],
             [
              0.5555555555555556,
              "#d8576b"
             ],
             [
              0.6666666666666666,
              "#ed7953"
             ],
             [
              0.7777777777777778,
              "#fb9f3a"
             ],
             [
              0.8888888888888888,
              "#fdca26"
             ],
             [
              1,
              "#f0f921"
             ]
            ],
            "type": "histogram2d"
           }
          ],
          "histogram2dcontour": [
           {
            "colorbar": {
             "outlinewidth": 0,
             "ticks": ""
            },
            "colorscale": [
             [
              0,
              "#0d0887"
             ],
             [
              0.1111111111111111,
              "#46039f"
             ],
             [
              0.2222222222222222,
              "#7201a8"
             ],
             [
              0.3333333333333333,
              "#9c179e"
             ],
             [
              0.4444444444444444,
              "#bd3786"
             ],
             [
              0.5555555555555556,
              "#d8576b"
             ],
             [
              0.6666666666666666,
              "#ed7953"
             ],
             [
              0.7777777777777778,
              "#fb9f3a"
             ],
             [
              0.8888888888888888,
              "#fdca26"
             ],
             [
              1,
              "#f0f921"
             ]
            ],
            "type": "histogram2dcontour"
           }
          ],
          "mesh3d": [
           {
            "colorbar": {
             "outlinewidth": 0,
             "ticks": ""
            },
            "type": "mesh3d"
           }
          ],
          "parcoords": [
           {
            "line": {
             "colorbar": {
              "outlinewidth": 0,
              "ticks": ""
             }
            },
            "type": "parcoords"
           }
          ],
          "pie": [
           {
            "automargin": true,
            "type": "pie"
           }
          ],
          "scatter": [
           {
            "marker": {
             "colorbar": {
              "outlinewidth": 0,
              "ticks": ""
             }
            },
            "type": "scatter"
           }
          ],
          "scatter3d": [
           {
            "line": {
             "colorbar": {
              "outlinewidth": 0,
              "ticks": ""
             }
            },
            "marker": {
             "colorbar": {
              "outlinewidth": 0,
              "ticks": ""
             }
            },
            "type": "scatter3d"
           }
          ],
          "scattercarpet": [
           {
            "marker": {
             "colorbar": {
              "outlinewidth": 0,
              "ticks": ""
             }
            },
            "type": "scattercarpet"
           }
          ],
          "scattergeo": [
           {
            "marker": {
             "colorbar": {
              "outlinewidth": 0,
              "ticks": ""
             }
            },
            "type": "scattergeo"
           }
          ],
          "scattergl": [
           {
            "marker": {
             "colorbar": {
              "outlinewidth": 0,
              "ticks": ""
             }
            },
            "type": "scattergl"
           }
          ],
          "scattermapbox": [
           {
            "marker": {
             "colorbar": {
              "outlinewidth": 0,
              "ticks": ""
             }
            },
            "type": "scattermapbox"
           }
          ],
          "scatterpolar": [
           {
            "marker": {
             "colorbar": {
              "outlinewidth": 0,
              "ticks": ""
             }
            },
            "type": "scatterpolar"
           }
          ],
          "scatterpolargl": [
           {
            "marker": {
             "colorbar": {
              "outlinewidth": 0,
              "ticks": ""
             }
            },
            "type": "scatterpolargl"
           }
          ],
          "scatterternary": [
           {
            "marker": {
             "colorbar": {
              "outlinewidth": 0,
              "ticks": ""
             }
            },
            "type": "scatterternary"
           }
          ],
          "surface": [
           {
            "colorbar": {
             "outlinewidth": 0,
             "ticks": ""
            },
            "colorscale": [
             [
              0,
              "#0d0887"
             ],
             [
              0.1111111111111111,
              "#46039f"
             ],
             [
              0.2222222222222222,
              "#7201a8"
             ],
             [
              0.3333333333333333,
              "#9c179e"
             ],
             [
              0.4444444444444444,
              "#bd3786"
             ],
             [
              0.5555555555555556,
              "#d8576b"
             ],
             [
              0.6666666666666666,
              "#ed7953"
             ],
             [
              0.7777777777777778,
              "#fb9f3a"
             ],
             [
              0.8888888888888888,
              "#fdca26"
             ],
             [
              1,
              "#f0f921"
             ]
            ],
            "type": "surface"
           }
          ],
          "table": [
           {
            "cells": {
             "fill": {
              "color": "#EBF0F8"
             },
             "line": {
              "color": "white"
             }
            },
            "header": {
             "fill": {
              "color": "#C8D4E3"
             },
             "line": {
              "color": "white"
             }
            },
            "type": "table"
           }
          ]
         },
         "layout": {
          "annotationdefaults": {
           "arrowcolor": "#2a3f5f",
           "arrowhead": 0,
           "arrowwidth": 1
          },
          "autotypenumbers": "strict",
          "coloraxis": {
           "colorbar": {
            "outlinewidth": 0,
            "ticks": ""
           }
          },
          "colorscale": {
           "diverging": [
            [
             0,
             "#8e0152"
            ],
            [
             0.1,
             "#c51b7d"
            ],
            [
             0.2,
             "#de77ae"
            ],
            [
             0.3,
             "#f1b6da"
            ],
            [
             0.4,
             "#fde0ef"
            ],
            [
             0.5,
             "#f7f7f7"
            ],
            [
             0.6,
             "#e6f5d0"
            ],
            [
             0.7,
             "#b8e186"
            ],
            [
             0.8,
             "#7fbc41"
            ],
            [
             0.9,
             "#4d9221"
            ],
            [
             1,
             "#276419"
            ]
           ],
           "sequential": [
            [
             0,
             "#0d0887"
            ],
            [
             0.1111111111111111,
             "#46039f"
            ],
            [
             0.2222222222222222,
             "#7201a8"
            ],
            [
             0.3333333333333333,
             "#9c179e"
            ],
            [
             0.4444444444444444,
             "#bd3786"
            ],
            [
             0.5555555555555556,
             "#d8576b"
            ],
            [
             0.6666666666666666,
             "#ed7953"
            ],
            [
             0.7777777777777778,
             "#fb9f3a"
            ],
            [
             0.8888888888888888,
             "#fdca26"
            ],
            [
             1,
             "#f0f921"
            ]
           ],
           "sequentialminus": [
            [
             0,
             "#0d0887"
            ],
            [
             0.1111111111111111,
             "#46039f"
            ],
            [
             0.2222222222222222,
             "#7201a8"
            ],
            [
             0.3333333333333333,
             "#9c179e"
            ],
            [
             0.4444444444444444,
             "#bd3786"
            ],
            [
             0.5555555555555556,
             "#d8576b"
            ],
            [
             0.6666666666666666,
             "#ed7953"
            ],
            [
             0.7777777777777778,
             "#fb9f3a"
            ],
            [
             0.8888888888888888,
             "#fdca26"
            ],
            [
             1,
             "#f0f921"
            ]
           ]
          },
          "colorway": [
           "#636efa",
           "#EF553B",
           "#00cc96",
           "#ab63fa",
           "#FFA15A",
           "#19d3f3",
           "#FF6692",
           "#B6E880",
           "#FF97FF",
           "#FECB52"
          ],
          "font": {
           "color": "#2a3f5f"
          },
          "geo": {
           "bgcolor": "white",
           "lakecolor": "white",
           "landcolor": "#E5ECF6",
           "showlakes": true,
           "showland": true,
           "subunitcolor": "white"
          },
          "hoverlabel": {
           "align": "left"
          },
          "hovermode": "closest",
          "mapbox": {
           "style": "light"
          },
          "paper_bgcolor": "white",
          "plot_bgcolor": "#E5ECF6",
          "polar": {
           "angularaxis": {
            "gridcolor": "white",
            "linecolor": "white",
            "ticks": ""
           },
           "bgcolor": "#E5ECF6",
           "radialaxis": {
            "gridcolor": "white",
            "linecolor": "white",
            "ticks": ""
           }
          },
          "scene": {
           "xaxis": {
            "backgroundcolor": "#E5ECF6",
            "gridcolor": "white",
            "gridwidth": 2,
            "linecolor": "white",
            "showbackground": true,
            "ticks": "",
            "zerolinecolor": "white"
           },
           "yaxis": {
            "backgroundcolor": "#E5ECF6",
            "gridcolor": "white",
            "gridwidth": 2,
            "linecolor": "white",
            "showbackground": true,
            "ticks": "",
            "zerolinecolor": "white"
           },
           "zaxis": {
            "backgroundcolor": "#E5ECF6",
            "gridcolor": "white",
            "gridwidth": 2,
            "linecolor": "white",
            "showbackground": true,
            "ticks": "",
            "zerolinecolor": "white"
           }
          },
          "shapedefaults": {
           "line": {
            "color": "#2a3f5f"
           }
          },
          "ternary": {
           "aaxis": {
            "gridcolor": "white",
            "linecolor": "white",
            "ticks": ""
           },
           "baxis": {
            "gridcolor": "white",
            "linecolor": "white",
            "ticks": ""
           },
           "bgcolor": "#E5ECF6",
           "caxis": {
            "gridcolor": "white",
            "linecolor": "white",
            "ticks": ""
           }
          },
          "title": {
           "x": 0.05
          },
          "xaxis": {
           "automargin": true,
           "gridcolor": "white",
           "linecolor": "white",
           "ticks": "",
           "title": {
            "standoff": 15
           },
           "zerolinecolor": "white",
           "zerolinewidth": 2
          },
          "yaxis": {
           "automargin": true,
           "gridcolor": "white",
           "linecolor": "white",
           "ticks": "",
           "title": {
            "standoff": 15
           },
           "zerolinecolor": "white",
           "zerolinewidth": 2
          }
         }
        },
        "title": {
         "text": "Vaccine Efficacy at the Prevention of Infection"
        },
        "xaxis": {
         "title": {
          "text": "COVID-19 Variants"
         }
        },
        "yaxis": {
         "title": {
          "text": "Vaccine Efficacy"
         }
        }
       }
      },
      "text/html": [
       "<div>                            <div id=\"77cc4833-cee4-4850-adb0-e789dc8488b9\" class=\"plotly-graph-div\" style=\"height:525px; width:100%;\"></div>            <script type=\"text/javascript\">                require([\"plotly\"], function(Plotly) {                    window.PLOTLYENV=window.PLOTLYENV || {};                                    if (document.getElementById(\"77cc4833-cee4-4850-adb0-e789dc8488b9\")) {                    Plotly.newPlot(                        \"77cc4833-cee4-4850-adb0-e789dc8488b9\",                        [{\"mode\":\"lines+markers\",\"name\":\"CanSino\",\"x\":[\"Alpha Infection\",\"Delta Infection\",\"Omicron Infection\"],\"y\":[62,61,32],\"type\":\"scatter\"},{\"mode\":\"lines+markers\",\"name\":\"Covaxin\",\"x\":[\"Alpha Infection\",\"Delta Infection\",\"Omicron Infection\"],\"y\":[73,72,38],\"type\":\"scatter\"},{\"mode\":\"lines+markers\",\"name\":\"Johnson&Johnson\",\"x\":[\"Alpha Infection\",\"Delta Infection\",\"Omicron Infection\"],\"y\":[72,64,33],\"type\":\"scatter\"},{\"mode\":\"lines+markers\",\"name\":\"Medicago\",\"x\":[\"Alpha Infection\",\"Delta Infection\",\"Omicron Infection\"],\"y\":[75,75,43],\"type\":\"scatter\"},{\"mode\":\"lines+markers\",\"name\":\"Moderna\",\"x\":[\"Alpha Infection\",\"Delta Infection\",\"Omicron Infection\"],\"y\":[92,91,48],\"type\":\"scatter\"},{\"mode\":\"lines+markers\",\"name\":\"Novavax\",\"x\":[\"Alpha Infection\",\"Delta Infection\",\"Omicron Infection\"],\"y\":[83,82,43],\"type\":\"scatter\"},{\"mode\":\"lines+markers\",\"name\":\"Oxford/AstraZeneca\",\"x\":[\"Alpha Infection\",\"Delta Infection\",\"Omicron Infection\"],\"y\":[63,69,36],\"type\":\"scatter\"},{\"mode\":\"lines+markers\",\"name\":\"Pfizer/BioNTech\",\"x\":[\"Alpha Infection\",\"Delta Infection\",\"Omicron Infection\"],\"y\":[86,84,44],\"type\":\"scatter\"},{\"mode\":\"lines+markers\",\"name\":\"Sinopharm/Beijing\",\"x\":[\"Alpha Infection\",\"Delta Infection\",\"Omicron Infection\"],\"y\":[68,67,35],\"type\":\"scatter\"},{\"mode\":\"lines+markers\",\"name\":\"Sinovac\",\"x\":[\"Alpha Infection\",\"Delta Infection\",\"Omicron Infection\"],\"y\":[47,46,24],\"type\":\"scatter\"},{\"mode\":\"lines+markers\",\"name\":\"SKYCovione\",\"x\":[\"Alpha Infection\",\"Delta Infection\",\"Omicron Infection\"],\"y\":[70,69,36],\"type\":\"scatter\"},{\"mode\":\"lines+markers\",\"name\":\"Sputnik V\",\"x\":[\"Alpha Infection\",\"Delta Infection\",\"Omicron Infection\"],\"y\":[86,85,44],\"type\":\"scatter\"},{\"mode\":\"lines+markers\",\"name\":\"Valneva\",\"x\":[\"Alpha Infection\",\"Delta Infection\",\"Omicron Infection\"],\"y\":[70,69,36],\"type\":\"scatter\"}],                        {\"template\":{\"data\":{\"bar\":[{\"error_x\":{\"color\":\"#2a3f5f\"},\"error_y\":{\"color\":\"#2a3f5f\"},\"marker\":{\"line\":{\"color\":\"#E5ECF6\",\"width\":0.5},\"pattern\":{\"fillmode\":\"overlay\",\"size\":10,\"solidity\":0.2}},\"type\":\"bar\"}],\"barpolar\":[{\"marker\":{\"line\":{\"color\":\"#E5ECF6\",\"width\":0.5},\"pattern\":{\"fillmode\":\"overlay\",\"size\":10,\"solidity\":0.2}},\"type\":\"barpolar\"}],\"carpet\":[{\"aaxis\":{\"endlinecolor\":\"#2a3f5f\",\"gridcolor\":\"white\",\"linecolor\":\"white\",\"minorgridcolor\":\"white\",\"startlinecolor\":\"#2a3f5f\"},\"baxis\":{\"endlinecolor\":\"#2a3f5f\",\"gridcolor\":\"white\",\"linecolor\":\"white\",\"minorgridcolor\":\"white\",\"startlinecolor\":\"#2a3f5f\"},\"type\":\"carpet\"}],\"choropleth\":[{\"colorbar\":{\"outlinewidth\":0,\"ticks\":\"\"},\"type\":\"choropleth\"}],\"contour\":[{\"colorbar\":{\"outlinewidth\":0,\"ticks\":\"\"},\"colorscale\":[[0.0,\"#0d0887\"],[0.1111111111111111,\"#46039f\"],[0.2222222222222222,\"#7201a8\"],[0.3333333333333333,\"#9c179e\"],[0.4444444444444444,\"#bd3786\"],[0.5555555555555556,\"#d8576b\"],[0.6666666666666666,\"#ed7953\"],[0.7777777777777778,\"#fb9f3a\"],[0.8888888888888888,\"#fdca26\"],[1.0,\"#f0f921\"]],\"type\":\"contour\"}],\"contourcarpet\":[{\"colorbar\":{\"outlinewidth\":0,\"ticks\":\"\"},\"type\":\"contourcarpet\"}],\"heatmap\":[{\"colorbar\":{\"outlinewidth\":0,\"ticks\":\"\"},\"colorscale\":[[0.0,\"#0d0887\"],[0.1111111111111111,\"#46039f\"],[0.2222222222222222,\"#7201a8\"],[0.3333333333333333,\"#9c179e\"],[0.4444444444444444,\"#bd3786\"],[0.5555555555555556,\"#d8576b\"],[0.6666666666666666,\"#ed7953\"],[0.7777777777777778,\"#fb9f3a\"],[0.8888888888888888,\"#fdca26\"],[1.0,\"#f0f921\"]],\"type\":\"heatmap\"}],\"heatmapgl\":[{\"colorbar\":{\"outlinewidth\":0,\"ticks\":\"\"},\"colorscale\":[[0.0,\"#0d0887\"],[0.1111111111111111,\"#46039f\"],[0.2222222222222222,\"#7201a8\"],[0.3333333333333333,\"#9c179e\"],[0.4444444444444444,\"#bd3786\"],[0.5555555555555556,\"#d8576b\"],[0.6666666666666666,\"#ed7953\"],[0.7777777777777778,\"#fb9f3a\"],[0.8888888888888888,\"#fdca26\"],[1.0,\"#f0f921\"]],\"type\":\"heatmapgl\"}],\"histogram\":[{\"marker\":{\"pattern\":{\"fillmode\":\"overlay\",\"size\":10,\"solidity\":0.2}},\"type\":\"histogram\"}],\"histogram2d\":[{\"colorbar\":{\"outlinewidth\":0,\"ticks\":\"\"},\"colorscale\":[[0.0,\"#0d0887\"],[0.1111111111111111,\"#46039f\"],[0.2222222222222222,\"#7201a8\"],[0.3333333333333333,\"#9c179e\"],[0.4444444444444444,\"#bd3786\"],[0.5555555555555556,\"#d8576b\"],[0.6666666666666666,\"#ed7953\"],[0.7777777777777778,\"#fb9f3a\"],[0.8888888888888888,\"#fdca26\"],[1.0,\"#f0f921\"]],\"type\":\"histogram2d\"}],\"histogram2dcontour\":[{\"colorbar\":{\"outlinewidth\":0,\"ticks\":\"\"},\"colorscale\":[[0.0,\"#0d0887\"],[0.1111111111111111,\"#46039f\"],[0.2222222222222222,\"#7201a8\"],[0.3333333333333333,\"#9c179e\"],[0.4444444444444444,\"#bd3786\"],[0.5555555555555556,\"#d8576b\"],[0.6666666666666666,\"#ed7953\"],[0.7777777777777778,\"#fb9f3a\"],[0.8888888888888888,\"#fdca26\"],[1.0,\"#f0f921\"]],\"type\":\"histogram2dcontour\"}],\"mesh3d\":[{\"colorbar\":{\"outlinewidth\":0,\"ticks\":\"\"},\"type\":\"mesh3d\"}],\"parcoords\":[{\"line\":{\"colorbar\":{\"outlinewidth\":0,\"ticks\":\"\"}},\"type\":\"parcoords\"}],\"pie\":[{\"automargin\":true,\"type\":\"pie\"}],\"scatter\":[{\"marker\":{\"colorbar\":{\"outlinewidth\":0,\"ticks\":\"\"}},\"type\":\"scatter\"}],\"scatter3d\":[{\"line\":{\"colorbar\":{\"outlinewidth\":0,\"ticks\":\"\"}},\"marker\":{\"colorbar\":{\"outlinewidth\":0,\"ticks\":\"\"}},\"type\":\"scatter3d\"}],\"scattercarpet\":[{\"marker\":{\"colorbar\":{\"outlinewidth\":0,\"ticks\":\"\"}},\"type\":\"scattercarpet\"}],\"scattergeo\":[{\"marker\":{\"colorbar\":{\"outlinewidth\":0,\"ticks\":\"\"}},\"type\":\"scattergeo\"}],\"scattergl\":[{\"marker\":{\"colorbar\":{\"outlinewidth\":0,\"ticks\":\"\"}},\"type\":\"scattergl\"}],\"scattermapbox\":[{\"marker\":{\"colorbar\":{\"outlinewidth\":0,\"ticks\":\"\"}},\"type\":\"scattermapbox\"}],\"scatterpolar\":[{\"marker\":{\"colorbar\":{\"outlinewidth\":0,\"ticks\":\"\"}},\"type\":\"scatterpolar\"}],\"scatterpolargl\":[{\"marker\":{\"colorbar\":{\"outlinewidth\":0,\"ticks\":\"\"}},\"type\":\"scatterpolargl\"}],\"scatterternary\":[{\"marker\":{\"colorbar\":{\"outlinewidth\":0,\"ticks\":\"\"}},\"type\":\"scatterternary\"}],\"surface\":[{\"colorbar\":{\"outlinewidth\":0,\"ticks\":\"\"},\"colorscale\":[[0.0,\"#0d0887\"],[0.1111111111111111,\"#46039f\"],[0.2222222222222222,\"#7201a8\"],[0.3333333333333333,\"#9c179e\"],[0.4444444444444444,\"#bd3786\"],[0.5555555555555556,\"#d8576b\"],[0.6666666666666666,\"#ed7953\"],[0.7777777777777778,\"#fb9f3a\"],[0.8888888888888888,\"#fdca26\"],[1.0,\"#f0f921\"]],\"type\":\"surface\"}],\"table\":[{\"cells\":{\"fill\":{\"color\":\"#EBF0F8\"},\"line\":{\"color\":\"white\"}},\"header\":{\"fill\":{\"color\":\"#C8D4E3\"},\"line\":{\"color\":\"white\"}},\"type\":\"table\"}]},\"layout\":{\"annotationdefaults\":{\"arrowcolor\":\"#2a3f5f\",\"arrowhead\":0,\"arrowwidth\":1},\"autotypenumbers\":\"strict\",\"coloraxis\":{\"colorbar\":{\"outlinewidth\":0,\"ticks\":\"\"}},\"colorscale\":{\"diverging\":[[0,\"#8e0152\"],[0.1,\"#c51b7d\"],[0.2,\"#de77ae\"],[0.3,\"#f1b6da\"],[0.4,\"#fde0ef\"],[0.5,\"#f7f7f7\"],[0.6,\"#e6f5d0\"],[0.7,\"#b8e186\"],[0.8,\"#7fbc41\"],[0.9,\"#4d9221\"],[1,\"#276419\"]],\"sequential\":[[0.0,\"#0d0887\"],[0.1111111111111111,\"#46039f\"],[0.2222222222222222,\"#7201a8\"],[0.3333333333333333,\"#9c179e\"],[0.4444444444444444,\"#bd3786\"],[0.5555555555555556,\"#d8576b\"],[0.6666666666666666,\"#ed7953\"],[0.7777777777777778,\"#fb9f3a\"],[0.8888888888888888,\"#fdca26\"],[1.0,\"#f0f921\"]],\"sequentialminus\":[[0.0,\"#0d0887\"],[0.1111111111111111,\"#46039f\"],[0.2222222222222222,\"#7201a8\"],[0.3333333333333333,\"#9c179e\"],[0.4444444444444444,\"#bd3786\"],[0.5555555555555556,\"#d8576b\"],[0.6666666666666666,\"#ed7953\"],[0.7777777777777778,\"#fb9f3a\"],[0.8888888888888888,\"#fdca26\"],[1.0,\"#f0f921\"]]},\"colorway\":[\"#636efa\",\"#EF553B\",\"#00cc96\",\"#ab63fa\",\"#FFA15A\",\"#19d3f3\",\"#FF6692\",\"#B6E880\",\"#FF97FF\",\"#FECB52\"],\"font\":{\"color\":\"#2a3f5f\"},\"geo\":{\"bgcolor\":\"white\",\"lakecolor\":\"white\",\"landcolor\":\"#E5ECF6\",\"showlakes\":true,\"showland\":true,\"subunitcolor\":\"white\"},\"hoverlabel\":{\"align\":\"left\"},\"hovermode\":\"closest\",\"mapbox\":{\"style\":\"light\"},\"paper_bgcolor\":\"white\",\"plot_bgcolor\":\"#E5ECF6\",\"polar\":{\"angularaxis\":{\"gridcolor\":\"white\",\"linecolor\":\"white\",\"ticks\":\"\"},\"bgcolor\":\"#E5ECF6\",\"radialaxis\":{\"gridcolor\":\"white\",\"linecolor\":\"white\",\"ticks\":\"\"}},\"scene\":{\"xaxis\":{\"backgroundcolor\":\"#E5ECF6\",\"gridcolor\":\"white\",\"gridwidth\":2,\"linecolor\":\"white\",\"showbackground\":true,\"ticks\":\"\",\"zerolinecolor\":\"white\"},\"yaxis\":{\"backgroundcolor\":\"#E5ECF6\",\"gridcolor\":\"white\",\"gridwidth\":2,\"linecolor\":\"white\",\"showbackground\":true,\"ticks\":\"\",\"zerolinecolor\":\"white\"},\"zaxis\":{\"backgroundcolor\":\"#E5ECF6\",\"gridcolor\":\"white\",\"gridwidth\":2,\"linecolor\":\"white\",\"showbackground\":true,\"ticks\":\"\",\"zerolinecolor\":\"white\"}},\"shapedefaults\":{\"line\":{\"color\":\"#2a3f5f\"}},\"ternary\":{\"aaxis\":{\"gridcolor\":\"white\",\"linecolor\":\"white\",\"ticks\":\"\"},\"baxis\":{\"gridcolor\":\"white\",\"linecolor\":\"white\",\"ticks\":\"\"},\"bgcolor\":\"#E5ECF6\",\"caxis\":{\"gridcolor\":\"white\",\"linecolor\":\"white\",\"ticks\":\"\"}},\"title\":{\"x\":0.05},\"xaxis\":{\"automargin\":true,\"gridcolor\":\"white\",\"linecolor\":\"white\",\"ticks\":\"\",\"title\":{\"standoff\":15},\"zerolinecolor\":\"white\",\"zerolinewidth\":2},\"yaxis\":{\"automargin\":true,\"gridcolor\":\"white\",\"linecolor\":\"white\",\"ticks\":\"\",\"title\":{\"standoff\":15},\"zerolinecolor\":\"white\",\"zerolinewidth\":2}}},\"title\":{\"text\":\"Vaccine Efficacy at the Prevention of Infection\"},\"xaxis\":{\"title\":{\"text\":\"COVID-19 Variants\"}},\"yaxis\":{\"title\":{\"text\":\"Vaccine Efficacy\"}},\"legend\":{\"title\":{\"text\":\"Vaccines\"}}},                        {\"responsive\": true}                    ).then(function(){\n",
       "                            \n",
       "var gd = document.getElementById('77cc4833-cee4-4850-adb0-e789dc8488b9');\n",
       "var x = new MutationObserver(function (mutations, observer) {{\n",
       "        var display = window.getComputedStyle(gd).display;\n",
       "        if (!display || display === 'none') {{\n",
       "            console.log([gd, 'removed!']);\n",
       "            Plotly.purge(gd);\n",
       "            observer.disconnect();\n",
       "        }}\n",
       "}});\n",
       "\n",
       "// Listen for the removal of the full notebook cells\n",
       "var notebookContainer = gd.closest('#notebook-container');\n",
       "if (notebookContainer) {{\n",
       "    x.observe(notebookContainer, {childList: true});\n",
       "}}\n",
       "\n",
       "// Listen for the clearing of the current output cell\n",
       "var outputEl = gd.closest('.output');\n",
       "if (outputEl) {{\n",
       "    x.observe(outputEl, {childList: true});\n",
       "}}\n",
       "\n",
       "                        })                };                });            </script>        </div>"
      ]
     },
     "metadata": {},
     "output_type": "display_data"
    }
   ],
   "source": [
    "# fig=px.line(df_efficacy_displayed,y=[\"Alpha Infection\",\"Delta Infection\",\n",
    "#                                                                \"Omicron Infection\"],x=\"Vaccine_Manufacturer\",\n",
    "#             title=\"Vaccine Efficacy for Various Vaccines\")\n",
    "# fig.show()\n",
    "fig=go.Figure()\n",
    "\n",
    "df_graph=df_efficacy_displayed[[\"Vaccine_Manufacturer\",\"Alpha Infection\",\"Delta Infection\",\"Omicron Infection\"]]\n",
    "df_graph.index=df_graph['Vaccine_Manufacturer']\n",
    "df_graph.drop([\"Vaccine_Manufacturer\"],axis=1,inplace=True)\n",
    "\n",
    "for i in df_graph.index:\n",
    "    fig.add_trace(go.Scatter(x=df_graph.columns,y=df_graph.loc[i,[\"Alpha Infection\",\"Delta Infection\",\"Omicron Infection\"]],mode='lines+markers',name=i))\n",
    "\n",
    "fig.update_layout(\n",
    "   title=\"Vaccine Efficacy at the Prevention of Infection\",\n",
    "    xaxis_title=\"COVID-19 Variants\",\n",
    "    yaxis_title=\"Vaccine Efficacy\",\n",
    "    legend_title=\"Vaccines\",\n",
    ")\n",
    "fig.show()"
   ]
  },
  {
   "cell_type": "code",
   "execution_count": 91,
   "id": "ffb9ba69",
   "metadata": {},
   "outputs": [
    {
     "name": "stderr",
     "output_type": "stream",
     "text": [
      "/var/folders/c3/wqq2zhw90l596jqv25j63ggc0000gn/T/ipykernel_76407/3755473061.py:5: SettingWithCopyWarning:\n",
      "\n",
      "\n",
      "A value is trying to be set on a copy of a slice from a DataFrame\n",
      "\n",
      "See the caveats in the documentation: https://pandas.pydata.org/pandas-docs/stable/user_guide/indexing.html#returning-a-view-versus-a-copy\n",
      "\n"
     ]
    },
    {
     "data": {
      "application/vnd.plotly.v1+json": {
       "config": {
        "plotlyServerURL": "https://plot.ly"
       },
       "data": [
        {
         "mode": "lines+markers",
         "name": "CanSino",
         "type": "scatter",
         "x": [
          "Alpha Severe Disease",
          "Delta Severe Disease",
          "Omicron Severe Disease"
         ],
         "y": [
          66,
          64,
          48
         ]
        },
        {
         "mode": "lines+markers",
         "name": "Covaxin",
         "type": "scatter",
         "x": [
          "Alpha Severe Disease",
          "Delta Severe Disease",
          "Omicron Severe Disease"
         ],
         "y": [
          78,
          76,
          57
         ]
        },
        {
         "mode": "lines+markers",
         "name": "Johnson&Johnson",
         "type": "scatter",
         "x": [
          "Alpha Severe Disease",
          "Delta Severe Disease",
          "Omicron Severe Disease"
         ],
         "y": [
          86,
          76,
          57
         ]
        },
        {
         "mode": "lines+markers",
         "name": "Medicago",
         "type": "scatter",
         "x": [
          "Alpha Severe Disease",
          "Delta Severe Disease",
          "Omicron Severe Disease"
         ],
         "y": [
          89,
          89,
          65
         ]
        },
        {
         "mode": "lines+markers",
         "name": "Moderna",
         "type": "scatter",
         "x": [
          "Alpha Severe Disease",
          "Delta Severe Disease",
          "Omicron Severe Disease"
         ],
         "y": [
          97,
          97,
          73
         ]
        },
        {
         "mode": "lines+markers",
         "name": "Novavax",
         "type": "scatter",
         "x": [
          "Alpha Severe Disease",
          "Delta Severe Disease",
          "Omicron Severe Disease"
         ],
         "y": [
          89,
          86,
          65
         ]
        },
        {
         "mode": "lines+markers",
         "name": "Oxford/AstraZeneca",
         "type": "scatter",
         "x": [
          "Alpha Severe Disease",
          "Delta Severe Disease",
          "Omicron Severe Disease"
         ],
         "y": [
          94,
          94,
          71
         ]
        },
        {
         "mode": "lines+markers",
         "name": "Pfizer/BioNTech",
         "type": "scatter",
         "x": [
          "Alpha Severe Disease",
          "Delta Severe Disease",
          "Omicron Severe Disease"
         ],
         "y": [
          95,
          95,
          72
         ]
        },
        {
         "mode": "lines+markers",
         "name": "Sinopharm/Beijing",
         "type": "scatter",
         "x": [
          "Alpha Severe Disease",
          "Delta Severe Disease",
          "Omicron Severe Disease"
         ],
         "y": [
          73,
          71,
          53
         ]
        },
        {
         "mode": "lines+markers",
         "name": "Sinovac",
         "type": "scatter",
         "x": [
          "Alpha Severe Disease",
          "Delta Severe Disease",
          "Omicron Severe Disease"
         ],
         "y": [
          50,
          49,
          37
         ]
        },
        {
         "mode": "lines+markers",
         "name": "SKYCovione",
         "type": "scatter",
         "x": [
          "Alpha Severe Disease",
          "Delta Severe Disease",
          "Omicron Severe Disease"
         ],
         "y": [
          75,
          73,
          55
         ]
        },
        {
         "mode": "lines+markers",
         "name": "Sputnik V",
         "type": "scatter",
         "x": [
          "Alpha Severe Disease",
          "Delta Severe Disease",
          "Omicron Severe Disease"
         ],
         "y": [
          92,
          89,
          67
         ]
        },
        {
         "mode": "lines+markers",
         "name": "Valneva",
         "type": "scatter",
         "x": [
          "Alpha Severe Disease",
          "Delta Severe Disease",
          "Omicron Severe Disease"
         ],
         "y": [
          75,
          73,
          55
         ]
        }
       ],
       "layout": {
        "legend": {
         "title": {
          "text": "Vaccines"
         }
        },
        "template": {
         "data": {
          "bar": [
           {
            "error_x": {
             "color": "#2a3f5f"
            },
            "error_y": {
             "color": "#2a3f5f"
            },
            "marker": {
             "line": {
              "color": "#E5ECF6",
              "width": 0.5
             },
             "pattern": {
              "fillmode": "overlay",
              "size": 10,
              "solidity": 0.2
             }
            },
            "type": "bar"
           }
          ],
          "barpolar": [
           {
            "marker": {
             "line": {
              "color": "#E5ECF6",
              "width": 0.5
             },
             "pattern": {
              "fillmode": "overlay",
              "size": 10,
              "solidity": 0.2
             }
            },
            "type": "barpolar"
           }
          ],
          "carpet": [
           {
            "aaxis": {
             "endlinecolor": "#2a3f5f",
             "gridcolor": "white",
             "linecolor": "white",
             "minorgridcolor": "white",
             "startlinecolor": "#2a3f5f"
            },
            "baxis": {
             "endlinecolor": "#2a3f5f",
             "gridcolor": "white",
             "linecolor": "white",
             "minorgridcolor": "white",
             "startlinecolor": "#2a3f5f"
            },
            "type": "carpet"
           }
          ],
          "choropleth": [
           {
            "colorbar": {
             "outlinewidth": 0,
             "ticks": ""
            },
            "type": "choropleth"
           }
          ],
          "contour": [
           {
            "colorbar": {
             "outlinewidth": 0,
             "ticks": ""
            },
            "colorscale": [
             [
              0,
              "#0d0887"
             ],
             [
              0.1111111111111111,
              "#46039f"
             ],
             [
              0.2222222222222222,
              "#7201a8"
             ],
             [
              0.3333333333333333,
              "#9c179e"
             ],
             [
              0.4444444444444444,
              "#bd3786"
             ],
             [
              0.5555555555555556,
              "#d8576b"
             ],
             [
              0.6666666666666666,
              "#ed7953"
             ],
             [
              0.7777777777777778,
              "#fb9f3a"
             ],
             [
              0.8888888888888888,
              "#fdca26"
             ],
             [
              1,
              "#f0f921"
             ]
            ],
            "type": "contour"
           }
          ],
          "contourcarpet": [
           {
            "colorbar": {
             "outlinewidth": 0,
             "ticks": ""
            },
            "type": "contourcarpet"
           }
          ],
          "heatmap": [
           {
            "colorbar": {
             "outlinewidth": 0,
             "ticks": ""
            },
            "colorscale": [
             [
              0,
              "#0d0887"
             ],
             [
              0.1111111111111111,
              "#46039f"
             ],
             [
              0.2222222222222222,
              "#7201a8"
             ],
             [
              0.3333333333333333,
              "#9c179e"
             ],
             [
              0.4444444444444444,
              "#bd3786"
             ],
             [
              0.5555555555555556,
              "#d8576b"
             ],
             [
              0.6666666666666666,
              "#ed7953"
             ],
             [
              0.7777777777777778,
              "#fb9f3a"
             ],
             [
              0.8888888888888888,
              "#fdca26"
             ],
             [
              1,
              "#f0f921"
             ]
            ],
            "type": "heatmap"
           }
          ],
          "heatmapgl": [
           {
            "colorbar": {
             "outlinewidth": 0,
             "ticks": ""
            },
            "colorscale": [
             [
              0,
              "#0d0887"
             ],
             [
              0.1111111111111111,
              "#46039f"
             ],
             [
              0.2222222222222222,
              "#7201a8"
             ],
             [
              0.3333333333333333,
              "#9c179e"
             ],
             [
              0.4444444444444444,
              "#bd3786"
             ],
             [
              0.5555555555555556,
              "#d8576b"
             ],
             [
              0.6666666666666666,
              "#ed7953"
             ],
             [
              0.7777777777777778,
              "#fb9f3a"
             ],
             [
              0.8888888888888888,
              "#fdca26"
             ],
             [
              1,
              "#f0f921"
             ]
            ],
            "type": "heatmapgl"
           }
          ],
          "histogram": [
           {
            "marker": {
             "pattern": {
              "fillmode": "overlay",
              "size": 10,
              "solidity": 0.2
             }
            },
            "type": "histogram"
           }
          ],
          "histogram2d": [
           {
            "colorbar": {
             "outlinewidth": 0,
             "ticks": ""
            },
            "colorscale": [
             [
              0,
              "#0d0887"
             ],
             [
              0.1111111111111111,
              "#46039f"
             ],
             [
              0.2222222222222222,
              "#7201a8"
             ],
             [
              0.3333333333333333,
              "#9c179e"
             ],
             [
              0.4444444444444444,
              "#bd3786"
             ],
             [
              0.5555555555555556,
              "#d8576b"
             ],
             [
              0.6666666666666666,
              "#ed7953"
             ],
             [
              0.7777777777777778,
              "#fb9f3a"
             ],
             [
              0.8888888888888888,
              "#fdca26"
             ],
             [
              1,
              "#f0f921"
             ]
            ],
            "type": "histogram2d"
           }
          ],
          "histogram2dcontour": [
           {
            "colorbar": {
             "outlinewidth": 0,
             "ticks": ""
            },
            "colorscale": [
             [
              0,
              "#0d0887"
             ],
             [
              0.1111111111111111,
              "#46039f"
             ],
             [
              0.2222222222222222,
              "#7201a8"
             ],
             [
              0.3333333333333333,
              "#9c179e"
             ],
             [
              0.4444444444444444,
              "#bd3786"
             ],
             [
              0.5555555555555556,
              "#d8576b"
             ],
             [
              0.6666666666666666,
              "#ed7953"
             ],
             [
              0.7777777777777778,
              "#fb9f3a"
             ],
             [
              0.8888888888888888,
              "#fdca26"
             ],
             [
              1,
              "#f0f921"
             ]
            ],
            "type": "histogram2dcontour"
           }
          ],
          "mesh3d": [
           {
            "colorbar": {
             "outlinewidth": 0,
             "ticks": ""
            },
            "type": "mesh3d"
           }
          ],
          "parcoords": [
           {
            "line": {
             "colorbar": {
              "outlinewidth": 0,
              "ticks": ""
             }
            },
            "type": "parcoords"
           }
          ],
          "pie": [
           {
            "automargin": true,
            "type": "pie"
           }
          ],
          "scatter": [
           {
            "marker": {
             "colorbar": {
              "outlinewidth": 0,
              "ticks": ""
             }
            },
            "type": "scatter"
           }
          ],
          "scatter3d": [
           {
            "line": {
             "colorbar": {
              "outlinewidth": 0,
              "ticks": ""
             }
            },
            "marker": {
             "colorbar": {
              "outlinewidth": 0,
              "ticks": ""
             }
            },
            "type": "scatter3d"
           }
          ],
          "scattercarpet": [
           {
            "marker": {
             "colorbar": {
              "outlinewidth": 0,
              "ticks": ""
             }
            },
            "type": "scattercarpet"
           }
          ],
          "scattergeo": [
           {
            "marker": {
             "colorbar": {
              "outlinewidth": 0,
              "ticks": ""
             }
            },
            "type": "scattergeo"
           }
          ],
          "scattergl": [
           {
            "marker": {
             "colorbar": {
              "outlinewidth": 0,
              "ticks": ""
             }
            },
            "type": "scattergl"
           }
          ],
          "scattermapbox": [
           {
            "marker": {
             "colorbar": {
              "outlinewidth": 0,
              "ticks": ""
             }
            },
            "type": "scattermapbox"
           }
          ],
          "scatterpolar": [
           {
            "marker": {
             "colorbar": {
              "outlinewidth": 0,
              "ticks": ""
             }
            },
            "type": "scatterpolar"
           }
          ],
          "scatterpolargl": [
           {
            "marker": {
             "colorbar": {
              "outlinewidth": 0,
              "ticks": ""
             }
            },
            "type": "scatterpolargl"
           }
          ],
          "scatterternary": [
           {
            "marker": {
             "colorbar": {
              "outlinewidth": 0,
              "ticks": ""
             }
            },
            "type": "scatterternary"
           }
          ],
          "surface": [
           {
            "colorbar": {
             "outlinewidth": 0,
             "ticks": ""
            },
            "colorscale": [
             [
              0,
              "#0d0887"
             ],
             [
              0.1111111111111111,
              "#46039f"
             ],
             [
              0.2222222222222222,
              "#7201a8"
             ],
             [
              0.3333333333333333,
              "#9c179e"
             ],
             [
              0.4444444444444444,
              "#bd3786"
             ],
             [
              0.5555555555555556,
              "#d8576b"
             ],
             [
              0.6666666666666666,
              "#ed7953"
             ],
             [
              0.7777777777777778,
              "#fb9f3a"
             ],
             [
              0.8888888888888888,
              "#fdca26"
             ],
             [
              1,
              "#f0f921"
             ]
            ],
            "type": "surface"
           }
          ],
          "table": [
           {
            "cells": {
             "fill": {
              "color": "#EBF0F8"
             },
             "line": {
              "color": "white"
             }
            },
            "header": {
             "fill": {
              "color": "#C8D4E3"
             },
             "line": {
              "color": "white"
             }
            },
            "type": "table"
           }
          ]
         },
         "layout": {
          "annotationdefaults": {
           "arrowcolor": "#2a3f5f",
           "arrowhead": 0,
           "arrowwidth": 1
          },
          "autotypenumbers": "strict",
          "coloraxis": {
           "colorbar": {
            "outlinewidth": 0,
            "ticks": ""
           }
          },
          "colorscale": {
           "diverging": [
            [
             0,
             "#8e0152"
            ],
            [
             0.1,
             "#c51b7d"
            ],
            [
             0.2,
             "#de77ae"
            ],
            [
             0.3,
             "#f1b6da"
            ],
            [
             0.4,
             "#fde0ef"
            ],
            [
             0.5,
             "#f7f7f7"
            ],
            [
             0.6,
             "#e6f5d0"
            ],
            [
             0.7,
             "#b8e186"
            ],
            [
             0.8,
             "#7fbc41"
            ],
            [
             0.9,
             "#4d9221"
            ],
            [
             1,
             "#276419"
            ]
           ],
           "sequential": [
            [
             0,
             "#0d0887"
            ],
            [
             0.1111111111111111,
             "#46039f"
            ],
            [
             0.2222222222222222,
             "#7201a8"
            ],
            [
             0.3333333333333333,
             "#9c179e"
            ],
            [
             0.4444444444444444,
             "#bd3786"
            ],
            [
             0.5555555555555556,
             "#d8576b"
            ],
            [
             0.6666666666666666,
             "#ed7953"
            ],
            [
             0.7777777777777778,
             "#fb9f3a"
            ],
            [
             0.8888888888888888,
             "#fdca26"
            ],
            [
             1,
             "#f0f921"
            ]
           ],
           "sequentialminus": [
            [
             0,
             "#0d0887"
            ],
            [
             0.1111111111111111,
             "#46039f"
            ],
            [
             0.2222222222222222,
             "#7201a8"
            ],
            [
             0.3333333333333333,
             "#9c179e"
            ],
            [
             0.4444444444444444,
             "#bd3786"
            ],
            [
             0.5555555555555556,
             "#d8576b"
            ],
            [
             0.6666666666666666,
             "#ed7953"
            ],
            [
             0.7777777777777778,
             "#fb9f3a"
            ],
            [
             0.8888888888888888,
             "#fdca26"
            ],
            [
             1,
             "#f0f921"
            ]
           ]
          },
          "colorway": [
           "#636efa",
           "#EF553B",
           "#00cc96",
           "#ab63fa",
           "#FFA15A",
           "#19d3f3",
           "#FF6692",
           "#B6E880",
           "#FF97FF",
           "#FECB52"
          ],
          "font": {
           "color": "#2a3f5f"
          },
          "geo": {
           "bgcolor": "white",
           "lakecolor": "white",
           "landcolor": "#E5ECF6",
           "showlakes": true,
           "showland": true,
           "subunitcolor": "white"
          },
          "hoverlabel": {
           "align": "left"
          },
          "hovermode": "closest",
          "mapbox": {
           "style": "light"
          },
          "paper_bgcolor": "white",
          "plot_bgcolor": "#E5ECF6",
          "polar": {
           "angularaxis": {
            "gridcolor": "white",
            "linecolor": "white",
            "ticks": ""
           },
           "bgcolor": "#E5ECF6",
           "radialaxis": {
            "gridcolor": "white",
            "linecolor": "white",
            "ticks": ""
           }
          },
          "scene": {
           "xaxis": {
            "backgroundcolor": "#E5ECF6",
            "gridcolor": "white",
            "gridwidth": 2,
            "linecolor": "white",
            "showbackground": true,
            "ticks": "",
            "zerolinecolor": "white"
           },
           "yaxis": {
            "backgroundcolor": "#E5ECF6",
            "gridcolor": "white",
            "gridwidth": 2,
            "linecolor": "white",
            "showbackground": true,
            "ticks": "",
            "zerolinecolor": "white"
           },
           "zaxis": {
            "backgroundcolor": "#E5ECF6",
            "gridcolor": "white",
            "gridwidth": 2,
            "linecolor": "white",
            "showbackground": true,
            "ticks": "",
            "zerolinecolor": "white"
           }
          },
          "shapedefaults": {
           "line": {
            "color": "#2a3f5f"
           }
          },
          "ternary": {
           "aaxis": {
            "gridcolor": "white",
            "linecolor": "white",
            "ticks": ""
           },
           "baxis": {
            "gridcolor": "white",
            "linecolor": "white",
            "ticks": ""
           },
           "bgcolor": "#E5ECF6",
           "caxis": {
            "gridcolor": "white",
            "linecolor": "white",
            "ticks": ""
           }
          },
          "title": {
           "x": 0.05
          },
          "xaxis": {
           "automargin": true,
           "gridcolor": "white",
           "linecolor": "white",
           "ticks": "",
           "title": {
            "standoff": 15
           },
           "zerolinecolor": "white",
           "zerolinewidth": 2
          },
          "yaxis": {
           "automargin": true,
           "gridcolor": "white",
           "linecolor": "white",
           "ticks": "",
           "title": {
            "standoff": 15
           },
           "zerolinecolor": "white",
           "zerolinewidth": 2
          }
         }
        },
        "title": {
         "text": "Vaccine Efficacy at the Prevention of Severe Disease"
        },
        "xaxis": {
         "title": {
          "text": "COVID-19 Variants"
         }
        },
        "yaxis": {
         "title": {
          "text": "Vaccine Efficacy"
         }
        }
       }
      },
      "text/html": [
       "<div>                            <div id=\"05fa7e4b-8bea-4b52-803f-5485caf03260\" class=\"plotly-graph-div\" style=\"height:525px; width:100%;\"></div>            <script type=\"text/javascript\">                require([\"plotly\"], function(Plotly) {                    window.PLOTLYENV=window.PLOTLYENV || {};                                    if (document.getElementById(\"05fa7e4b-8bea-4b52-803f-5485caf03260\")) {                    Plotly.newPlot(                        \"05fa7e4b-8bea-4b52-803f-5485caf03260\",                        [{\"mode\":\"lines+markers\",\"name\":\"CanSino\",\"x\":[\"Alpha Severe Disease\",\"Delta Severe Disease\",\"Omicron Severe Disease\"],\"y\":[66,64,48],\"type\":\"scatter\"},{\"mode\":\"lines+markers\",\"name\":\"Covaxin\",\"x\":[\"Alpha Severe Disease\",\"Delta Severe Disease\",\"Omicron Severe Disease\"],\"y\":[78,76,57],\"type\":\"scatter\"},{\"mode\":\"lines+markers\",\"name\":\"Johnson&Johnson\",\"x\":[\"Alpha Severe Disease\",\"Delta Severe Disease\",\"Omicron Severe Disease\"],\"y\":[86,76,57],\"type\":\"scatter\"},{\"mode\":\"lines+markers\",\"name\":\"Medicago\",\"x\":[\"Alpha Severe Disease\",\"Delta Severe Disease\",\"Omicron Severe Disease\"],\"y\":[89,89,65],\"type\":\"scatter\"},{\"mode\":\"lines+markers\",\"name\":\"Moderna\",\"x\":[\"Alpha Severe Disease\",\"Delta Severe Disease\",\"Omicron Severe Disease\"],\"y\":[97,97,73],\"type\":\"scatter\"},{\"mode\":\"lines+markers\",\"name\":\"Novavax\",\"x\":[\"Alpha Severe Disease\",\"Delta Severe Disease\",\"Omicron Severe Disease\"],\"y\":[89,86,65],\"type\":\"scatter\"},{\"mode\":\"lines+markers\",\"name\":\"Oxford/AstraZeneca\",\"x\":[\"Alpha Severe Disease\",\"Delta Severe Disease\",\"Omicron Severe Disease\"],\"y\":[94,94,71],\"type\":\"scatter\"},{\"mode\":\"lines+markers\",\"name\":\"Pfizer/BioNTech\",\"x\":[\"Alpha Severe Disease\",\"Delta Severe Disease\",\"Omicron Severe Disease\"],\"y\":[95,95,72],\"type\":\"scatter\"},{\"mode\":\"lines+markers\",\"name\":\"Sinopharm/Beijing\",\"x\":[\"Alpha Severe Disease\",\"Delta Severe Disease\",\"Omicron Severe Disease\"],\"y\":[73,71,53],\"type\":\"scatter\"},{\"mode\":\"lines+markers\",\"name\":\"Sinovac\",\"x\":[\"Alpha Severe Disease\",\"Delta Severe Disease\",\"Omicron Severe Disease\"],\"y\":[50,49,37],\"type\":\"scatter\"},{\"mode\":\"lines+markers\",\"name\":\"SKYCovione\",\"x\":[\"Alpha Severe Disease\",\"Delta Severe Disease\",\"Omicron Severe Disease\"],\"y\":[75,73,55],\"type\":\"scatter\"},{\"mode\":\"lines+markers\",\"name\":\"Sputnik V\",\"x\":[\"Alpha Severe Disease\",\"Delta Severe Disease\",\"Omicron Severe Disease\"],\"y\":[92,89,67],\"type\":\"scatter\"},{\"mode\":\"lines+markers\",\"name\":\"Valneva\",\"x\":[\"Alpha Severe Disease\",\"Delta Severe Disease\",\"Omicron Severe Disease\"],\"y\":[75,73,55],\"type\":\"scatter\"}],                        {\"template\":{\"data\":{\"bar\":[{\"error_x\":{\"color\":\"#2a3f5f\"},\"error_y\":{\"color\":\"#2a3f5f\"},\"marker\":{\"line\":{\"color\":\"#E5ECF6\",\"width\":0.5},\"pattern\":{\"fillmode\":\"overlay\",\"size\":10,\"solidity\":0.2}},\"type\":\"bar\"}],\"barpolar\":[{\"marker\":{\"line\":{\"color\":\"#E5ECF6\",\"width\":0.5},\"pattern\":{\"fillmode\":\"overlay\",\"size\":10,\"solidity\":0.2}},\"type\":\"barpolar\"}],\"carpet\":[{\"aaxis\":{\"endlinecolor\":\"#2a3f5f\",\"gridcolor\":\"white\",\"linecolor\":\"white\",\"minorgridcolor\":\"white\",\"startlinecolor\":\"#2a3f5f\"},\"baxis\":{\"endlinecolor\":\"#2a3f5f\",\"gridcolor\":\"white\",\"linecolor\":\"white\",\"minorgridcolor\":\"white\",\"startlinecolor\":\"#2a3f5f\"},\"type\":\"carpet\"}],\"choropleth\":[{\"colorbar\":{\"outlinewidth\":0,\"ticks\":\"\"},\"type\":\"choropleth\"}],\"contour\":[{\"colorbar\":{\"outlinewidth\":0,\"ticks\":\"\"},\"colorscale\":[[0.0,\"#0d0887\"],[0.1111111111111111,\"#46039f\"],[0.2222222222222222,\"#7201a8\"],[0.3333333333333333,\"#9c179e\"],[0.4444444444444444,\"#bd3786\"],[0.5555555555555556,\"#d8576b\"],[0.6666666666666666,\"#ed7953\"],[0.7777777777777778,\"#fb9f3a\"],[0.8888888888888888,\"#fdca26\"],[1.0,\"#f0f921\"]],\"type\":\"contour\"}],\"contourcarpet\":[{\"colorbar\":{\"outlinewidth\":0,\"ticks\":\"\"},\"type\":\"contourcarpet\"}],\"heatmap\":[{\"colorbar\":{\"outlinewidth\":0,\"ticks\":\"\"},\"colorscale\":[[0.0,\"#0d0887\"],[0.1111111111111111,\"#46039f\"],[0.2222222222222222,\"#7201a8\"],[0.3333333333333333,\"#9c179e\"],[0.4444444444444444,\"#bd3786\"],[0.5555555555555556,\"#d8576b\"],[0.6666666666666666,\"#ed7953\"],[0.7777777777777778,\"#fb9f3a\"],[0.8888888888888888,\"#fdca26\"],[1.0,\"#f0f921\"]],\"type\":\"heatmap\"}],\"heatmapgl\":[{\"colorbar\":{\"outlinewidth\":0,\"ticks\":\"\"},\"colorscale\":[[0.0,\"#0d0887\"],[0.1111111111111111,\"#46039f\"],[0.2222222222222222,\"#7201a8\"],[0.3333333333333333,\"#9c179e\"],[0.4444444444444444,\"#bd3786\"],[0.5555555555555556,\"#d8576b\"],[0.6666666666666666,\"#ed7953\"],[0.7777777777777778,\"#fb9f3a\"],[0.8888888888888888,\"#fdca26\"],[1.0,\"#f0f921\"]],\"type\":\"heatmapgl\"}],\"histogram\":[{\"marker\":{\"pattern\":{\"fillmode\":\"overlay\",\"size\":10,\"solidity\":0.2}},\"type\":\"histogram\"}],\"histogram2d\":[{\"colorbar\":{\"outlinewidth\":0,\"ticks\":\"\"},\"colorscale\":[[0.0,\"#0d0887\"],[0.1111111111111111,\"#46039f\"],[0.2222222222222222,\"#7201a8\"],[0.3333333333333333,\"#9c179e\"],[0.4444444444444444,\"#bd3786\"],[0.5555555555555556,\"#d8576b\"],[0.6666666666666666,\"#ed7953\"],[0.7777777777777778,\"#fb9f3a\"],[0.8888888888888888,\"#fdca26\"],[1.0,\"#f0f921\"]],\"type\":\"histogram2d\"}],\"histogram2dcontour\":[{\"colorbar\":{\"outlinewidth\":0,\"ticks\":\"\"},\"colorscale\":[[0.0,\"#0d0887\"],[0.1111111111111111,\"#46039f\"],[0.2222222222222222,\"#7201a8\"],[0.3333333333333333,\"#9c179e\"],[0.4444444444444444,\"#bd3786\"],[0.5555555555555556,\"#d8576b\"],[0.6666666666666666,\"#ed7953\"],[0.7777777777777778,\"#fb9f3a\"],[0.8888888888888888,\"#fdca26\"],[1.0,\"#f0f921\"]],\"type\":\"histogram2dcontour\"}],\"mesh3d\":[{\"colorbar\":{\"outlinewidth\":0,\"ticks\":\"\"},\"type\":\"mesh3d\"}],\"parcoords\":[{\"line\":{\"colorbar\":{\"outlinewidth\":0,\"ticks\":\"\"}},\"type\":\"parcoords\"}],\"pie\":[{\"automargin\":true,\"type\":\"pie\"}],\"scatter\":[{\"marker\":{\"colorbar\":{\"outlinewidth\":0,\"ticks\":\"\"}},\"type\":\"scatter\"}],\"scatter3d\":[{\"line\":{\"colorbar\":{\"outlinewidth\":0,\"ticks\":\"\"}},\"marker\":{\"colorbar\":{\"outlinewidth\":0,\"ticks\":\"\"}},\"type\":\"scatter3d\"}],\"scattercarpet\":[{\"marker\":{\"colorbar\":{\"outlinewidth\":0,\"ticks\":\"\"}},\"type\":\"scattercarpet\"}],\"scattergeo\":[{\"marker\":{\"colorbar\":{\"outlinewidth\":0,\"ticks\":\"\"}},\"type\":\"scattergeo\"}],\"scattergl\":[{\"marker\":{\"colorbar\":{\"outlinewidth\":0,\"ticks\":\"\"}},\"type\":\"scattergl\"}],\"scattermapbox\":[{\"marker\":{\"colorbar\":{\"outlinewidth\":0,\"ticks\":\"\"}},\"type\":\"scattermapbox\"}],\"scatterpolar\":[{\"marker\":{\"colorbar\":{\"outlinewidth\":0,\"ticks\":\"\"}},\"type\":\"scatterpolar\"}],\"scatterpolargl\":[{\"marker\":{\"colorbar\":{\"outlinewidth\":0,\"ticks\":\"\"}},\"type\":\"scatterpolargl\"}],\"scatterternary\":[{\"marker\":{\"colorbar\":{\"outlinewidth\":0,\"ticks\":\"\"}},\"type\":\"scatterternary\"}],\"surface\":[{\"colorbar\":{\"outlinewidth\":0,\"ticks\":\"\"},\"colorscale\":[[0.0,\"#0d0887\"],[0.1111111111111111,\"#46039f\"],[0.2222222222222222,\"#7201a8\"],[0.3333333333333333,\"#9c179e\"],[0.4444444444444444,\"#bd3786\"],[0.5555555555555556,\"#d8576b\"],[0.6666666666666666,\"#ed7953\"],[0.7777777777777778,\"#fb9f3a\"],[0.8888888888888888,\"#fdca26\"],[1.0,\"#f0f921\"]],\"type\":\"surface\"}],\"table\":[{\"cells\":{\"fill\":{\"color\":\"#EBF0F8\"},\"line\":{\"color\":\"white\"}},\"header\":{\"fill\":{\"color\":\"#C8D4E3\"},\"line\":{\"color\":\"white\"}},\"type\":\"table\"}]},\"layout\":{\"annotationdefaults\":{\"arrowcolor\":\"#2a3f5f\",\"arrowhead\":0,\"arrowwidth\":1},\"autotypenumbers\":\"strict\",\"coloraxis\":{\"colorbar\":{\"outlinewidth\":0,\"ticks\":\"\"}},\"colorscale\":{\"diverging\":[[0,\"#8e0152\"],[0.1,\"#c51b7d\"],[0.2,\"#de77ae\"],[0.3,\"#f1b6da\"],[0.4,\"#fde0ef\"],[0.5,\"#f7f7f7\"],[0.6,\"#e6f5d0\"],[0.7,\"#b8e186\"],[0.8,\"#7fbc41\"],[0.9,\"#4d9221\"],[1,\"#276419\"]],\"sequential\":[[0.0,\"#0d0887\"],[0.1111111111111111,\"#46039f\"],[0.2222222222222222,\"#7201a8\"],[0.3333333333333333,\"#9c179e\"],[0.4444444444444444,\"#bd3786\"],[0.5555555555555556,\"#d8576b\"],[0.6666666666666666,\"#ed7953\"],[0.7777777777777778,\"#fb9f3a\"],[0.8888888888888888,\"#fdca26\"],[1.0,\"#f0f921\"]],\"sequentialminus\":[[0.0,\"#0d0887\"],[0.1111111111111111,\"#46039f\"],[0.2222222222222222,\"#7201a8\"],[0.3333333333333333,\"#9c179e\"],[0.4444444444444444,\"#bd3786\"],[0.5555555555555556,\"#d8576b\"],[0.6666666666666666,\"#ed7953\"],[0.7777777777777778,\"#fb9f3a\"],[0.8888888888888888,\"#fdca26\"],[1.0,\"#f0f921\"]]},\"colorway\":[\"#636efa\",\"#EF553B\",\"#00cc96\",\"#ab63fa\",\"#FFA15A\",\"#19d3f3\",\"#FF6692\",\"#B6E880\",\"#FF97FF\",\"#FECB52\"],\"font\":{\"color\":\"#2a3f5f\"},\"geo\":{\"bgcolor\":\"white\",\"lakecolor\":\"white\",\"landcolor\":\"#E5ECF6\",\"showlakes\":true,\"showland\":true,\"subunitcolor\":\"white\"},\"hoverlabel\":{\"align\":\"left\"},\"hovermode\":\"closest\",\"mapbox\":{\"style\":\"light\"},\"paper_bgcolor\":\"white\",\"plot_bgcolor\":\"#E5ECF6\",\"polar\":{\"angularaxis\":{\"gridcolor\":\"white\",\"linecolor\":\"white\",\"ticks\":\"\"},\"bgcolor\":\"#E5ECF6\",\"radialaxis\":{\"gridcolor\":\"white\",\"linecolor\":\"white\",\"ticks\":\"\"}},\"scene\":{\"xaxis\":{\"backgroundcolor\":\"#E5ECF6\",\"gridcolor\":\"white\",\"gridwidth\":2,\"linecolor\":\"white\",\"showbackground\":true,\"ticks\":\"\",\"zerolinecolor\":\"white\"},\"yaxis\":{\"backgroundcolor\":\"#E5ECF6\",\"gridcolor\":\"white\",\"gridwidth\":2,\"linecolor\":\"white\",\"showbackground\":true,\"ticks\":\"\",\"zerolinecolor\":\"white\"},\"zaxis\":{\"backgroundcolor\":\"#E5ECF6\",\"gridcolor\":\"white\",\"gridwidth\":2,\"linecolor\":\"white\",\"showbackground\":true,\"ticks\":\"\",\"zerolinecolor\":\"white\"}},\"shapedefaults\":{\"line\":{\"color\":\"#2a3f5f\"}},\"ternary\":{\"aaxis\":{\"gridcolor\":\"white\",\"linecolor\":\"white\",\"ticks\":\"\"},\"baxis\":{\"gridcolor\":\"white\",\"linecolor\":\"white\",\"ticks\":\"\"},\"bgcolor\":\"#E5ECF6\",\"caxis\":{\"gridcolor\":\"white\",\"linecolor\":\"white\",\"ticks\":\"\"}},\"title\":{\"x\":0.05},\"xaxis\":{\"automargin\":true,\"gridcolor\":\"white\",\"linecolor\":\"white\",\"ticks\":\"\",\"title\":{\"standoff\":15},\"zerolinecolor\":\"white\",\"zerolinewidth\":2},\"yaxis\":{\"automargin\":true,\"gridcolor\":\"white\",\"linecolor\":\"white\",\"ticks\":\"\",\"title\":{\"standoff\":15},\"zerolinecolor\":\"white\",\"zerolinewidth\":2}}},\"title\":{\"text\":\"Vaccine Efficacy at the Prevention of Severe Disease\"},\"xaxis\":{\"title\":{\"text\":\"COVID-19 Variants\"}},\"yaxis\":{\"title\":{\"text\":\"Vaccine Efficacy\"}},\"legend\":{\"title\":{\"text\":\"Vaccines\"}}},                        {\"responsive\": true}                    ).then(function(){\n",
       "                            \n",
       "var gd = document.getElementById('05fa7e4b-8bea-4b52-803f-5485caf03260');\n",
       "var x = new MutationObserver(function (mutations, observer) {{\n",
       "        var display = window.getComputedStyle(gd).display;\n",
       "        if (!display || display === 'none') {{\n",
       "            console.log([gd, 'removed!']);\n",
       "            Plotly.purge(gd);\n",
       "            observer.disconnect();\n",
       "        }}\n",
       "}});\n",
       "\n",
       "// Listen for the removal of the full notebook cells\n",
       "var notebookContainer = gd.closest('#notebook-container');\n",
       "if (notebookContainer) {{\n",
       "    x.observe(notebookContainer, {childList: true});\n",
       "}}\n",
       "\n",
       "// Listen for the clearing of the current output cell\n",
       "var outputEl = gd.closest('.output');\n",
       "if (outputEl) {{\n",
       "    x.observe(outputEl, {childList: true});\n",
       "}}\n",
       "\n",
       "                        })                };                });            </script>        </div>"
      ]
     },
     "metadata": {},
     "output_type": "display_data"
    }
   ],
   "source": [
    "fig1=go.Figure()\n",
    "\n",
    "df_graph1=df_efficacy_displayed[[\"Vaccine_Manufacturer\",\"Alpha Severe Disease\",\"Delta Severe Disease\",\"Omicron Severe Disease\"]]\n",
    "df_graph1.index=df_graph1[\"Vaccine_Manufacturer\"]\n",
    "df_graph1.drop([\"Vaccine_Manufacturer\"],axis=1,inplace=True)\n",
    "df_graph1\n",
    "\n",
    "for i in df_graph1.index:\n",
    "    fig1.add_trace(go.Scatter(x=df_graph1.columns,y=df_graph1.loc[i,[\"Alpha Severe Disease\",\"Delta Severe Disease\",\"Omicron Severe Disease\"]],mode='lines+markers',name=i))\n",
    "\n",
    "fig1.update_layout(\n",
    "   title=\"Vaccine Efficacy at the Prevention of Severe Disease\",\n",
    "    xaxis_title=\"COVID-19 Variants\",\n",
    "    yaxis_title=\"Vaccine Efficacy\",\n",
    "    legend_title=\"Vaccines\",\n",
    ")\n",
    "fig1.show()"
   ]
  },
  {
   "cell_type": "code",
   "execution_count": 92,
   "id": "56369040",
   "metadata": {},
   "outputs": [
    {
     "data": {
      "text/plain": [
       "{'Severe Disease': {'CanSino': 48,\n",
       "  'Covaxin': 57,\n",
       "  'Johnson&Johnson': 57,\n",
       "  'Medicago': 65,\n",
       "  'Moderna': 73,\n",
       "  'Novavax': 65,\n",
       "  'Oxford/AstraZeneca': 71,\n",
       "  'Pfizer/BioNTech': 72,\n",
       "  'Sinopharm/Beijing': 53,\n",
       "  'Sinovac': 37,\n",
       "  'SKYCovione': 55,\n",
       "  'Sputnik V': 67,\n",
       "  'Valneva': 55},\n",
       " 'Infection': {'CanSino': 32,\n",
       "  'Covaxin': 38,\n",
       "  'Johnson&Johnson': 33,\n",
       "  'Medicago': 43,\n",
       "  'Moderna': 48,\n",
       "  'Novavax': 43,\n",
       "  'Oxford/AstraZeneca': 36,\n",
       "  'Pfizer/BioNTech': 44,\n",
       "  'Sinopharm/Beijing': 35,\n",
       "  'Sinovac': 24,\n",
       "  'SKYCovione': 36,\n",
       "  'Sputnik V': 44,\n",
       "  'Valneva': 36}}"
      ]
     },
     "execution_count": 92,
     "metadata": {},
     "output_type": "execute_result"
    }
   ],
   "source": [
    "df_ancestral=df_efficacy[[\"Vaccine_Manufacturer\",\"Severe Disease\",\"Infection\"]]\n",
    "df_ancestral=df_ancestral.drop([0,14,15],axis=0)\n",
    "df_ancestral=df_ancestral.set_index(\"Vaccine_Manufacturer\")\n",
    "dict_ancestral=df_ancestral.to_dict()\n",
    "dict_ancestral\n",
    "\n",
    "df_alpha=df_efficacy[[\"Vaccine_Manufacturer\",\"Severe Disease.1\",\"Infection.1\"]]\n",
    "df_alpha=df_alpha.drop([0,14,15],axis=0)\n",
    "df_alpha.columns=[\"Vaccine_Manufacturer\",\"Severe Disease\",\"Infection\"]\n",
    "df_alpha=df_alpha.set_index(\"Vaccine_Manufacturer\")\n",
    "dict_alpha=df_alpha.to_dict()\n",
    "dict_alpha\n",
    "\n",
    "df_beta=df_efficacy[[\"Vaccine_Manufacturer\",\"Severe Disease.2\",\"Infection.2\"]]\n",
    "df_beta=df_beta.drop([0,14,15],axis=0)\n",
    "df_beta.columns=[\"Vaccine_Manufacturer\",\"Severe Disease\",\"Infection\"]\n",
    "df_beta=df_beta.set_index(\"Vaccine_Manufacturer\")\n",
    "dict_beta=df_beta.to_dict()\n",
    "dict_beta\n",
    "\n",
    "df_gamma=df_efficacy[[\"Vaccine_Manufacturer\",\"Severe Disease.3\",\"Infection.3\"]]\n",
    "df_gamma=df_gamma.drop([0,14,15],axis=0)\n",
    "df_gamma.columns=[\"Vaccine_Manufacturer\",\"Severe Disease\",\"Infection\"]\n",
    "df_gamma=df_gamma.set_index(\"Vaccine_Manufacturer\")\n",
    "dict_gamma=df_gamma.to_dict()\n",
    "dict_gamma\n",
    "\n",
    "df_delta=df_efficacy[[\"Vaccine_Manufacturer\",\"Severe Disease.4\",\"Infection.4\"]]\n",
    "df_delta=df_delta.drop([0,14,15],axis=0)\n",
    "df_delta.columns=[\"Vaccine_Manufacturer\",\"Severe Disease\",\"Infection\"]\n",
    "df_delta=df_delta.set_index(\"Vaccine_Manufacturer\")\n",
    "dict_delta=df_delta.to_dict()\n",
    "dict_delta\n",
    "\n",
    "df_omicron=df_efficacy[[\"Vaccine_Manufacturer\",\"Severe Disease.5\",\"Infection.5\"]]\n",
    "df_omicron=df_omicron.drop([0,14,15],axis=0)\n",
    "df_omicron.columns=[\"Vaccine_Manufacturer\",\"Severe Disease\",\"Infection\"]\n",
    "df_omicron=df_omicron.set_index(\"Vaccine_Manufacturer\")\n",
    "dict_omicron=df_omicron.to_dict()\n",
    "dict_omicron"
   ]
  },
  {
   "cell_type": "markdown",
   "id": "e5629837",
   "metadata": {},
   "source": [
    "# Vaccine Data"
   ]
  },
  {
   "cell_type": "code",
   "execution_count": 108,
   "id": "5124d4cc",
   "metadata": {},
   "outputs": [
    {
     "data": {
      "text/html": [
       "<div>\n",
       "<style scoped>\n",
       "    .dataframe tbody tr th:only-of-type {\n",
       "        vertical-align: middle;\n",
       "    }\n",
       "\n",
       "    .dataframe tbody tr th {\n",
       "        vertical-align: top;\n",
       "    }\n",
       "\n",
       "    .dataframe thead th {\n",
       "        text-align: right;\n",
       "    }\n",
       "</style>\n",
       "<table border=\"1\" class=\"dataframe\">\n",
       "  <thead>\n",
       "    <tr style=\"text-align: right;\">\n",
       "      <th></th>\n",
       "      <th>Unnamed: 0</th>\n",
       "      <th>Unnamed: 1</th>\n",
       "      <th>Unnamed: 2</th>\n",
       "      <th>Unnamed: 3</th>\n",
       "      <th>Protection from Ancestral var</th>\n",
       "      <th>Unnamed: 5</th>\n",
       "      <th>Protection from Alpha var</th>\n",
       "      <th>Unnamed: 7</th>\n",
       "      <th>Protection from Beta var</th>\n",
       "      <th>Beta</th>\n",
       "      <th>Protection from Gamma var</th>\n",
       "      <th>Gamma</th>\n",
       "      <th>Protection from Delta var</th>\n",
       "      <th>Delta</th>\n",
       "      <th>Protection from Omicron var</th>\n",
       "      <th>Omicron</th>\n",
       "    </tr>\n",
       "  </thead>\n",
       "  <tbody>\n",
       "    <tr>\n",
       "      <th>0</th>\n",
       "      <td>Country</td>\n",
       "      <td>Date</td>\n",
       "      <td>Vaccine_Manufacturer</td>\n",
       "      <td>Total_Vaccinations</td>\n",
       "      <td>Severe Disease</td>\n",
       "      <td>Infection</td>\n",
       "      <td>Severe Disease</td>\n",
       "      <td>Infection</td>\n",
       "      <td>Severe Disease</td>\n",
       "      <td>Infection</td>\n",
       "      <td>Severe Disease</td>\n",
       "      <td>Infection</td>\n",
       "      <td>Severe Disease</td>\n",
       "      <td>Infection</td>\n",
       "      <td>Severe Disease</td>\n",
       "      <td>Infection</td>\n",
       "    </tr>\n",
       "    <tr>\n",
       "      <th>1</th>\n",
       "      <td>Argentina</td>\n",
       "      <td>2020-12-29 00:00:00</td>\n",
       "      <td>Oxford/AstraZeneca</td>\n",
       "      <td>1</td>\n",
       "      <td>0.94</td>\n",
       "      <td>0.63</td>\n",
       "      <td>0.94</td>\n",
       "      <td>0.63</td>\n",
       "      <td>0.94</td>\n",
       "      <td>0.69</td>\n",
       "      <td>0.94</td>\n",
       "      <td>0.69</td>\n",
       "      <td>0.94</td>\n",
       "      <td>0.69</td>\n",
       "      <td>0.71</td>\n",
       "      <td>0.36</td>\n",
       "    </tr>\n",
       "    <tr>\n",
       "      <th>2</th>\n",
       "      <td>Argentina</td>\n",
       "      <td>2020-12-29 00:00:00</td>\n",
       "      <td>Sinopharm/Beijing</td>\n",
       "      <td>1</td>\n",
       "      <td>0.73</td>\n",
       "      <td>0.68</td>\n",
       "      <td>0.73</td>\n",
       "      <td>0.68</td>\n",
       "      <td>0.71</td>\n",
       "      <td>0.67</td>\n",
       "      <td>0.71</td>\n",
       "      <td>0.67</td>\n",
       "      <td>0.71</td>\n",
       "      <td>0.67</td>\n",
       "      <td>0.53</td>\n",
       "      <td>0.35</td>\n",
       "    </tr>\n",
       "    <tr>\n",
       "      <th>3</th>\n",
       "      <td>Argentina</td>\n",
       "      <td>2020-12-29 00:00:00</td>\n",
       "      <td>Sputnik V</td>\n",
       "      <td>20488</td>\n",
       "      <td>18848.96</td>\n",
       "      <td>17619.68</td>\n",
       "      <td>18848.96</td>\n",
       "      <td>17619.68</td>\n",
       "      <td>18234.32</td>\n",
       "      <td>17414.8</td>\n",
       "      <td>18234.32</td>\n",
       "      <td>17414.8</td>\n",
       "      <td>18234.32</td>\n",
       "      <td>17414.8</td>\n",
       "      <td>11268.4</td>\n",
       "      <td>7375.68</td>\n",
       "    </tr>\n",
       "    <tr>\n",
       "      <th>4</th>\n",
       "      <td>Argentina</td>\n",
       "      <td>2020-12-30 00:00:00</td>\n",
       "      <td>Sputnik V</td>\n",
       "      <td>40590</td>\n",
       "      <td>37342.8</td>\n",
       "      <td>34907.4</td>\n",
       "      <td>37342.8</td>\n",
       "      <td>34907.4</td>\n",
       "      <td>36125.1</td>\n",
       "      <td>34501.5</td>\n",
       "      <td>36125.1</td>\n",
       "      <td>34501.5</td>\n",
       "      <td>36125.1</td>\n",
       "      <td>34501.5</td>\n",
       "      <td>22324.5</td>\n",
       "      <td>14612.4</td>\n",
       "    </tr>\n",
       "    <tr>\n",
       "      <th>...</th>\n",
       "      <td>...</td>\n",
       "      <td>...</td>\n",
       "      <td>...</td>\n",
       "      <td>...</td>\n",
       "      <td>...</td>\n",
       "      <td>...</td>\n",
       "      <td>...</td>\n",
       "      <td>...</td>\n",
       "      <td>...</td>\n",
       "      <td>...</td>\n",
       "      <td>...</td>\n",
       "      <td>...</td>\n",
       "      <td>...</td>\n",
       "      <td>...</td>\n",
       "      <td>...</td>\n",
       "      <td>...</td>\n",
       "    </tr>\n",
       "    <tr>\n",
       "      <th>48146</th>\n",
       "      <td>European Union</td>\n",
       "      <td>2022-10-17 00:00:00</td>\n",
       "      <td>Pfizer/BioNTech</td>\n",
       "      <td>633735112</td>\n",
       "      <td>602048356.4</td>\n",
       "      <td>545012196.32</td>\n",
       "      <td>602048356.4</td>\n",
       "      <td>545012196.32</td>\n",
       "      <td>602048356.4</td>\n",
       "      <td>532337494.08</td>\n",
       "      <td>602048356.4</td>\n",
       "      <td>532337494.08</td>\n",
       "      <td>602048356.4</td>\n",
       "      <td>532337494.08</td>\n",
       "      <td>456289280.64</td>\n",
       "      <td>0.73</td>\n",
       "    </tr>\n",
       "    <tr>\n",
       "      <th>48147</th>\n",
       "      <td>European Union</td>\n",
       "      <td>2022-10-17 00:00:00</td>\n",
       "      <td>Sinopharm/Beijing</td>\n",
       "      <td>2317509</td>\n",
       "      <td>1691781.57</td>\n",
       "      <td>1575906.12</td>\n",
       "      <td>1691781.57</td>\n",
       "      <td>1575906.12</td>\n",
       "      <td>1645431.39</td>\n",
       "      <td>1552731.03</td>\n",
       "      <td>1645431.39</td>\n",
       "      <td>1552731.03</td>\n",
       "      <td>1645431.39</td>\n",
       "      <td>1552731.03</td>\n",
       "      <td>1228279.77</td>\n",
       "      <td>811128.15</td>\n",
       "    </tr>\n",
       "    <tr>\n",
       "      <th>48148</th>\n",
       "      <td>European Union</td>\n",
       "      <td>2022-10-17 00:00:00</td>\n",
       "      <td>Sinovac</td>\n",
       "      <td>6772</td>\n",
       "      <td>3386</td>\n",
       "      <td>3182.84</td>\n",
       "      <td>3386</td>\n",
       "      <td>3182.84</td>\n",
       "      <td>3318.28</td>\n",
       "      <td>3115.12</td>\n",
       "      <td>3318.28</td>\n",
       "      <td>3115.12</td>\n",
       "      <td>3318.28</td>\n",
       "      <td>3115.12</td>\n",
       "      <td>2505.64</td>\n",
       "      <td>1625.28</td>\n",
       "    </tr>\n",
       "    <tr>\n",
       "      <th>48149</th>\n",
       "      <td>European Union</td>\n",
       "      <td>2022-10-17 00:00:00</td>\n",
       "      <td>Sputnik V</td>\n",
       "      <td>1845376</td>\n",
       "      <td>1697745.92</td>\n",
       "      <td>1587023.36</td>\n",
       "      <td>1697745.92</td>\n",
       "      <td>1587023.36</td>\n",
       "      <td>1642384.64</td>\n",
       "      <td>1568569.6</td>\n",
       "      <td>1642384.64</td>\n",
       "      <td>1568569.6</td>\n",
       "      <td>1642384.64</td>\n",
       "      <td>1568569.6</td>\n",
       "      <td>1014956.8</td>\n",
       "      <td>664335.36</td>\n",
       "    </tr>\n",
       "    <tr>\n",
       "      <th>48150</th>\n",
       "      <td>European Union</td>\n",
       "      <td>2022-10-17 00:00:00</td>\n",
       "      <td>Valneva</td>\n",
       "      <td>2112</td>\n",
       "      <td>1584</td>\n",
       "      <td>1478.4</td>\n",
       "      <td>1584</td>\n",
       "      <td>1478.4</td>\n",
       "      <td>1541.76</td>\n",
       "      <td>1457.28</td>\n",
       "      <td>1541.76</td>\n",
       "      <td>1457.28</td>\n",
       "      <td>1541.76</td>\n",
       "      <td>1457.28</td>\n",
       "      <td>1161.6</td>\n",
       "      <td>760.32</td>\n",
       "    </tr>\n",
       "  </tbody>\n",
       "</table>\n",
       "<p>48151 rows × 16 columns</p>\n",
       "</div>"
      ],
      "text/plain": [
       "           Unnamed: 0           Unnamed: 1            Unnamed: 2  \\\n",
       "0             Country                 Date  Vaccine_Manufacturer   \n",
       "1           Argentina  2020-12-29 00:00:00    Oxford/AstraZeneca   \n",
       "2           Argentina  2020-12-29 00:00:00     Sinopharm/Beijing   \n",
       "3           Argentina  2020-12-29 00:00:00             Sputnik V   \n",
       "4           Argentina  2020-12-30 00:00:00             Sputnik V   \n",
       "...               ...                  ...                   ...   \n",
       "48146  European Union  2022-10-17 00:00:00       Pfizer/BioNTech   \n",
       "48147  European Union  2022-10-17 00:00:00     Sinopharm/Beijing   \n",
       "48148  European Union  2022-10-17 00:00:00               Sinovac   \n",
       "48149  European Union  2022-10-17 00:00:00             Sputnik V   \n",
       "48150  European Union  2022-10-17 00:00:00               Valneva   \n",
       "\n",
       "               Unnamed: 3 Protection from Ancestral var    Unnamed: 5  \\\n",
       "0      Total_Vaccinations                Severe Disease     Infection   \n",
       "1                       1                          0.94          0.63   \n",
       "2                       1                          0.73          0.68   \n",
       "3                   20488                      18848.96      17619.68   \n",
       "4                   40590                       37342.8       34907.4   \n",
       "...                   ...                           ...           ...   \n",
       "48146           633735112                   602048356.4  545012196.32   \n",
       "48147             2317509                    1691781.57    1575906.12   \n",
       "48148                6772                          3386       3182.84   \n",
       "48149             1845376                    1697745.92    1587023.36   \n",
       "48150                2112                          1584        1478.4   \n",
       "\n",
       "      Protection from Alpha var    Unnamed: 7 Protection from Beta var  \\\n",
       "0                Severe Disease     Infection           Severe Disease   \n",
       "1                          0.94          0.63                     0.94   \n",
       "2                          0.73          0.68                     0.71   \n",
       "3                      18848.96      17619.68                 18234.32   \n",
       "4                       37342.8       34907.4                  36125.1   \n",
       "...                         ...           ...                      ...   \n",
       "48146               602048356.4  545012196.32              602048356.4   \n",
       "48147                1691781.57    1575906.12               1645431.39   \n",
       "48148                      3386       3182.84                  3318.28   \n",
       "48149                1697745.92    1587023.36               1642384.64   \n",
       "48150                      1584        1478.4                  1541.76   \n",
       "\n",
       "               Beta Protection from Gamma var         Gamma  \\\n",
       "0         Infection            Severe Disease     Infection   \n",
       "1              0.69                      0.94          0.69   \n",
       "2              0.67                      0.71          0.67   \n",
       "3           17414.8                  18234.32       17414.8   \n",
       "4           34501.5                   36125.1       34501.5   \n",
       "...             ...                       ...           ...   \n",
       "48146  532337494.08               602048356.4  532337494.08   \n",
       "48147    1552731.03                1645431.39    1552731.03   \n",
       "48148       3115.12                   3318.28       3115.12   \n",
       "48149     1568569.6                1642384.64     1568569.6   \n",
       "48150       1457.28                   1541.76       1457.28   \n",
       "\n",
       "      Protection from Delta var         Delta Protection from Omicron var  \\\n",
       "0                Severe Disease     Infection              Severe Disease   \n",
       "1                          0.94          0.69                        0.71   \n",
       "2                          0.71          0.67                        0.53   \n",
       "3                      18234.32       17414.8                     11268.4   \n",
       "4                       36125.1       34501.5                     22324.5   \n",
       "...                         ...           ...                         ...   \n",
       "48146               602048356.4  532337494.08                456289280.64   \n",
       "48147                1645431.39    1552731.03                  1228279.77   \n",
       "48148                   3318.28       3115.12                     2505.64   \n",
       "48149                1642384.64     1568569.6                   1014956.8   \n",
       "48150                   1541.76       1457.28                      1161.6   \n",
       "\n",
       "         Omicron  \n",
       "0      Infection  \n",
       "1           0.36  \n",
       "2           0.35  \n",
       "3        7375.68  \n",
       "4        14612.4  \n",
       "...          ...  \n",
       "48146       0.73  \n",
       "48147  811128.15  \n",
       "48148    1625.28  \n",
       "48149  664335.36  \n",
       "48150     760.32  \n",
       "\n",
       "[48151 rows x 16 columns]"
      ]
     },
     "execution_count": 108,
     "metadata": {},
     "output_type": "execute_result"
    }
   ],
   "source": [
    "df=pd.read_excel(\"data/vaccinations-by-manufacturer-with-vaccine-efficacy-KM.xlsx\")\n",
    "df"
   ]
  },
  {
   "cell_type": "code",
   "execution_count": 110,
   "id": "92e419b9",
   "metadata": {},
   "outputs": [
    {
     "data": {
      "text/plain": [
       "45"
      ]
     },
     "execution_count": 110,
     "metadata": {},
     "output_type": "execute_result"
    }
   ],
   "source": [
    "len(set(list(df[\"Unnamed: 0\"])))"
   ]
  },
  {
   "cell_type": "code",
   "execution_count": 94,
   "id": "8d22b853",
   "metadata": {},
   "outputs": [
    {
     "data": {
      "text/html": [
       "<div>\n",
       "<style scoped>\n",
       "    .dataframe tbody tr th:only-of-type {\n",
       "        vertical-align: middle;\n",
       "    }\n",
       "\n",
       "    .dataframe tbody tr th {\n",
       "        vertical-align: top;\n",
       "    }\n",
       "\n",
       "    .dataframe thead th {\n",
       "        text-align: right;\n",
       "    }\n",
       "</style>\n",
       "<table border=\"1\" class=\"dataframe\">\n",
       "  <thead>\n",
       "    <tr style=\"text-align: right;\">\n",
       "      <th></th>\n",
       "      <th>Country</th>\n",
       "      <th>Date</th>\n",
       "      <th>vaccine</th>\n",
       "      <th>total vaccinations</th>\n",
       "      <th>Ancestral Severe Disease</th>\n",
       "      <th>Ancestral Infection</th>\n",
       "      <th>Alpha Severe Disease</th>\n",
       "      <th>Alpha Infection</th>\n",
       "      <th>Beta Severe Disease</th>\n",
       "      <th>Beta Infection</th>\n",
       "      <th>Gamma Severe Disease</th>\n",
       "      <th>Gamma Infection</th>\n",
       "      <th>Delta Severe Disease</th>\n",
       "      <th>Delta Infection</th>\n",
       "      <th>Omicron Severe Disease</th>\n",
       "      <th>Omicron Infection</th>\n",
       "    </tr>\n",
       "  </thead>\n",
       "  <tbody>\n",
       "    <tr>\n",
       "      <th>1</th>\n",
       "      <td>Argentina</td>\n",
       "      <td>2020-12-29 00:00:00</td>\n",
       "      <td>Oxford/AstraZeneca</td>\n",
       "      <td>1</td>\n",
       "      <td>0.94</td>\n",
       "      <td>0.63</td>\n",
       "      <td>0.94</td>\n",
       "      <td>0.63</td>\n",
       "      <td>0.94</td>\n",
       "      <td>0.69</td>\n",
       "      <td>0.94</td>\n",
       "      <td>0.69</td>\n",
       "      <td>0.94</td>\n",
       "      <td>0.69</td>\n",
       "      <td>0.71</td>\n",
       "      <td>0.36</td>\n",
       "    </tr>\n",
       "    <tr>\n",
       "      <th>2</th>\n",
       "      <td>Argentina</td>\n",
       "      <td>2020-12-29 00:00:00</td>\n",
       "      <td>Sinopharm/Beijing</td>\n",
       "      <td>1</td>\n",
       "      <td>0.73</td>\n",
       "      <td>0.68</td>\n",
       "      <td>0.73</td>\n",
       "      <td>0.68</td>\n",
       "      <td>0.71</td>\n",
       "      <td>0.67</td>\n",
       "      <td>0.71</td>\n",
       "      <td>0.67</td>\n",
       "      <td>0.71</td>\n",
       "      <td>0.67</td>\n",
       "      <td>0.53</td>\n",
       "      <td>0.35</td>\n",
       "    </tr>\n",
       "    <tr>\n",
       "      <th>3</th>\n",
       "      <td>Argentina</td>\n",
       "      <td>2020-12-29 00:00:00</td>\n",
       "      <td>Sputnik V</td>\n",
       "      <td>20488</td>\n",
       "      <td>18848.96</td>\n",
       "      <td>17619.68</td>\n",
       "      <td>18848.96</td>\n",
       "      <td>17619.68</td>\n",
       "      <td>18234.32</td>\n",
       "      <td>17414.8</td>\n",
       "      <td>18234.32</td>\n",
       "      <td>17414.8</td>\n",
       "      <td>18234.32</td>\n",
       "      <td>17414.8</td>\n",
       "      <td>11268.4</td>\n",
       "      <td>7375.68</td>\n",
       "    </tr>\n",
       "    <tr>\n",
       "      <th>4</th>\n",
       "      <td>Argentina</td>\n",
       "      <td>2020-12-30 00:00:00</td>\n",
       "      <td>Sputnik V</td>\n",
       "      <td>40590</td>\n",
       "      <td>37342.8</td>\n",
       "      <td>34907.4</td>\n",
       "      <td>37342.8</td>\n",
       "      <td>34907.4</td>\n",
       "      <td>36125.1</td>\n",
       "      <td>34501.5</td>\n",
       "      <td>36125.1</td>\n",
       "      <td>34501.5</td>\n",
       "      <td>36125.1</td>\n",
       "      <td>34501.5</td>\n",
       "      <td>22324.5</td>\n",
       "      <td>14612.4</td>\n",
       "    </tr>\n",
       "    <tr>\n",
       "      <th>5</th>\n",
       "      <td>Argentina</td>\n",
       "      <td>2020-12-31 00:00:00</td>\n",
       "      <td>Sputnik V</td>\n",
       "      <td>43396</td>\n",
       "      <td>39924.32</td>\n",
       "      <td>37320.56</td>\n",
       "      <td>39924.32</td>\n",
       "      <td>37320.56</td>\n",
       "      <td>38622.44</td>\n",
       "      <td>36886.6</td>\n",
       "      <td>38622.44</td>\n",
       "      <td>36886.6</td>\n",
       "      <td>38622.44</td>\n",
       "      <td>36886.6</td>\n",
       "      <td>23867.8</td>\n",
       "      <td>15622.56</td>\n",
       "    </tr>\n",
       "    <tr>\n",
       "      <th>...</th>\n",
       "      <td>...</td>\n",
       "      <td>...</td>\n",
       "      <td>...</td>\n",
       "      <td>...</td>\n",
       "      <td>...</td>\n",
       "      <td>...</td>\n",
       "      <td>...</td>\n",
       "      <td>...</td>\n",
       "      <td>...</td>\n",
       "      <td>...</td>\n",
       "      <td>...</td>\n",
       "      <td>...</td>\n",
       "      <td>...</td>\n",
       "      <td>...</td>\n",
       "      <td>...</td>\n",
       "      <td>...</td>\n",
       "    </tr>\n",
       "    <tr>\n",
       "      <th>48146</th>\n",
       "      <td>European Union</td>\n",
       "      <td>2022-10-17 00:00:00</td>\n",
       "      <td>Pfizer/BioNTech</td>\n",
       "      <td>633735112</td>\n",
       "      <td>602048356.4</td>\n",
       "      <td>545012196.32</td>\n",
       "      <td>602048356.4</td>\n",
       "      <td>545012196.32</td>\n",
       "      <td>602048356.4</td>\n",
       "      <td>532337494.08</td>\n",
       "      <td>602048356.4</td>\n",
       "      <td>532337494.08</td>\n",
       "      <td>602048356.4</td>\n",
       "      <td>532337494.08</td>\n",
       "      <td>456289280.64</td>\n",
       "      <td>0.73</td>\n",
       "    </tr>\n",
       "    <tr>\n",
       "      <th>48147</th>\n",
       "      <td>European Union</td>\n",
       "      <td>2022-10-17 00:00:00</td>\n",
       "      <td>Sinopharm/Beijing</td>\n",
       "      <td>2317509</td>\n",
       "      <td>1691781.57</td>\n",
       "      <td>1575906.12</td>\n",
       "      <td>1691781.57</td>\n",
       "      <td>1575906.12</td>\n",
       "      <td>1645431.39</td>\n",
       "      <td>1552731.03</td>\n",
       "      <td>1645431.39</td>\n",
       "      <td>1552731.03</td>\n",
       "      <td>1645431.39</td>\n",
       "      <td>1552731.03</td>\n",
       "      <td>1228279.77</td>\n",
       "      <td>811128.15</td>\n",
       "    </tr>\n",
       "    <tr>\n",
       "      <th>48148</th>\n",
       "      <td>European Union</td>\n",
       "      <td>2022-10-17 00:00:00</td>\n",
       "      <td>Sinovac</td>\n",
       "      <td>6772</td>\n",
       "      <td>3386</td>\n",
       "      <td>3182.84</td>\n",
       "      <td>3386</td>\n",
       "      <td>3182.84</td>\n",
       "      <td>3318.28</td>\n",
       "      <td>3115.12</td>\n",
       "      <td>3318.28</td>\n",
       "      <td>3115.12</td>\n",
       "      <td>3318.28</td>\n",
       "      <td>3115.12</td>\n",
       "      <td>2505.64</td>\n",
       "      <td>1625.28</td>\n",
       "    </tr>\n",
       "    <tr>\n",
       "      <th>48149</th>\n",
       "      <td>European Union</td>\n",
       "      <td>2022-10-17 00:00:00</td>\n",
       "      <td>Sputnik V</td>\n",
       "      <td>1845376</td>\n",
       "      <td>1697745.92</td>\n",
       "      <td>1587023.36</td>\n",
       "      <td>1697745.92</td>\n",
       "      <td>1587023.36</td>\n",
       "      <td>1642384.64</td>\n",
       "      <td>1568569.6</td>\n",
       "      <td>1642384.64</td>\n",
       "      <td>1568569.6</td>\n",
       "      <td>1642384.64</td>\n",
       "      <td>1568569.6</td>\n",
       "      <td>1014956.8</td>\n",
       "      <td>664335.36</td>\n",
       "    </tr>\n",
       "    <tr>\n",
       "      <th>48150</th>\n",
       "      <td>European Union</td>\n",
       "      <td>2022-10-17 00:00:00</td>\n",
       "      <td>Valneva</td>\n",
       "      <td>2112</td>\n",
       "      <td>1584</td>\n",
       "      <td>1478.4</td>\n",
       "      <td>1584</td>\n",
       "      <td>1478.4</td>\n",
       "      <td>1541.76</td>\n",
       "      <td>1457.28</td>\n",
       "      <td>1541.76</td>\n",
       "      <td>1457.28</td>\n",
       "      <td>1541.76</td>\n",
       "      <td>1457.28</td>\n",
       "      <td>1161.6</td>\n",
       "      <td>760.32</td>\n",
       "    </tr>\n",
       "  </tbody>\n",
       "</table>\n",
       "<p>48150 rows × 16 columns</p>\n",
       "</div>"
      ],
      "text/plain": [
       "              Country                 Date             vaccine  \\\n",
       "1           Argentina  2020-12-29 00:00:00  Oxford/AstraZeneca   \n",
       "2           Argentina  2020-12-29 00:00:00   Sinopharm/Beijing   \n",
       "3           Argentina  2020-12-29 00:00:00           Sputnik V   \n",
       "4           Argentina  2020-12-30 00:00:00           Sputnik V   \n",
       "5           Argentina  2020-12-31 00:00:00           Sputnik V   \n",
       "...               ...                  ...                 ...   \n",
       "48146  European Union  2022-10-17 00:00:00     Pfizer/BioNTech   \n",
       "48147  European Union  2022-10-17 00:00:00   Sinopharm/Beijing   \n",
       "48148  European Union  2022-10-17 00:00:00             Sinovac   \n",
       "48149  European Union  2022-10-17 00:00:00           Sputnik V   \n",
       "48150  European Union  2022-10-17 00:00:00             Valneva   \n",
       "\n",
       "      total vaccinations Ancestral Severe Disease Ancestral Infection  \\\n",
       "1                      1                     0.94                0.63   \n",
       "2                      1                     0.73                0.68   \n",
       "3                  20488                 18848.96            17619.68   \n",
       "4                  40590                  37342.8             34907.4   \n",
       "5                  43396                 39924.32            37320.56   \n",
       "...                  ...                      ...                 ...   \n",
       "48146          633735112              602048356.4        545012196.32   \n",
       "48147            2317509               1691781.57          1575906.12   \n",
       "48148               6772                     3386             3182.84   \n",
       "48149            1845376               1697745.92          1587023.36   \n",
       "48150               2112                     1584              1478.4   \n",
       "\n",
       "      Alpha Severe Disease Alpha Infection Beta Severe Disease Beta Infection  \\\n",
       "1                     0.94            0.63                0.94           0.69   \n",
       "2                     0.73            0.68                0.71           0.67   \n",
       "3                 18848.96        17619.68            18234.32        17414.8   \n",
       "4                  37342.8         34907.4             36125.1        34501.5   \n",
       "5                 39924.32        37320.56            38622.44        36886.6   \n",
       "...                    ...             ...                 ...            ...   \n",
       "48146          602048356.4    545012196.32         602048356.4   532337494.08   \n",
       "48147           1691781.57      1575906.12          1645431.39     1552731.03   \n",
       "48148                 3386         3182.84             3318.28        3115.12   \n",
       "48149           1697745.92      1587023.36          1642384.64      1568569.6   \n",
       "48150                 1584          1478.4             1541.76        1457.28   \n",
       "\n",
       "      Gamma Severe Disease Gamma Infection Delta Severe Disease  \\\n",
       "1                     0.94            0.69                 0.94   \n",
       "2                     0.71            0.67                 0.71   \n",
       "3                 18234.32         17414.8             18234.32   \n",
       "4                  36125.1         34501.5              36125.1   \n",
       "5                 38622.44         36886.6             38622.44   \n",
       "...                    ...             ...                  ...   \n",
       "48146          602048356.4    532337494.08          602048356.4   \n",
       "48147           1645431.39      1552731.03           1645431.39   \n",
       "48148              3318.28         3115.12              3318.28   \n",
       "48149           1642384.64       1568569.6           1642384.64   \n",
       "48150              1541.76         1457.28              1541.76   \n",
       "\n",
       "      Delta Infection Omicron Severe Disease Omicron Infection  \n",
       "1                0.69                   0.71              0.36  \n",
       "2                0.67                   0.53              0.35  \n",
       "3             17414.8                11268.4           7375.68  \n",
       "4             34501.5                22324.5           14612.4  \n",
       "5             36886.6                23867.8          15622.56  \n",
       "...               ...                    ...               ...  \n",
       "48146    532337494.08           456289280.64              0.73  \n",
       "48147      1552731.03             1228279.77         811128.15  \n",
       "48148         3115.12                2505.64           1625.28  \n",
       "48149       1568569.6              1014956.8         664335.36  \n",
       "48150         1457.28                 1161.6            760.32  \n",
       "\n",
       "[48150 rows x 16 columns]"
      ]
     },
     "execution_count": 94,
     "metadata": {},
     "output_type": "execute_result"
    }
   ],
   "source": [
    "df_displayed=df.loc[1:]\n",
    "df_displayed.columns=['Country','Date','vaccine','total vaccinations',\n",
    "                                                               \"Ancestral Severe Disease\",\"Ancestral Infection\",\n",
    "                                                              \"Alpha Severe Disease\",\"Alpha Infection\",\n",
    "                                                              \"Beta Severe Disease\",\"Beta Infection\",\n",
    "                                                               \"Gamma Severe Disease\",\"Gamma Infection\",\n",
    "                                                               \"Delta Severe Disease\",\"Delta Infection\",\n",
    "                                                               \"Omicron Severe Disease\",\"Omicron Infection\"]\n",
    "df_displayed"
   ]
  },
  {
   "cell_type": "code",
   "execution_count": 95,
   "id": "d4a53de7",
   "metadata": {},
   "outputs": [],
   "source": [
    "all_vaccines1=list(set(list(df[\"Unnamed: 2\"][1:])))\n",
    "all_countries=list(set(list(df[\"Unnamed: 0\"][1:])))#not all vacccines can be found in a country"
   ]
  },
  {
   "cell_type": "code",
   "execution_count": 61,
   "id": "cf34d31a",
   "metadata": {},
   "outputs": [
    {
     "data": {
      "text/plain": [
       "{'Moderna', 'Novavax', 'Oxford/AstraZeneca', 'Pfizer/BioNTech'}"
      ]
     },
     "execution_count": 61,
     "metadata": {},
     "output_type": "execute_result"
    }
   ],
   "source": [
    "set(list(df[df[\"Unnamed: 0\"]==\"Sweden\"][\"Unnamed: 2\"]))"
   ]
  },
  {
   "cell_type": "code",
   "execution_count": 63,
   "id": "1e5a0115",
   "metadata": {},
   "outputs": [
    {
     "data": {
      "text/html": [
       "<div>\n",
       "<style scoped>\n",
       "    .dataframe tbody tr th:only-of-type {\n",
       "        vertical-align: middle;\n",
       "    }\n",
       "\n",
       "    .dataframe tbody tr th {\n",
       "        vertical-align: top;\n",
       "    }\n",
       "\n",
       "    .dataframe thead th {\n",
       "        text-align: right;\n",
       "    }\n",
       "</style>\n",
       "<table border=\"1\" class=\"dataframe\">\n",
       "  <thead>\n",
       "    <tr style=\"text-align: right;\">\n",
       "      <th></th>\n",
       "      <th>Unnamed: 0</th>\n",
       "      <th>Unnamed: 1</th>\n",
       "      <th>Unnamed: 2</th>\n",
       "      <th>Unnamed: 3</th>\n",
       "      <th>Protection from Ancestral var</th>\n",
       "      <th>Unnamed: 5</th>\n",
       "      <th>Protection from Alpha var</th>\n",
       "      <th>Unnamed: 7</th>\n",
       "      <th>Protection from Beta var</th>\n",
       "      <th>Beta</th>\n",
       "      <th>Protection from Gamma var</th>\n",
       "      <th>Gamma</th>\n",
       "      <th>Protection from Delta var</th>\n",
       "      <th>Delta</th>\n",
       "      <th>Protection from Omicron var</th>\n",
       "      <th>Omicron</th>\n",
       "    </tr>\n",
       "  </thead>\n",
       "  <tbody>\n",
       "    <tr>\n",
       "      <th>17860</th>\n",
       "      <td>Hungary</td>\n",
       "      <td>2021-01-15 00:00:00</td>\n",
       "      <td>Moderna</td>\n",
       "      <td>3045</td>\n",
       "      <td>2953.65</td>\n",
       "      <td>2801.4</td>\n",
       "      <td>2953.65</td>\n",
       "      <td>2801.4</td>\n",
       "      <td>2953.65</td>\n",
       "      <td>2770.95</td>\n",
       "      <td>2953.65</td>\n",
       "      <td>2770.95</td>\n",
       "      <td>2953.65</td>\n",
       "      <td>2770.95</td>\n",
       "      <td>2222.85</td>\n",
       "      <td>1461.6</td>\n",
       "    </tr>\n",
       "    <tr>\n",
       "      <th>17862</th>\n",
       "      <td>Hungary</td>\n",
       "      <td>2021-01-22 00:00:00</td>\n",
       "      <td>Moderna</td>\n",
       "      <td>3110</td>\n",
       "      <td>3016.7</td>\n",
       "      <td>2861.2</td>\n",
       "      <td>3016.7</td>\n",
       "      <td>2861.2</td>\n",
       "      <td>3016.7</td>\n",
       "      <td>2830.1</td>\n",
       "      <td>3016.7</td>\n",
       "      <td>2830.1</td>\n",
       "      <td>3016.7</td>\n",
       "      <td>2830.1</td>\n",
       "      <td>2270.3</td>\n",
       "      <td>1492.8</td>\n",
       "    </tr>\n",
       "    <tr>\n",
       "      <th>17864</th>\n",
       "      <td>Hungary</td>\n",
       "      <td>2021-01-29 00:00:00</td>\n",
       "      <td>Moderna</td>\n",
       "      <td>3289</td>\n",
       "      <td>3190.33</td>\n",
       "      <td>3025.88</td>\n",
       "      <td>3190.33</td>\n",
       "      <td>3025.88</td>\n",
       "      <td>3190.33</td>\n",
       "      <td>2992.99</td>\n",
       "      <td>3190.33</td>\n",
       "      <td>2992.99</td>\n",
       "      <td>3190.33</td>\n",
       "      <td>2992.99</td>\n",
       "      <td>2400.97</td>\n",
       "      <td>1578.72</td>\n",
       "    </tr>\n",
       "    <tr>\n",
       "      <th>17866</th>\n",
       "      <td>Hungary</td>\n",
       "      <td>2021-02-05 00:00:00</td>\n",
       "      <td>Moderna</td>\n",
       "      <td>14413</td>\n",
       "      <td>13980.61</td>\n",
       "      <td>13259.96</td>\n",
       "      <td>13980.61</td>\n",
       "      <td>13259.96</td>\n",
       "      <td>13980.61</td>\n",
       "      <td>13115.83</td>\n",
       "      <td>13980.61</td>\n",
       "      <td>13115.83</td>\n",
       "      <td>13980.61</td>\n",
       "      <td>13115.83</td>\n",
       "      <td>10521.49</td>\n",
       "      <td>6918.24</td>\n",
       "    </tr>\n",
       "    <tr>\n",
       "      <th>17870</th>\n",
       "      <td>Hungary</td>\n",
       "      <td>2021-02-12 00:00:00</td>\n",
       "      <td>Moderna</td>\n",
       "      <td>17526</td>\n",
       "      <td>17000.22</td>\n",
       "      <td>16123.92</td>\n",
       "      <td>17000.22</td>\n",
       "      <td>16123.92</td>\n",
       "      <td>17000.22</td>\n",
       "      <td>15948.66</td>\n",
       "      <td>17000.22</td>\n",
       "      <td>15948.66</td>\n",
       "      <td>17000.22</td>\n",
       "      <td>15948.66</td>\n",
       "      <td>12793.98</td>\n",
       "      <td>8412.48</td>\n",
       "    </tr>\n",
       "    <tr>\n",
       "      <th>...</th>\n",
       "      <td>...</td>\n",
       "      <td>...</td>\n",
       "      <td>...</td>\n",
       "      <td>...</td>\n",
       "      <td>...</td>\n",
       "      <td>...</td>\n",
       "      <td>...</td>\n",
       "      <td>...</td>\n",
       "      <td>...</td>\n",
       "      <td>...</td>\n",
       "      <td>...</td>\n",
       "      <td>...</td>\n",
       "      <td>...</td>\n",
       "      <td>...</td>\n",
       "      <td>...</td>\n",
       "      <td>...</td>\n",
       "    </tr>\n",
       "    <tr>\n",
       "      <th>18288</th>\n",
       "      <td>Hungary</td>\n",
       "      <td>2022-09-02 00:00:00</td>\n",
       "      <td>Moderna</td>\n",
       "      <td>1078632</td>\n",
       "      <td>1046273.04</td>\n",
       "      <td>992341.44</td>\n",
       "      <td>1046273.04</td>\n",
       "      <td>992341.44</td>\n",
       "      <td>1046273.04</td>\n",
       "      <td>981555.12</td>\n",
       "      <td>1046273.04</td>\n",
       "      <td>981555.12</td>\n",
       "      <td>1046273.04</td>\n",
       "      <td>981555.12</td>\n",
       "      <td>787401.36</td>\n",
       "      <td>517743.36</td>\n",
       "    </tr>\n",
       "    <tr>\n",
       "      <th>18292</th>\n",
       "      <td>Hungary</td>\n",
       "      <td>2022-09-09 00:00:00</td>\n",
       "      <td>Moderna</td>\n",
       "      <td>1078869</td>\n",
       "      <td>1046502.93</td>\n",
       "      <td>992559.48</td>\n",
       "      <td>1046502.93</td>\n",
       "      <td>992559.48</td>\n",
       "      <td>1046502.93</td>\n",
       "      <td>981770.79</td>\n",
       "      <td>1046502.93</td>\n",
       "      <td>981770.79</td>\n",
       "      <td>1046502.93</td>\n",
       "      <td>981770.79</td>\n",
       "      <td>787574.37</td>\n",
       "      <td>517857.12</td>\n",
       "    </tr>\n",
       "    <tr>\n",
       "      <th>18296</th>\n",
       "      <td>Hungary</td>\n",
       "      <td>2022-09-16 00:00:00</td>\n",
       "      <td>Moderna</td>\n",
       "      <td>1078951</td>\n",
       "      <td>1046582.47</td>\n",
       "      <td>992634.92</td>\n",
       "      <td>1046582.47</td>\n",
       "      <td>992634.92</td>\n",
       "      <td>1046582.47</td>\n",
       "      <td>981845.41</td>\n",
       "      <td>1046582.47</td>\n",
       "      <td>981845.41</td>\n",
       "      <td>1046582.47</td>\n",
       "      <td>981845.41</td>\n",
       "      <td>787634.23</td>\n",
       "      <td>517896.48</td>\n",
       "    </tr>\n",
       "    <tr>\n",
       "      <th>18300</th>\n",
       "      <td>Hungary</td>\n",
       "      <td>2022-09-23 00:00:00</td>\n",
       "      <td>Moderna</td>\n",
       "      <td>1078992</td>\n",
       "      <td>1046622.24</td>\n",
       "      <td>992672.64</td>\n",
       "      <td>1046622.24</td>\n",
       "      <td>992672.64</td>\n",
       "      <td>1046622.24</td>\n",
       "      <td>981882.72</td>\n",
       "      <td>1046622.24</td>\n",
       "      <td>981882.72</td>\n",
       "      <td>1046622.24</td>\n",
       "      <td>981882.72</td>\n",
       "      <td>787664.16</td>\n",
       "      <td>517916.16</td>\n",
       "    </tr>\n",
       "    <tr>\n",
       "      <th>18304</th>\n",
       "      <td>Hungary</td>\n",
       "      <td>2022-09-30 00:00:00</td>\n",
       "      <td>Moderna</td>\n",
       "      <td>1079027</td>\n",
       "      <td>1046656.19</td>\n",
       "      <td>992704.84</td>\n",
       "      <td>1046656.19</td>\n",
       "      <td>992704.84</td>\n",
       "      <td>1046656.19</td>\n",
       "      <td>981914.57</td>\n",
       "      <td>1046656.19</td>\n",
       "      <td>981914.57</td>\n",
       "      <td>1046656.19</td>\n",
       "      <td>981914.57</td>\n",
       "      <td>787689.71</td>\n",
       "      <td>517932.96</td>\n",
       "    </tr>\n",
       "  </tbody>\n",
       "</table>\n",
       "<p>90 rows × 16 columns</p>\n",
       "</div>"
      ],
      "text/plain": [
       "      Unnamed: 0           Unnamed: 1 Unnamed: 2 Unnamed: 3  \\\n",
       "17860    Hungary  2021-01-15 00:00:00    Moderna       3045   \n",
       "17862    Hungary  2021-01-22 00:00:00    Moderna       3110   \n",
       "17864    Hungary  2021-01-29 00:00:00    Moderna       3289   \n",
       "17866    Hungary  2021-02-05 00:00:00    Moderna      14413   \n",
       "17870    Hungary  2021-02-12 00:00:00    Moderna      17526   \n",
       "...          ...                  ...        ...        ...   \n",
       "18288    Hungary  2022-09-02 00:00:00    Moderna    1078632   \n",
       "18292    Hungary  2022-09-09 00:00:00    Moderna    1078869   \n",
       "18296    Hungary  2022-09-16 00:00:00    Moderna    1078951   \n",
       "18300    Hungary  2022-09-23 00:00:00    Moderna    1078992   \n",
       "18304    Hungary  2022-09-30 00:00:00    Moderna    1079027   \n",
       "\n",
       "      Protection from Ancestral var Unnamed: 5 Protection from Alpha var  \\\n",
       "17860                       2953.65     2801.4                   2953.65   \n",
       "17862                        3016.7     2861.2                    3016.7   \n",
       "17864                       3190.33    3025.88                   3190.33   \n",
       "17866                      13980.61   13259.96                  13980.61   \n",
       "17870                      17000.22   16123.92                  17000.22   \n",
       "...                             ...        ...                       ...   \n",
       "18288                    1046273.04  992341.44                1046273.04   \n",
       "18292                    1046502.93  992559.48                1046502.93   \n",
       "18296                    1046582.47  992634.92                1046582.47   \n",
       "18300                    1046622.24  992672.64                1046622.24   \n",
       "18304                    1046656.19  992704.84                1046656.19   \n",
       "\n",
       "      Unnamed: 7 Protection from Beta var       Beta  \\\n",
       "17860     2801.4                  2953.65    2770.95   \n",
       "17862     2861.2                   3016.7     2830.1   \n",
       "17864    3025.88                  3190.33    2992.99   \n",
       "17866   13259.96                 13980.61   13115.83   \n",
       "17870   16123.92                 17000.22   15948.66   \n",
       "...          ...                      ...        ...   \n",
       "18288  992341.44               1046273.04  981555.12   \n",
       "18292  992559.48               1046502.93  981770.79   \n",
       "18296  992634.92               1046582.47  981845.41   \n",
       "18300  992672.64               1046622.24  981882.72   \n",
       "18304  992704.84               1046656.19  981914.57   \n",
       "\n",
       "      Protection from Gamma var      Gamma Protection from Delta var  \\\n",
       "17860                   2953.65    2770.95                   2953.65   \n",
       "17862                    3016.7     2830.1                    3016.7   \n",
       "17864                   3190.33    2992.99                   3190.33   \n",
       "17866                  13980.61   13115.83                  13980.61   \n",
       "17870                  17000.22   15948.66                  17000.22   \n",
       "...                         ...        ...                       ...   \n",
       "18288                1046273.04  981555.12                1046273.04   \n",
       "18292                1046502.93  981770.79                1046502.93   \n",
       "18296                1046582.47  981845.41                1046582.47   \n",
       "18300                1046622.24  981882.72                1046622.24   \n",
       "18304                1046656.19  981914.57                1046656.19   \n",
       "\n",
       "           Delta Protection from Omicron var    Omicron  \n",
       "17860    2770.95                     2222.85     1461.6  \n",
       "17862     2830.1                      2270.3     1492.8  \n",
       "17864    2992.99                     2400.97    1578.72  \n",
       "17866   13115.83                    10521.49    6918.24  \n",
       "17870   15948.66                    12793.98    8412.48  \n",
       "...          ...                         ...        ...  \n",
       "18288  981555.12                   787401.36  517743.36  \n",
       "18292  981770.79                   787574.37  517857.12  \n",
       "18296  981845.41                   787634.23  517896.48  \n",
       "18300  981882.72                   787664.16  517916.16  \n",
       "18304  981914.57                   787689.71  517932.96  \n",
       "\n",
       "[90 rows x 16 columns]"
      ]
     },
     "execution_count": 63,
     "metadata": {},
     "output_type": "execute_result"
    }
   ],
   "source": [
    "df[(df[\"Unnamed: 0\"]==\"Hungary\") & (df[\"Unnamed: 2\"]=='Moderna')]"
   ]
  },
  {
   "cell_type": "code",
   "execution_count": 96,
   "id": "93613c7a",
   "metadata": {},
   "outputs": [
    {
     "data": {
      "text/plain": [
       "Index(['index', 'Unnamed: 0', 'Unnamed: 1', 'Unnamed: 2', 'Unnamed: 3',\n",
       "       'Protection from Ancestral var', 'Unnamed: 5',\n",
       "       'Protection from Alpha var', 'Unnamed: 7', 'Protection from Beta var',\n",
       "       'Beta', 'Protection from Gamma var', 'Gamma',\n",
       "       'Protection from Delta var', 'Delta', 'Protection from Omicron var',\n",
       "       'Omicron'],\n",
       "      dtype='object')"
      ]
     },
     "execution_count": 96,
     "metadata": {},
     "output_type": "execute_result"
    }
   ],
   "source": [
    "df_filtered=pd.DataFrame(columns=df.columns)\n",
    "\n",
    "for i in all_countries:\n",
    "    all_vaccines=set(list(df[df[\"Unnamed: 0\"]==i][\"Unnamed: 2\"]))\n",
    "    for j in all_vaccines:\n",
    "        df_filtered=pd.concat([df_filtered,df[(df[\"Unnamed: 0\"]==i) & (df[\"Unnamed: 2\"]==j)].tail(1)],axis=0)\n",
    "df_filtered=df_filtered.reset_index()\n",
    "df_filtered.columns"
   ]
  },
  {
   "cell_type": "code",
   "execution_count": 75,
   "id": "503b4430",
   "metadata": {},
   "outputs": [
    {
     "data": {
      "text/html": [
       "<div>\n",
       "<style scoped>\n",
       "    .dataframe tbody tr th:only-of-type {\n",
       "        vertical-align: middle;\n",
       "    }\n",
       "\n",
       "    .dataframe tbody tr th {\n",
       "        vertical-align: top;\n",
       "    }\n",
       "\n",
       "    .dataframe thead th {\n",
       "        text-align: right;\n",
       "    }\n",
       "</style>\n",
       "<table border=\"1\" class=\"dataframe\">\n",
       "  <thead>\n",
       "    <tr style=\"text-align: right;\">\n",
       "      <th></th>\n",
       "      <th>Country</th>\n",
       "      <th>Date</th>\n",
       "      <th>Vaccine</th>\n",
       "      <th>Total Vaccinations</th>\n",
       "      <th>Ancestral Severe Disease</th>\n",
       "      <th>Ancestral Infection</th>\n",
       "      <th>Alpha Severe Disease</th>\n",
       "      <th>Alpha Infection</th>\n",
       "      <th>Beta Severe Disease</th>\n",
       "      <th>Beta Infection</th>\n",
       "      <th>Gamma Severe Disease</th>\n",
       "      <th>Gamma Infection</th>\n",
       "      <th>Delta Severe Disease</th>\n",
       "      <th>Delta Infection</th>\n",
       "      <th>Omicron Severe Disease</th>\n",
       "      <th>Omicron Infection</th>\n",
       "    </tr>\n",
       "  </thead>\n",
       "  <tbody>\n",
       "    <tr>\n",
       "      <th>0</th>\n",
       "      <td>Latvia</td>\n",
       "      <td>2022-07-11 00:00:00</td>\n",
       "      <td>Moderna</td>\n",
       "      <td>715409</td>\n",
       "      <td>693946.73</td>\n",
       "      <td>658176.28</td>\n",
       "      <td>693946.73</td>\n",
       "      <td>658176.28</td>\n",
       "      <td>693946.73</td>\n",
       "      <td>651022.19</td>\n",
       "      <td>693946.73</td>\n",
       "      <td>651022.19</td>\n",
       "      <td>693946.73</td>\n",
       "      <td>651022.19</td>\n",
       "      <td>522248.57</td>\n",
       "      <td>343396.32</td>\n",
       "    </tr>\n",
       "    <tr>\n",
       "      <th>1</th>\n",
       "      <td>Latvia</td>\n",
       "      <td>2021-05-23 00:00:00</td>\n",
       "      <td>Sinovac</td>\n",
       "      <td>9</td>\n",
       "      <td>4.5</td>\n",
       "      <td>4.23</td>\n",
       "      <td>4.5</td>\n",
       "      <td>4.23</td>\n",
       "      <td>4.41</td>\n",
       "      <td>4.14</td>\n",
       "      <td>4.41</td>\n",
       "      <td>4.14</td>\n",
       "      <td>4.41</td>\n",
       "      <td>4.14</td>\n",
       "      <td>3.33</td>\n",
       "      <td>2.16</td>\n",
       "    </tr>\n",
       "    <tr>\n",
       "      <th>2</th>\n",
       "      <td>Latvia</td>\n",
       "      <td>2022-07-11 00:00:00</td>\n",
       "      <td>Johnson&amp;Johnson</td>\n",
       "      <td>293843</td>\n",
       "      <td>252704.98</td>\n",
       "      <td>211566.96</td>\n",
       "      <td>252704.98</td>\n",
       "      <td>211566.96</td>\n",
       "      <td>223320.68</td>\n",
       "      <td>188059.52</td>\n",
       "      <td>223320.68</td>\n",
       "      <td>188059.52</td>\n",
       "      <td>223320.68</td>\n",
       "      <td>188059.52</td>\n",
       "      <td>167490.51</td>\n",
       "      <td>96968.19</td>\n",
       "    </tr>\n",
       "    <tr>\n",
       "      <th>3</th>\n",
       "      <td>Latvia</td>\n",
       "      <td>2022-07-11 00:00:00</td>\n",
       "      <td>Pfizer/BioNTech</td>\n",
       "      <td>1624384</td>\n",
       "      <td>1543164.8</td>\n",
       "      <td>1396970.24</td>\n",
       "      <td>1543164.8</td>\n",
       "      <td>1396970.24</td>\n",
       "      <td>1543164.8</td>\n",
       "      <td>1364482.56</td>\n",
       "      <td>1543164.8</td>\n",
       "      <td>1364482.56</td>\n",
       "      <td>1543164.8</td>\n",
       "      <td>1364482.56</td>\n",
       "      <td>1169556.48</td>\n",
       "      <td>714728.96</td>\n",
       "    </tr>\n",
       "    <tr>\n",
       "      <th>4</th>\n",
       "      <td>Latvia</td>\n",
       "      <td>2022-07-11 00:00:00</td>\n",
       "      <td>Novavax</td>\n",
       "      <td>438</td>\n",
       "      <td>389.82</td>\n",
       "      <td>363.54</td>\n",
       "      <td>389.82</td>\n",
       "      <td>363.54</td>\n",
       "      <td>376.68</td>\n",
       "      <td>359.16</td>\n",
       "      <td>376.68</td>\n",
       "      <td>359.16</td>\n",
       "      <td>376.68</td>\n",
       "      <td>359.16</td>\n",
       "      <td>284.7</td>\n",
       "      <td>188.34</td>\n",
       "    </tr>\n",
       "    <tr>\n",
       "      <th>...</th>\n",
       "      <td>...</td>\n",
       "      <td>...</td>\n",
       "      <td>...</td>\n",
       "      <td>...</td>\n",
       "      <td>...</td>\n",
       "      <td>...</td>\n",
       "      <td>...</td>\n",
       "      <td>...</td>\n",
       "      <td>...</td>\n",
       "      <td>...</td>\n",
       "      <td>...</td>\n",
       "      <td>...</td>\n",
       "      <td>...</td>\n",
       "      <td>...</td>\n",
       "      <td>...</td>\n",
       "      <td>...</td>\n",
       "    </tr>\n",
       "    <tr>\n",
       "      <th>211</th>\n",
       "      <td>Ukraine</td>\n",
       "      <td>2022-02-23 00:00:00</td>\n",
       "      <td>Moderna</td>\n",
       "      <td>3044899</td>\n",
       "      <td>2953552.03</td>\n",
       "      <td>2801307.08</td>\n",
       "      <td>2953552.03</td>\n",
       "      <td>2801307.08</td>\n",
       "      <td>2953552.03</td>\n",
       "      <td>2770858.09</td>\n",
       "      <td>2953552.03</td>\n",
       "      <td>2770858.09</td>\n",
       "      <td>2953552.03</td>\n",
       "      <td>2770858.09</td>\n",
       "      <td>2222776.27</td>\n",
       "      <td>1461551.52</td>\n",
       "    </tr>\n",
       "    <tr>\n",
       "      <th>212</th>\n",
       "      <td>Ukraine</td>\n",
       "      <td>2022-02-23 00:00:00</td>\n",
       "      <td>Sinovac</td>\n",
       "      <td>9802231</td>\n",
       "      <td>4901115.5</td>\n",
       "      <td>4607048.57</td>\n",
       "      <td>4901115.5</td>\n",
       "      <td>4607048.57</td>\n",
       "      <td>4803093.19</td>\n",
       "      <td>4509026.26</td>\n",
       "      <td>4803093.19</td>\n",
       "      <td>4509026.26</td>\n",
       "      <td>4803093.19</td>\n",
       "      <td>4509026.26</td>\n",
       "      <td>3626825.47</td>\n",
       "      <td>2352535.44</td>\n",
       "    </tr>\n",
       "    <tr>\n",
       "      <th>213</th>\n",
       "      <td>Ukraine</td>\n",
       "      <td>2022-02-23 00:00:00</td>\n",
       "      <td>Johnson&amp;Johnson</td>\n",
       "      <td>20680</td>\n",
       "      <td>17784.8</td>\n",
       "      <td>14889.6</td>\n",
       "      <td>17784.8</td>\n",
       "      <td>14889.6</td>\n",
       "      <td>15716.8</td>\n",
       "      <td>13235.2</td>\n",
       "      <td>15716.8</td>\n",
       "      <td>13235.2</td>\n",
       "      <td>15716.8</td>\n",
       "      <td>13235.2</td>\n",
       "      <td>11787.6</td>\n",
       "      <td>6824.4</td>\n",
       "    </tr>\n",
       "    <tr>\n",
       "      <th>214</th>\n",
       "      <td>Ukraine</td>\n",
       "      <td>2022-02-23 00:00:00</td>\n",
       "      <td>Pfizer/BioNTech</td>\n",
       "      <td>14774013</td>\n",
       "      <td>14035312.35</td>\n",
       "      <td>12705651.18</td>\n",
       "      <td>14035312.35</td>\n",
       "      <td>12705651.18</td>\n",
       "      <td>14035312.35</td>\n",
       "      <td>12410170.92</td>\n",
       "      <td>14035312.35</td>\n",
       "      <td>12410170.92</td>\n",
       "      <td>14035312.35</td>\n",
       "      <td>12410170.92</td>\n",
       "      <td>10637289.36</td>\n",
       "      <td>6500565.72</td>\n",
       "    </tr>\n",
       "    <tr>\n",
       "      <th>215</th>\n",
       "      <td>Ukraine</td>\n",
       "      <td>2022-02-23 00:00:00</td>\n",
       "      <td>Oxford/AstraZeneca</td>\n",
       "      <td>4041487</td>\n",
       "      <td>3798997.78</td>\n",
       "      <td>2546136.81</td>\n",
       "      <td>3798997.78</td>\n",
       "      <td>2546136.81</td>\n",
       "      <td>3798997.78</td>\n",
       "      <td>2788626.03</td>\n",
       "      <td>3798997.78</td>\n",
       "      <td>2788626.03</td>\n",
       "      <td>3798997.78</td>\n",
       "      <td>2788626.03</td>\n",
       "      <td>2869455.77</td>\n",
       "      <td>1454935.32</td>\n",
       "    </tr>\n",
       "  </tbody>\n",
       "</table>\n",
       "<p>216 rows × 16 columns</p>\n",
       "</div>"
      ],
      "text/plain": [
       "     Country                 Date             Vaccine Total Vaccinations  \\\n",
       "0     Latvia  2022-07-11 00:00:00             Moderna             715409   \n",
       "1     Latvia  2021-05-23 00:00:00             Sinovac                  9   \n",
       "2     Latvia  2022-07-11 00:00:00     Johnson&Johnson             293843   \n",
       "3     Latvia  2022-07-11 00:00:00     Pfizer/BioNTech            1624384   \n",
       "4     Latvia  2022-07-11 00:00:00             Novavax                438   \n",
       "..       ...                  ...                 ...                ...   \n",
       "211  Ukraine  2022-02-23 00:00:00             Moderna            3044899   \n",
       "212  Ukraine  2022-02-23 00:00:00             Sinovac            9802231   \n",
       "213  Ukraine  2022-02-23 00:00:00     Johnson&Johnson              20680   \n",
       "214  Ukraine  2022-02-23 00:00:00     Pfizer/BioNTech           14774013   \n",
       "215  Ukraine  2022-02-23 00:00:00  Oxford/AstraZeneca            4041487   \n",
       "\n",
       "    Ancestral Severe Disease Ancestral Infection Alpha Severe Disease  \\\n",
       "0                  693946.73           658176.28            693946.73   \n",
       "1                        4.5                4.23                  4.5   \n",
       "2                  252704.98           211566.96            252704.98   \n",
       "3                  1543164.8          1396970.24            1543164.8   \n",
       "4                     389.82              363.54               389.82   \n",
       "..                       ...                 ...                  ...   \n",
       "211               2953552.03          2801307.08           2953552.03   \n",
       "212                4901115.5          4607048.57            4901115.5   \n",
       "213                  17784.8             14889.6              17784.8   \n",
       "214              14035312.35         12705651.18          14035312.35   \n",
       "215               3798997.78          2546136.81           3798997.78   \n",
       "\n",
       "    Alpha Infection Beta Severe Disease Beta Infection Gamma Severe Disease  \\\n",
       "0         658176.28           693946.73      651022.19            693946.73   \n",
       "1              4.23                4.41           4.14                 4.41   \n",
       "2         211566.96           223320.68      188059.52            223320.68   \n",
       "3        1396970.24           1543164.8     1364482.56            1543164.8   \n",
       "4            363.54              376.68         359.16               376.68   \n",
       "..              ...                 ...            ...                  ...   \n",
       "211      2801307.08          2953552.03     2770858.09           2953552.03   \n",
       "212      4607048.57          4803093.19     4509026.26           4803093.19   \n",
       "213         14889.6             15716.8        13235.2              15716.8   \n",
       "214     12705651.18         14035312.35    12410170.92          14035312.35   \n",
       "215      2546136.81          3798997.78     2788626.03           3798997.78   \n",
       "\n",
       "    Gamma Infection Delta Severe Disease Delta Infection  \\\n",
       "0         651022.19            693946.73       651022.19   \n",
       "1              4.14                 4.41            4.14   \n",
       "2         188059.52            223320.68       188059.52   \n",
       "3        1364482.56            1543164.8      1364482.56   \n",
       "4            359.16               376.68          359.16   \n",
       "..              ...                  ...             ...   \n",
       "211      2770858.09           2953552.03      2770858.09   \n",
       "212      4509026.26           4803093.19      4509026.26   \n",
       "213         13235.2              15716.8         13235.2   \n",
       "214     12410170.92          14035312.35     12410170.92   \n",
       "215      2788626.03           3798997.78      2788626.03   \n",
       "\n",
       "    Omicron Severe Disease Omicron Infection  \n",
       "0                522248.57         343396.32  \n",
       "1                     3.33              2.16  \n",
       "2                167490.51          96968.19  \n",
       "3               1169556.48         714728.96  \n",
       "4                    284.7            188.34  \n",
       "..                     ...               ...  \n",
       "211             2222776.27        1461551.52  \n",
       "212             3626825.47        2352535.44  \n",
       "213                11787.6            6824.4  \n",
       "214            10637289.36        6500565.72  \n",
       "215             2869455.77        1454935.32  \n",
       "\n",
       "[216 rows x 16 columns]"
      ]
     },
     "execution_count": 75,
     "metadata": {},
     "output_type": "execute_result"
    }
   ],
   "source": [
    "df_filtered_display=df_filtered\n",
    "df_filtered_display.columns=['Index','Country', 'Date','Vaccine', 'Total Vaccinations',\n",
    "                                                                        \"Ancestral Severe Disease\", \"Ancestral Infection\",\n",
    "                                                                        \"Alpha Severe Disease\", \"Alpha Infection\",\n",
    "                                                                        \"Beta Severe Disease\", \"Beta Infection\",\n",
    "                                                                        \"Gamma Severe Disease\", \"Gamma Infection\",\n",
    "                                                                        \"Delta Severe Disease\", \"Delta Infection\",\n",
    "                                                                        \"Omicron Severe Disease\", \"Omicron Infection\"]\n",
    "df_filtered_display[['Country', 'Date','Vaccine', 'Total Vaccinations',\n",
    "                                                                        \"Ancestral Severe Disease\", \"Ancestral Infection\",\n",
    "                                                                        \"Alpha Severe Disease\", \"Alpha Infection\",\n",
    "                                                                        \"Beta Severe Disease\", \"Beta Infection\",\n",
    "                                                                        \"Gamma Severe Disease\", \"Gamma Infection\",\n",
    "                                                                        \"Delta Severe Disease\", \"Delta Infection\",\n",
    "                                                                        \"Omicron Severe Disease\", \"Omicron Infection\"]]"
   ]
  },
  {
   "cell_type": "markdown",
   "id": "e65b741a",
   "metadata": {},
   "source": [
    "# Calculate the vaccine efficiency for each country"
   ]
  },
  {
   "cell_type": "code",
   "execution_count": 97,
   "id": "cf2c3c4d",
   "metadata": {},
   "outputs": [
    {
     "data": {
      "text/html": [
       "<div>\n",
       "<style scoped>\n",
       "    .dataframe tbody tr th:only-of-type {\n",
       "        vertical-align: middle;\n",
       "    }\n",
       "\n",
       "    .dataframe tbody tr th {\n",
       "        vertical-align: top;\n",
       "    }\n",
       "\n",
       "    .dataframe thead th {\n",
       "        text-align: right;\n",
       "    }\n",
       "</style>\n",
       "<table border=\"1\" class=\"dataframe\">\n",
       "  <thead>\n",
       "    <tr style=\"text-align: right;\">\n",
       "      <th></th>\n",
       "      <th>country</th>\n",
       "      <th>vaccine</th>\n",
       "      <th>total vaccinations</th>\n",
       "      <th>Ancestral Severe Disease</th>\n",
       "      <th>Ancestral Infection</th>\n",
       "      <th>Alpha Severe Disease</th>\n",
       "      <th>Alpha Infection</th>\n",
       "      <th>Beta Severe Disease</th>\n",
       "      <th>Beta Infection</th>\n",
       "      <th>Gamma Severe Disease</th>\n",
       "      <th>Gamma Infection</th>\n",
       "      <th>Delta Severe Disease</th>\n",
       "      <th>Delta Infection</th>\n",
       "      <th>Omicron Severe Disease</th>\n",
       "      <th>Omicron Infection</th>\n",
       "    </tr>\n",
       "  </thead>\n",
       "  <tbody>\n",
       "    <tr>\n",
       "      <th>0</th>\n",
       "      <td>0.0</td>\n",
       "      <td>0.0</td>\n",
       "      <td>0.0</td>\n",
       "      <td>0.0</td>\n",
       "      <td>0.0</td>\n",
       "      <td>0.0</td>\n",
       "      <td>0.0</td>\n",
       "      <td>0.0</td>\n",
       "      <td>0.0</td>\n",
       "      <td>0.0</td>\n",
       "      <td>0.0</td>\n",
       "      <td>0.0</td>\n",
       "      <td>0.0</td>\n",
       "      <td>0.0</td>\n",
       "      <td>0.0</td>\n",
       "    </tr>\n",
       "    <tr>\n",
       "      <th>1</th>\n",
       "      <td>0.0</td>\n",
       "      <td>0.0</td>\n",
       "      <td>0.0</td>\n",
       "      <td>0.0</td>\n",
       "      <td>0.0</td>\n",
       "      <td>0.0</td>\n",
       "      <td>0.0</td>\n",
       "      <td>0.0</td>\n",
       "      <td>0.0</td>\n",
       "      <td>0.0</td>\n",
       "      <td>0.0</td>\n",
       "      <td>0.0</td>\n",
       "      <td>0.0</td>\n",
       "      <td>0.0</td>\n",
       "      <td>0.0</td>\n",
       "    </tr>\n",
       "    <tr>\n",
       "      <th>2</th>\n",
       "      <td>0.0</td>\n",
       "      <td>0.0</td>\n",
       "      <td>0.0</td>\n",
       "      <td>0.0</td>\n",
       "      <td>0.0</td>\n",
       "      <td>0.0</td>\n",
       "      <td>0.0</td>\n",
       "      <td>0.0</td>\n",
       "      <td>0.0</td>\n",
       "      <td>0.0</td>\n",
       "      <td>0.0</td>\n",
       "      <td>0.0</td>\n",
       "      <td>0.0</td>\n",
       "      <td>0.0</td>\n",
       "      <td>0.0</td>\n",
       "    </tr>\n",
       "  </tbody>\n",
       "</table>\n",
       "</div>"
      ],
      "text/plain": [
       "   country  vaccine  total vaccinations  Ancestral Severe Disease  \\\n",
       "0      0.0      0.0                 0.0                       0.0   \n",
       "1      0.0      0.0                 0.0                       0.0   \n",
       "2      0.0      0.0                 0.0                       0.0   \n",
       "\n",
       "   Ancestral Infection  Alpha Severe Disease  Alpha Infection  \\\n",
       "0                  0.0                   0.0              0.0   \n",
       "1                  0.0                   0.0              0.0   \n",
       "2                  0.0                   0.0              0.0   \n",
       "\n",
       "   Beta Severe Disease  Beta Infection  Gamma Severe Disease  Gamma Infection  \\\n",
       "0                  0.0             0.0                   0.0              0.0   \n",
       "1                  0.0             0.0                   0.0              0.0   \n",
       "2                  0.0             0.0                   0.0              0.0   \n",
       "\n",
       "   Delta Severe Disease  Delta Infection  Omicron Severe Disease  \\\n",
       "0                   0.0              0.0                     0.0   \n",
       "1                   0.0              0.0                     0.0   \n",
       "2                   0.0              0.0                     0.0   \n",
       "\n",
       "   Omicron Infection  \n",
       "0                0.0  \n",
       "1                0.0  \n",
       "2                0.0  "
      ]
     },
     "execution_count": 97,
     "metadata": {},
     "output_type": "execute_result"
    }
   ],
   "source": [
    "df_country_efficiency1=pd.DataFrame(np.zeros((216,15)),columns=['country','vaccine','total vaccinations',\n",
    "                                                               \"Ancestral Severe Disease\",\"Ancestral Infection\",\n",
    "                                                              \"Alpha Severe Disease\",\"Alpha Infection\",\n",
    "                                                              \"Beta Severe Disease\",\"Beta Infection\",\n",
    "                                                               \"Gamma Severe Disease\",\"Gamma Infection\",\n",
    "                                                               \"Delta Severe Disease\",\"Delta Infection\",\n",
    "                                                               \"Omicron Severe Disease\",\"Omicron Infection\"])\n",
    "df_country_efficiency1.head(3)"
   ]
  },
  {
   "cell_type": "code",
   "execution_count": 98,
   "id": "0f21db99",
   "metadata": {},
   "outputs": [
    {
     "data": {
      "text/html": [
       "<div>\n",
       "<style scoped>\n",
       "    .dataframe tbody tr th:only-of-type {\n",
       "        vertical-align: middle;\n",
       "    }\n",
       "\n",
       "    .dataframe tbody tr th {\n",
       "        vertical-align: top;\n",
       "    }\n",
       "\n",
       "    .dataframe thead th {\n",
       "        text-align: right;\n",
       "    }\n",
       "</style>\n",
       "<table border=\"1\" class=\"dataframe\">\n",
       "  <thead>\n",
       "    <tr style=\"text-align: right;\">\n",
       "      <th></th>\n",
       "      <th>country</th>\n",
       "      <th>vaccine</th>\n",
       "      <th>total vaccinations</th>\n",
       "      <th>Ancestral Severe Disease</th>\n",
       "      <th>Ancestral Infection</th>\n",
       "      <th>Alpha Severe Disease</th>\n",
       "      <th>Alpha Infection</th>\n",
       "      <th>Beta Severe Disease</th>\n",
       "      <th>Beta Infection</th>\n",
       "      <th>Gamma Severe Disease</th>\n",
       "      <th>Gamma Infection</th>\n",
       "      <th>Delta Severe Disease</th>\n",
       "      <th>Delta Infection</th>\n",
       "      <th>Omicron Severe Disease</th>\n",
       "      <th>Omicron Infection</th>\n",
       "    </tr>\n",
       "  </thead>\n",
       "  <tbody>\n",
       "    <tr>\n",
       "      <th>0</th>\n",
       "      <td>Latvia</td>\n",
       "      <td>Moderna</td>\n",
       "      <td>715409</td>\n",
       "      <td>0.0</td>\n",
       "      <td>0.0</td>\n",
       "      <td>0.0</td>\n",
       "      <td>0.0</td>\n",
       "      <td>0.0</td>\n",
       "      <td>0.0</td>\n",
       "      <td>0.0</td>\n",
       "      <td>0.0</td>\n",
       "      <td>0.0</td>\n",
       "      <td>0.0</td>\n",
       "      <td>0.0</td>\n",
       "      <td>0.0</td>\n",
       "    </tr>\n",
       "    <tr>\n",
       "      <th>1</th>\n",
       "      <td>Latvia</td>\n",
       "      <td>Sinovac</td>\n",
       "      <td>9</td>\n",
       "      <td>0.0</td>\n",
       "      <td>0.0</td>\n",
       "      <td>0.0</td>\n",
       "      <td>0.0</td>\n",
       "      <td>0.0</td>\n",
       "      <td>0.0</td>\n",
       "      <td>0.0</td>\n",
       "      <td>0.0</td>\n",
       "      <td>0.0</td>\n",
       "      <td>0.0</td>\n",
       "      <td>0.0</td>\n",
       "      <td>0.0</td>\n",
       "    </tr>\n",
       "    <tr>\n",
       "      <th>2</th>\n",
       "      <td>Latvia</td>\n",
       "      <td>Johnson&amp;Johnson</td>\n",
       "      <td>293843</td>\n",
       "      <td>0.0</td>\n",
       "      <td>0.0</td>\n",
       "      <td>0.0</td>\n",
       "      <td>0.0</td>\n",
       "      <td>0.0</td>\n",
       "      <td>0.0</td>\n",
       "      <td>0.0</td>\n",
       "      <td>0.0</td>\n",
       "      <td>0.0</td>\n",
       "      <td>0.0</td>\n",
       "      <td>0.0</td>\n",
       "      <td>0.0</td>\n",
       "    </tr>\n",
       "    <tr>\n",
       "      <th>3</th>\n",
       "      <td>Latvia</td>\n",
       "      <td>Pfizer/BioNTech</td>\n",
       "      <td>1624384</td>\n",
       "      <td>0.0</td>\n",
       "      <td>0.0</td>\n",
       "      <td>0.0</td>\n",
       "      <td>0.0</td>\n",
       "      <td>0.0</td>\n",
       "      <td>0.0</td>\n",
       "      <td>0.0</td>\n",
       "      <td>0.0</td>\n",
       "      <td>0.0</td>\n",
       "      <td>0.0</td>\n",
       "      <td>0.0</td>\n",
       "      <td>0.0</td>\n",
       "    </tr>\n",
       "    <tr>\n",
       "      <th>4</th>\n",
       "      <td>Latvia</td>\n",
       "      <td>Novavax</td>\n",
       "      <td>438</td>\n",
       "      <td>0.0</td>\n",
       "      <td>0.0</td>\n",
       "      <td>0.0</td>\n",
       "      <td>0.0</td>\n",
       "      <td>0.0</td>\n",
       "      <td>0.0</td>\n",
       "      <td>0.0</td>\n",
       "      <td>0.0</td>\n",
       "      <td>0.0</td>\n",
       "      <td>0.0</td>\n",
       "      <td>0.0</td>\n",
       "      <td>0.0</td>\n",
       "    </tr>\n",
       "  </tbody>\n",
       "</table>\n",
       "</div>"
      ],
      "text/plain": [
       "  country          vaccine total vaccinations  Ancestral Severe Disease  \\\n",
       "0  Latvia          Moderna             715409                       0.0   \n",
       "1  Latvia          Sinovac                  9                       0.0   \n",
       "2  Latvia  Johnson&Johnson             293843                       0.0   \n",
       "3  Latvia  Pfizer/BioNTech            1624384                       0.0   \n",
       "4  Latvia          Novavax                438                       0.0   \n",
       "\n",
       "   Ancestral Infection  Alpha Severe Disease  Alpha Infection  \\\n",
       "0                  0.0                   0.0              0.0   \n",
       "1                  0.0                   0.0              0.0   \n",
       "2                  0.0                   0.0              0.0   \n",
       "3                  0.0                   0.0              0.0   \n",
       "4                  0.0                   0.0              0.0   \n",
       "\n",
       "   Beta Severe Disease  Beta Infection  Gamma Severe Disease  Gamma Infection  \\\n",
       "0                  0.0             0.0                   0.0              0.0   \n",
       "1                  0.0             0.0                   0.0              0.0   \n",
       "2                  0.0             0.0                   0.0              0.0   \n",
       "3                  0.0             0.0                   0.0              0.0   \n",
       "4                  0.0             0.0                   0.0              0.0   \n",
       "\n",
       "   Delta Severe Disease  Delta Infection  Omicron Severe Disease  \\\n",
       "0                   0.0              0.0                     0.0   \n",
       "1                   0.0              0.0                     0.0   \n",
       "2                   0.0              0.0                     0.0   \n",
       "3                   0.0              0.0                     0.0   \n",
       "4                   0.0              0.0                     0.0   \n",
       "\n",
       "   Omicron Infection  \n",
       "0                0.0  \n",
       "1                0.0  \n",
       "2                0.0  \n",
       "3                0.0  \n",
       "4                0.0  "
      ]
     },
     "execution_count": 98,
     "metadata": {},
     "output_type": "execute_result"
    }
   ],
   "source": [
    "df_country_efficiency1['country']=df_filtered['Unnamed: 0']\n",
    "df_country_efficiency1['vaccine']=df_filtered['Unnamed: 2']\n",
    "df_country_efficiency1['total vaccinations']=df_filtered['Unnamed: 3']\n",
    "# df_country_efficiency1['Ancestral Severe Disease']\n",
    "df_country_efficiency1.head()"
   ]
  },
  {
   "cell_type": "code",
   "execution_count": 99,
   "id": "31d9a94f",
   "metadata": {},
   "outputs": [
    {
     "data": {
      "text/html": [
       "<div>\n",
       "<style scoped>\n",
       "    .dataframe tbody tr th:only-of-type {\n",
       "        vertical-align: middle;\n",
       "    }\n",
       "\n",
       "    .dataframe tbody tr th {\n",
       "        vertical-align: top;\n",
       "    }\n",
       "\n",
       "    .dataframe thead th {\n",
       "        text-align: right;\n",
       "    }\n",
       "</style>\n",
       "<table border=\"1\" class=\"dataframe\">\n",
       "  <thead>\n",
       "    <tr style=\"text-align: right;\">\n",
       "      <th></th>\n",
       "      <th>country</th>\n",
       "      <th>vaccine</th>\n",
       "      <th>total vaccinations</th>\n",
       "      <th>Ancestral Severe Disease</th>\n",
       "      <th>Ancestral Infection</th>\n",
       "      <th>Alpha Severe Disease</th>\n",
       "      <th>Alpha Infection</th>\n",
       "      <th>Beta Severe Disease</th>\n",
       "      <th>Beta Infection</th>\n",
       "      <th>Gamma Severe Disease</th>\n",
       "      <th>Gamma Infection</th>\n",
       "      <th>Delta Severe Disease</th>\n",
       "      <th>Delta Infection</th>\n",
       "      <th>Omicron Severe Disease</th>\n",
       "      <th>Omicron Infection</th>\n",
       "    </tr>\n",
       "  </thead>\n",
       "  <tbody>\n",
       "    <tr>\n",
       "      <th>0</th>\n",
       "      <td>Latvia</td>\n",
       "      <td>Moderna</td>\n",
       "      <td>715409</td>\n",
       "      <td>97.0</td>\n",
       "      <td>92.0</td>\n",
       "      <td>97.0</td>\n",
       "      <td>92.0</td>\n",
       "      <td>97.0</td>\n",
       "      <td>91.0</td>\n",
       "      <td>97.0</td>\n",
       "      <td>91.0</td>\n",
       "      <td>97.0</td>\n",
       "      <td>91.0</td>\n",
       "      <td>73.0</td>\n",
       "      <td>48.0</td>\n",
       "    </tr>\n",
       "    <tr>\n",
       "      <th>1</th>\n",
       "      <td>Latvia</td>\n",
       "      <td>Sinovac</td>\n",
       "      <td>9</td>\n",
       "      <td>50.0</td>\n",
       "      <td>47.0</td>\n",
       "      <td>50.0</td>\n",
       "      <td>47.0</td>\n",
       "      <td>49.0</td>\n",
       "      <td>46.0</td>\n",
       "      <td>49.0</td>\n",
       "      <td>46.0</td>\n",
       "      <td>49.0</td>\n",
       "      <td>46.0</td>\n",
       "      <td>37.0</td>\n",
       "      <td>24.0</td>\n",
       "    </tr>\n",
       "    <tr>\n",
       "      <th>2</th>\n",
       "      <td>Latvia</td>\n",
       "      <td>Johnson&amp;Johnson</td>\n",
       "      <td>293843</td>\n",
       "      <td>86.0</td>\n",
       "      <td>72.0</td>\n",
       "      <td>86.0</td>\n",
       "      <td>72.0</td>\n",
       "      <td>76.0</td>\n",
       "      <td>64.0</td>\n",
       "      <td>76.0</td>\n",
       "      <td>64.0</td>\n",
       "      <td>76.0</td>\n",
       "      <td>64.0</td>\n",
       "      <td>57.0</td>\n",
       "      <td>33.0</td>\n",
       "    </tr>\n",
       "    <tr>\n",
       "      <th>3</th>\n",
       "      <td>Latvia</td>\n",
       "      <td>Pfizer/BioNTech</td>\n",
       "      <td>1624384</td>\n",
       "      <td>95.0</td>\n",
       "      <td>86.0</td>\n",
       "      <td>95.0</td>\n",
       "      <td>86.0</td>\n",
       "      <td>95.0</td>\n",
       "      <td>84.0</td>\n",
       "      <td>95.0</td>\n",
       "      <td>84.0</td>\n",
       "      <td>95.0</td>\n",
       "      <td>84.0</td>\n",
       "      <td>72.0</td>\n",
       "      <td>44.0</td>\n",
       "    </tr>\n",
       "    <tr>\n",
       "      <th>4</th>\n",
       "      <td>Latvia</td>\n",
       "      <td>Novavax</td>\n",
       "      <td>438</td>\n",
       "      <td>89.0</td>\n",
       "      <td>83.0</td>\n",
       "      <td>89.0</td>\n",
       "      <td>83.0</td>\n",
       "      <td>86.0</td>\n",
       "      <td>82.0</td>\n",
       "      <td>86.0</td>\n",
       "      <td>82.0</td>\n",
       "      <td>86.0</td>\n",
       "      <td>82.0</td>\n",
       "      <td>65.0</td>\n",
       "      <td>43.0</td>\n",
       "    </tr>\n",
       "    <tr>\n",
       "      <th>...</th>\n",
       "      <td>...</td>\n",
       "      <td>...</td>\n",
       "      <td>...</td>\n",
       "      <td>...</td>\n",
       "      <td>...</td>\n",
       "      <td>...</td>\n",
       "      <td>...</td>\n",
       "      <td>...</td>\n",
       "      <td>...</td>\n",
       "      <td>...</td>\n",
       "      <td>...</td>\n",
       "      <td>...</td>\n",
       "      <td>...</td>\n",
       "      <td>...</td>\n",
       "      <td>...</td>\n",
       "    </tr>\n",
       "    <tr>\n",
       "      <th>211</th>\n",
       "      <td>Ukraine</td>\n",
       "      <td>Moderna</td>\n",
       "      <td>3044899</td>\n",
       "      <td>97.0</td>\n",
       "      <td>92.0</td>\n",
       "      <td>97.0</td>\n",
       "      <td>92.0</td>\n",
       "      <td>97.0</td>\n",
       "      <td>91.0</td>\n",
       "      <td>97.0</td>\n",
       "      <td>91.0</td>\n",
       "      <td>97.0</td>\n",
       "      <td>91.0</td>\n",
       "      <td>73.0</td>\n",
       "      <td>48.0</td>\n",
       "    </tr>\n",
       "    <tr>\n",
       "      <th>212</th>\n",
       "      <td>Ukraine</td>\n",
       "      <td>Sinovac</td>\n",
       "      <td>9802231</td>\n",
       "      <td>50.0</td>\n",
       "      <td>47.0</td>\n",
       "      <td>50.0</td>\n",
       "      <td>47.0</td>\n",
       "      <td>49.0</td>\n",
       "      <td>46.0</td>\n",
       "      <td>49.0</td>\n",
       "      <td>46.0</td>\n",
       "      <td>49.0</td>\n",
       "      <td>46.0</td>\n",
       "      <td>37.0</td>\n",
       "      <td>24.0</td>\n",
       "    </tr>\n",
       "    <tr>\n",
       "      <th>213</th>\n",
       "      <td>Ukraine</td>\n",
       "      <td>Johnson&amp;Johnson</td>\n",
       "      <td>20680</td>\n",
       "      <td>86.0</td>\n",
       "      <td>72.0</td>\n",
       "      <td>86.0</td>\n",
       "      <td>72.0</td>\n",
       "      <td>76.0</td>\n",
       "      <td>64.0</td>\n",
       "      <td>76.0</td>\n",
       "      <td>64.0</td>\n",
       "      <td>76.0</td>\n",
       "      <td>64.0</td>\n",
       "      <td>57.0</td>\n",
       "      <td>33.0</td>\n",
       "    </tr>\n",
       "    <tr>\n",
       "      <th>214</th>\n",
       "      <td>Ukraine</td>\n",
       "      <td>Pfizer/BioNTech</td>\n",
       "      <td>14774013</td>\n",
       "      <td>95.0</td>\n",
       "      <td>86.0</td>\n",
       "      <td>95.0</td>\n",
       "      <td>86.0</td>\n",
       "      <td>95.0</td>\n",
       "      <td>84.0</td>\n",
       "      <td>95.0</td>\n",
       "      <td>84.0</td>\n",
       "      <td>95.0</td>\n",
       "      <td>84.0</td>\n",
       "      <td>72.0</td>\n",
       "      <td>44.0</td>\n",
       "    </tr>\n",
       "    <tr>\n",
       "      <th>215</th>\n",
       "      <td>Ukraine</td>\n",
       "      <td>Oxford/AstraZeneca</td>\n",
       "      <td>4041487</td>\n",
       "      <td>94.0</td>\n",
       "      <td>63.0</td>\n",
       "      <td>94.0</td>\n",
       "      <td>63.0</td>\n",
       "      <td>94.0</td>\n",
       "      <td>69.0</td>\n",
       "      <td>94.0</td>\n",
       "      <td>69.0</td>\n",
       "      <td>94.0</td>\n",
       "      <td>69.0</td>\n",
       "      <td>71.0</td>\n",
       "      <td>36.0</td>\n",
       "    </tr>\n",
       "  </tbody>\n",
       "</table>\n",
       "<p>216 rows × 15 columns</p>\n",
       "</div>"
      ],
      "text/plain": [
       "     country             vaccine total vaccinations  Ancestral Severe Disease  \\\n",
       "0     Latvia             Moderna             715409                      97.0   \n",
       "1     Latvia             Sinovac                  9                      50.0   \n",
       "2     Latvia     Johnson&Johnson             293843                      86.0   \n",
       "3     Latvia     Pfizer/BioNTech            1624384                      95.0   \n",
       "4     Latvia             Novavax                438                      89.0   \n",
       "..       ...                 ...                ...                       ...   \n",
       "211  Ukraine             Moderna            3044899                      97.0   \n",
       "212  Ukraine             Sinovac            9802231                      50.0   \n",
       "213  Ukraine     Johnson&Johnson              20680                      86.0   \n",
       "214  Ukraine     Pfizer/BioNTech           14774013                      95.0   \n",
       "215  Ukraine  Oxford/AstraZeneca            4041487                      94.0   \n",
       "\n",
       "     Ancestral Infection  Alpha Severe Disease  Alpha Infection  \\\n",
       "0                   92.0                  97.0             92.0   \n",
       "1                   47.0                  50.0             47.0   \n",
       "2                   72.0                  86.0             72.0   \n",
       "3                   86.0                  95.0             86.0   \n",
       "4                   83.0                  89.0             83.0   \n",
       "..                   ...                   ...              ...   \n",
       "211                 92.0                  97.0             92.0   \n",
       "212                 47.0                  50.0             47.0   \n",
       "213                 72.0                  86.0             72.0   \n",
       "214                 86.0                  95.0             86.0   \n",
       "215                 63.0                  94.0             63.0   \n",
       "\n",
       "     Beta Severe Disease  Beta Infection  Gamma Severe Disease  \\\n",
       "0                   97.0            91.0                  97.0   \n",
       "1                   49.0            46.0                  49.0   \n",
       "2                   76.0            64.0                  76.0   \n",
       "3                   95.0            84.0                  95.0   \n",
       "4                   86.0            82.0                  86.0   \n",
       "..                   ...             ...                   ...   \n",
       "211                 97.0            91.0                  97.0   \n",
       "212                 49.0            46.0                  49.0   \n",
       "213                 76.0            64.0                  76.0   \n",
       "214                 95.0            84.0                  95.0   \n",
       "215                 94.0            69.0                  94.0   \n",
       "\n",
       "     Gamma Infection  Delta Severe Disease  Delta Infection  \\\n",
       "0               91.0                  97.0             91.0   \n",
       "1               46.0                  49.0             46.0   \n",
       "2               64.0                  76.0             64.0   \n",
       "3               84.0                  95.0             84.0   \n",
       "4               82.0                  86.0             82.0   \n",
       "..               ...                   ...              ...   \n",
       "211             91.0                  97.0             91.0   \n",
       "212             46.0                  49.0             46.0   \n",
       "213             64.0                  76.0             64.0   \n",
       "214             84.0                  95.0             84.0   \n",
       "215             69.0                  94.0             69.0   \n",
       "\n",
       "     Omicron Severe Disease  Omicron Infection  \n",
       "0                      73.0               48.0  \n",
       "1                      37.0               24.0  \n",
       "2                      57.0               33.0  \n",
       "3                      72.0               44.0  \n",
       "4                      65.0               43.0  \n",
       "..                      ...                ...  \n",
       "211                    73.0               48.0  \n",
       "212                    37.0               24.0  \n",
       "213                    57.0               33.0  \n",
       "214                    72.0               44.0  \n",
       "215                    71.0               36.0  \n",
       "\n",
       "[216 rows x 15 columns]"
      ]
     },
     "execution_count": 99,
     "metadata": {},
     "output_type": "execute_result"
    }
   ],
   "source": [
    "for i in range(len(df_country_efficiency1)):\n",
    "    df_country_efficiency1.loc[i,[\"Ancestral Severe Disease\",\n",
    "                                  \"Ancestral Infection\",\n",
    "                                \"Alpha Severe Disease\",\"Alpha Infection\",\n",
    "                                \"Beta Severe Disease\",\"Beta Infection\",\n",
    "                                \"Gamma Severe Disease\",\"Gamma Infection\",\n",
    "                                \"Delta Severe Disease\",\"Delta Infection\",\n",
    "                                \"Omicron Severe Disease\",\"Omicron Infection\"]]=df_efficacy.loc[df_efficacy['Vaccine_Manufacturer']==df_country_efficiency1.loc[i,'vaccine'],\n",
    "                                        ['Severe Disease', 'Infection',\n",
    "       'Severe Disease.1', 'Infection.1', 'Severe Disease.2', 'Infection.2',\n",
    "       'Severe Disease.3', 'Infection.3', 'Severe Disease.4', 'Infection.4',\n",
    "       'Severe Disease.5', 'Infection.5']].values.flatten().tolist()\n",
    "df_country_efficiency1"
   ]
  },
  {
   "cell_type": "code",
   "execution_count": 100,
   "id": "869c00fa",
   "metadata": {},
   "outputs": [
    {
     "data": {
      "text/html": [
       "<div>\n",
       "<style scoped>\n",
       "    .dataframe tbody tr th:only-of-type {\n",
       "        vertical-align: middle;\n",
       "    }\n",
       "\n",
       "    .dataframe tbody tr th {\n",
       "        vertical-align: top;\n",
       "    }\n",
       "\n",
       "    .dataframe thead th {\n",
       "        text-align: right;\n",
       "    }\n",
       "</style>\n",
       "<table border=\"1\" class=\"dataframe\">\n",
       "  <thead>\n",
       "    <tr style=\"text-align: right;\">\n",
       "      <th></th>\n",
       "      <th>country</th>\n",
       "      <th>Ancestral Severe Disease</th>\n",
       "      <th>Ancestral Infection</th>\n",
       "      <th>Alpha Severe Disease</th>\n",
       "      <th>Alpha Infection</th>\n",
       "      <th>Beta Severe Disease</th>\n",
       "      <th>Beta Infection</th>\n",
       "      <th>Gamma Severe Disease</th>\n",
       "      <th>Gamma Infection</th>\n",
       "      <th>Delta Severe Disease</th>\n",
       "      <th>Delta Infection</th>\n",
       "      <th>Omicron Severe Disease</th>\n",
       "      <th>Omicron Infection</th>\n",
       "    </tr>\n",
       "  </thead>\n",
       "  <tbody>\n",
       "    <tr>\n",
       "      <th>0</th>\n",
       "      <td>0.0</td>\n",
       "      <td>0.0</td>\n",
       "      <td>0.0</td>\n",
       "      <td>0.0</td>\n",
       "      <td>0.0</td>\n",
       "      <td>0.0</td>\n",
       "      <td>0.0</td>\n",
       "      <td>0.0</td>\n",
       "      <td>0.0</td>\n",
       "      <td>0.0</td>\n",
       "      <td>0.0</td>\n",
       "      <td>0.0</td>\n",
       "      <td>0.0</td>\n",
       "    </tr>\n",
       "    <tr>\n",
       "      <th>1</th>\n",
       "      <td>0.0</td>\n",
       "      <td>0.0</td>\n",
       "      <td>0.0</td>\n",
       "      <td>0.0</td>\n",
       "      <td>0.0</td>\n",
       "      <td>0.0</td>\n",
       "      <td>0.0</td>\n",
       "      <td>0.0</td>\n",
       "      <td>0.0</td>\n",
       "      <td>0.0</td>\n",
       "      <td>0.0</td>\n",
       "      <td>0.0</td>\n",
       "      <td>0.0</td>\n",
       "    </tr>\n",
       "    <tr>\n",
       "      <th>2</th>\n",
       "      <td>0.0</td>\n",
       "      <td>0.0</td>\n",
       "      <td>0.0</td>\n",
       "      <td>0.0</td>\n",
       "      <td>0.0</td>\n",
       "      <td>0.0</td>\n",
       "      <td>0.0</td>\n",
       "      <td>0.0</td>\n",
       "      <td>0.0</td>\n",
       "      <td>0.0</td>\n",
       "      <td>0.0</td>\n",
       "      <td>0.0</td>\n",
       "      <td>0.0</td>\n",
       "    </tr>\n",
       "    <tr>\n",
       "      <th>3</th>\n",
       "      <td>0.0</td>\n",
       "      <td>0.0</td>\n",
       "      <td>0.0</td>\n",
       "      <td>0.0</td>\n",
       "      <td>0.0</td>\n",
       "      <td>0.0</td>\n",
       "      <td>0.0</td>\n",
       "      <td>0.0</td>\n",
       "      <td>0.0</td>\n",
       "      <td>0.0</td>\n",
       "      <td>0.0</td>\n",
       "      <td>0.0</td>\n",
       "      <td>0.0</td>\n",
       "    </tr>\n",
       "    <tr>\n",
       "      <th>4</th>\n",
       "      <td>0.0</td>\n",
       "      <td>0.0</td>\n",
       "      <td>0.0</td>\n",
       "      <td>0.0</td>\n",
       "      <td>0.0</td>\n",
       "      <td>0.0</td>\n",
       "      <td>0.0</td>\n",
       "      <td>0.0</td>\n",
       "      <td>0.0</td>\n",
       "      <td>0.0</td>\n",
       "      <td>0.0</td>\n",
       "      <td>0.0</td>\n",
       "      <td>0.0</td>\n",
       "    </tr>\n",
       "  </tbody>\n",
       "</table>\n",
       "</div>"
      ],
      "text/plain": [
       "   country  Ancestral Severe Disease  Ancestral Infection  \\\n",
       "0      0.0                       0.0                  0.0   \n",
       "1      0.0                       0.0                  0.0   \n",
       "2      0.0                       0.0                  0.0   \n",
       "3      0.0                       0.0                  0.0   \n",
       "4      0.0                       0.0                  0.0   \n",
       "\n",
       "   Alpha Severe Disease  Alpha Infection  Beta Severe Disease  Beta Infection  \\\n",
       "0                   0.0              0.0                  0.0             0.0   \n",
       "1                   0.0              0.0                  0.0             0.0   \n",
       "2                   0.0              0.0                  0.0             0.0   \n",
       "3                   0.0              0.0                  0.0             0.0   \n",
       "4                   0.0              0.0                  0.0             0.0   \n",
       "\n",
       "   Gamma Severe Disease  Gamma Infection  Delta Severe Disease  \\\n",
       "0                   0.0              0.0                   0.0   \n",
       "1                   0.0              0.0                   0.0   \n",
       "2                   0.0              0.0                   0.0   \n",
       "3                   0.0              0.0                   0.0   \n",
       "4                   0.0              0.0                   0.0   \n",
       "\n",
       "   Delta Infection  Omicron Severe Disease  Omicron Infection  \n",
       "0              0.0                     0.0                0.0  \n",
       "1              0.0                     0.0                0.0  \n",
       "2              0.0                     0.0                0.0  \n",
       "3              0.0                     0.0                0.0  \n",
       "4              0.0                     0.0                0.0  "
      ]
     },
     "execution_count": 100,
     "metadata": {},
     "output_type": "execute_result"
    }
   ],
   "source": [
    "df_country_efficiency2=pd.DataFrame(np.zeros((len(all_countries),13)),columns=['country',\n",
    "                                                               \"Ancestral Severe Disease\",\"Ancestral Infection\",\n",
    "                                                              \"Alpha Severe Disease\",\"Alpha Infection\",\n",
    "                                                              \"Beta Severe Disease\",\"Beta Infection\",\n",
    "                                                               \"Gamma Severe Disease\",\"Gamma Infection\",\n",
    "                                                               \"Delta Severe Disease\",\"Delta Infection\",\n",
    "                                                               \"Omicron Severe Disease\",\"Omicron Infection\"])\n",
    "df_country_efficiency2.head()"
   ]
  },
  {
   "cell_type": "code",
   "execution_count": 86,
   "id": "4ecc6485",
   "metadata": {},
   "outputs": [
    {
     "data": {
      "text/html": [
       "<div>\n",
       "<style scoped>\n",
       "    .dataframe tbody tr th:only-of-type {\n",
       "        vertical-align: middle;\n",
       "    }\n",
       "\n",
       "    .dataframe tbody tr th {\n",
       "        vertical-align: top;\n",
       "    }\n",
       "\n",
       "    .dataframe thead th {\n",
       "        text-align: right;\n",
       "    }\n",
       "</style>\n",
       "<table border=\"1\" class=\"dataframe\">\n",
       "  <thead>\n",
       "    <tr style=\"text-align: right;\">\n",
       "      <th></th>\n",
       "      <th>country</th>\n",
       "      <th>vaccine</th>\n",
       "      <th>total vaccinations</th>\n",
       "      <th>Ancestral Severe Disease</th>\n",
       "      <th>Ancestral Infection</th>\n",
       "      <th>Alpha Severe Disease</th>\n",
       "      <th>Alpha Infection</th>\n",
       "      <th>Beta Severe Disease</th>\n",
       "      <th>Beta Infection</th>\n",
       "      <th>Gamma Severe Disease</th>\n",
       "      <th>Gamma Infection</th>\n",
       "      <th>Delta Severe Disease</th>\n",
       "      <th>Delta Infection</th>\n",
       "      <th>Omicron Severe Disease</th>\n",
       "      <th>Omicron Infection</th>\n",
       "    </tr>\n",
       "  </thead>\n",
       "  <tbody>\n",
       "    <tr>\n",
       "      <th>7</th>\n",
       "      <td>United States</td>\n",
       "      <td>Moderna</td>\n",
       "      <td>235757021</td>\n",
       "      <td>97.0</td>\n",
       "      <td>92.0</td>\n",
       "      <td>97.0</td>\n",
       "      <td>92.0</td>\n",
       "      <td>97.0</td>\n",
       "      <td>91.0</td>\n",
       "      <td>97.0</td>\n",
       "      <td>91.0</td>\n",
       "      <td>97.0</td>\n",
       "      <td>91.0</td>\n",
       "      <td>73.0</td>\n",
       "      <td>48.0</td>\n",
       "    </tr>\n",
       "    <tr>\n",
       "      <th>8</th>\n",
       "      <td>United States</td>\n",
       "      <td>Johnson&amp;Johnson</td>\n",
       "      <td>18916447</td>\n",
       "      <td>86.0</td>\n",
       "      <td>72.0</td>\n",
       "      <td>86.0</td>\n",
       "      <td>72.0</td>\n",
       "      <td>76.0</td>\n",
       "      <td>64.0</td>\n",
       "      <td>76.0</td>\n",
       "      <td>64.0</td>\n",
       "      <td>76.0</td>\n",
       "      <td>64.0</td>\n",
       "      <td>57.0</td>\n",
       "      <td>33.0</td>\n",
       "    </tr>\n",
       "    <tr>\n",
       "      <th>9</th>\n",
       "      <td>United States</td>\n",
       "      <td>Pfizer/BioNTech</td>\n",
       "      <td>372455530</td>\n",
       "      <td>95.0</td>\n",
       "      <td>86.0</td>\n",
       "      <td>95.0</td>\n",
       "      <td>86.0</td>\n",
       "      <td>95.0</td>\n",
       "      <td>84.0</td>\n",
       "      <td>95.0</td>\n",
       "      <td>84.0</td>\n",
       "      <td>95.0</td>\n",
       "      <td>84.0</td>\n",
       "      <td>72.0</td>\n",
       "      <td>44.0</td>\n",
       "    </tr>\n",
       "  </tbody>\n",
       "</table>\n",
       "</div>"
      ],
      "text/plain": [
       "         country          vaccine total vaccinations  \\\n",
       "7  United States          Moderna          235757021   \n",
       "8  United States  Johnson&Johnson           18916447   \n",
       "9  United States  Pfizer/BioNTech          372455530   \n",
       "\n",
       "   Ancestral Severe Disease  Ancestral Infection  Alpha Severe Disease  \\\n",
       "7                      97.0                 92.0                  97.0   \n",
       "8                      86.0                 72.0                  86.0   \n",
       "9                      95.0                 86.0                  95.0   \n",
       "\n",
       "   Alpha Infection  Beta Severe Disease  Beta Infection  Gamma Severe Disease  \\\n",
       "7             92.0                 97.0            91.0                  97.0   \n",
       "8             72.0                 76.0            64.0                  76.0   \n",
       "9             86.0                 95.0            84.0                  95.0   \n",
       "\n",
       "   Gamma Infection  Delta Severe Disease  Delta Infection  \\\n",
       "7             91.0                  97.0             91.0   \n",
       "8             64.0                  76.0             64.0   \n",
       "9             84.0                  95.0             84.0   \n",
       "\n",
       "   Omicron Severe Disease  Omicron Infection  \n",
       "7                    73.0               48.0  \n",
       "8                    57.0               33.0  \n",
       "9                    72.0               44.0  "
      ]
     },
     "execution_count": 86,
     "metadata": {},
     "output_type": "execute_result"
    }
   ],
   "source": [
    "df_country_efficiency1[df_country_efficiency1['country']==\"United States\"]"
   ]
  },
  {
   "cell_type": "code",
   "execution_count": 101,
   "id": "2f7f478f",
   "metadata": {},
   "outputs": [
    {
     "data": {
      "text/html": [
       "<div>\n",
       "<style scoped>\n",
       "    .dataframe tbody tr th:only-of-type {\n",
       "        vertical-align: middle;\n",
       "    }\n",
       "\n",
       "    .dataframe tbody tr th {\n",
       "        vertical-align: top;\n",
       "    }\n",
       "\n",
       "    .dataframe thead th {\n",
       "        text-align: right;\n",
       "    }\n",
       "</style>\n",
       "<table border=\"1\" class=\"dataframe\">\n",
       "  <thead>\n",
       "    <tr style=\"text-align: right;\">\n",
       "      <th></th>\n",
       "      <th>country</th>\n",
       "      <th>Ancestral Severe Disease</th>\n",
       "      <th>Ancestral Infection</th>\n",
       "      <th>Alpha Severe Disease</th>\n",
       "      <th>Alpha Infection</th>\n",
       "      <th>Beta Severe Disease</th>\n",
       "      <th>Beta Infection</th>\n",
       "      <th>Gamma Severe Disease</th>\n",
       "      <th>Gamma Infection</th>\n",
       "      <th>Delta Severe Disease</th>\n",
       "      <th>Delta Infection</th>\n",
       "      <th>Omicron Severe Disease</th>\n",
       "      <th>Omicron Infection</th>\n",
       "    </tr>\n",
       "  </thead>\n",
       "  <tbody>\n",
       "    <tr>\n",
       "      <th>0</th>\n",
       "      <td>Latvia</td>\n",
       "      <td>94.489171</td>\n",
       "      <td>83.979911</td>\n",
       "      <td>94.489171</td>\n",
       "      <td>83.979911</td>\n",
       "      <td>93.474098</td>\n",
       "      <td>82.342174</td>\n",
       "      <td>93.474098</td>\n",
       "      <td>82.342174</td>\n",
       "      <td>93.474098</td>\n",
       "      <td>82.342174</td>\n",
       "      <td>70.633300</td>\n",
       "      <td>43.147890</td>\n",
       "    </tr>\n",
       "    <tr>\n",
       "      <th>1</th>\n",
       "      <td>United States</td>\n",
       "      <td>95.480389</td>\n",
       "      <td>87.833294</td>\n",
       "      <td>95.480389</td>\n",
       "      <td>87.833294</td>\n",
       "      <td>95.178754</td>\n",
       "      <td>86.028243</td>\n",
       "      <td>95.178754</td>\n",
       "      <td>86.028243</td>\n",
       "      <td>95.178754</td>\n",
       "      <td>86.028243</td>\n",
       "      <td>71.923477</td>\n",
       "      <td>45.171923</td>\n",
       "    </tr>\n",
       "    <tr>\n",
       "      <th>2</th>\n",
       "      <td>Peru</td>\n",
       "      <td>89.521411</td>\n",
       "      <td>79.681224</td>\n",
       "      <td>89.521411</td>\n",
       "      <td>79.681224</td>\n",
       "      <td>89.021012</td>\n",
       "      <td>78.748681</td>\n",
       "      <td>89.021012</td>\n",
       "      <td>78.748681</td>\n",
       "      <td>89.021012</td>\n",
       "      <td>78.748681</td>\n",
       "      <td>67.211792</td>\n",
       "      <td>41.232035</td>\n",
       "    </tr>\n",
       "    <tr>\n",
       "      <th>3</th>\n",
       "      <td>Ecuador</td>\n",
       "      <td>70.522561</td>\n",
       "      <td>61.099998</td>\n",
       "      <td>70.522561</td>\n",
       "      <td>61.099998</td>\n",
       "      <td>69.958008</td>\n",
       "      <td>60.986323</td>\n",
       "      <td>69.958008</td>\n",
       "      <td>60.986323</td>\n",
       "      <td>69.958008</td>\n",
       "      <td>60.986323</td>\n",
       "      <td>52.898851</td>\n",
       "      <td>31.871800</td>\n",
       "    </tr>\n",
       "    <tr>\n",
       "      <th>4</th>\n",
       "      <td>South Korea</td>\n",
       "      <td>95.086773</td>\n",
       "      <td>83.368120</td>\n",
       "      <td>95.086773</td>\n",
       "      <td>83.368120</td>\n",
       "      <td>94.947719</td>\n",
       "      <td>82.756533</td>\n",
       "      <td>94.947719</td>\n",
       "      <td>82.756533</td>\n",
       "      <td>94.947719</td>\n",
       "      <td>82.756533</td>\n",
       "      <td>71.813174</td>\n",
       "      <td>43.385375</td>\n",
       "    </tr>\n",
       "  </tbody>\n",
       "</table>\n",
       "</div>"
      ],
      "text/plain": [
       "         country  Ancestral Severe Disease  Ancestral Infection  \\\n",
       "0         Latvia                 94.489171            83.979911   \n",
       "1  United States                 95.480389            87.833294   \n",
       "2           Peru                 89.521411            79.681224   \n",
       "3        Ecuador                 70.522561            61.099998   \n",
       "4    South Korea                 95.086773            83.368120   \n",
       "\n",
       "   Alpha Severe Disease  Alpha Infection  Beta Severe Disease  Beta Infection  \\\n",
       "0             94.489171        83.979911            93.474098       82.342174   \n",
       "1             95.480389        87.833294            95.178754       86.028243   \n",
       "2             89.521411        79.681224            89.021012       78.748681   \n",
       "3             70.522561        61.099998            69.958008       60.986323   \n",
       "4             95.086773        83.368120            94.947719       82.756533   \n",
       "\n",
       "   Gamma Severe Disease  Gamma Infection  Delta Severe Disease  \\\n",
       "0             93.474098        82.342174             93.474098   \n",
       "1             95.178754        86.028243             95.178754   \n",
       "2             89.021012        78.748681             89.021012   \n",
       "3             69.958008        60.986323             69.958008   \n",
       "4             94.947719        82.756533             94.947719   \n",
       "\n",
       "   Delta Infection  Omicron Severe Disease  Omicron Infection  \n",
       "0        82.342174               70.633300          43.147890  \n",
       "1        86.028243               71.923477          45.171923  \n",
       "2        78.748681               67.211792          41.232035  \n",
       "3        60.986323               52.898851          31.871800  \n",
       "4        82.756533               71.813174          43.385375  "
      ]
     },
     "execution_count": 101,
     "metadata": {},
     "output_type": "execute_result"
    }
   ],
   "source": [
    "for i in range(len(all_countries)):\n",
    "    df_temp=df_country_efficiency1[df_country_efficiency1['country']==all_countries[i]]\n",
    "    sum_temp=sum(df_temp['total vaccinations'])#sum of total vaccinations in the country\n",
    "    df_country_efficiency2.loc[i,'country']=all_countries[i]\n",
    "    df_country_efficiency2.loc[i,'Ancestral Severe Disease']=sum(np.array(df_temp['Ancestral Severe Disease'].values)*(df_temp['total vaccinations'].values/sum_temp))\n",
    "    df_country_efficiency2.loc[i,'Ancestral Infection']=sum(np.array(df_temp['Ancestral Infection'].values)*(df_temp['total vaccinations'].values/sum_temp))\n",
    "    df_country_efficiency2.loc[i,'Alpha Severe Disease']=sum(np.array(df_temp['Alpha Severe Disease'].values)*(df_temp['total vaccinations'].values/sum_temp))\n",
    "    df_country_efficiency2.loc[i,'Alpha Infection']=sum(np.array(df_temp['Alpha Infection'].values)*(df_temp['total vaccinations'].values/sum_temp))\n",
    "    \n",
    "    df_country_efficiency2.loc[i,'Beta Severe Disease']=sum(np.array(df_temp['Beta Severe Disease'].values)*(df_temp['total vaccinations'].values/sum_temp))\n",
    "    df_country_efficiency2.loc[i,'Beta Infection']=sum(np.array(df_temp['Beta Infection'].values)*(df_temp['total vaccinations'].values/sum_temp))\n",
    "    df_country_efficiency2.loc[i,'Gamma Severe Disease']=sum(np.array(df_temp['Gamma Severe Disease'].values)*(df_temp['total vaccinations'].values/sum_temp))\n",
    "    df_country_efficiency2.loc[i,'Gamma Infection']=sum(np.array(df_temp['Gamma Infection'].values)*(df_temp['total vaccinations'].values/sum_temp))\n",
    "    df_country_efficiency2.loc[i,'Delta Severe Disease']=sum(np.array(df_temp['Delta Severe Disease'].values)*(df_temp['total vaccinations'].values/sum_temp))\n",
    "    df_country_efficiency2.loc[i,'Delta Infection']=sum(np.array(df_temp['Delta Infection'].values)*(df_temp['total vaccinations'].values/sum_temp))\n",
    "    \n",
    "    df_country_efficiency2.loc[i,'Omicron Severe Disease']=sum(np.array(df_temp['Omicron Severe Disease'].values)*(df_temp['total vaccinations'].values/sum_temp))\n",
    "    df_country_efficiency2.loc[i,'Omicron Infection']=sum(np.array(df_temp['Omicron Infection'].values)*(df_temp['total vaccinations'].values/sum_temp))\n",
    "    \n",
    "    \n",
    "df_country_efficiency2.head()"
   ]
  },
  {
   "cell_type": "code",
   "execution_count": 106,
   "id": "c5ca6b2a",
   "metadata": {},
   "outputs": [
    {
     "data": {
      "text/html": [
       "<div>\n",
       "<style scoped>\n",
       "    .dataframe tbody tr th:only-of-type {\n",
       "        vertical-align: middle;\n",
       "    }\n",
       "\n",
       "    .dataframe tbody tr th {\n",
       "        vertical-align: top;\n",
       "    }\n",
       "\n",
       "    .dataframe thead th {\n",
       "        text-align: right;\n",
       "    }\n",
       "</style>\n",
       "<table border=\"1\" class=\"dataframe\">\n",
       "  <thead>\n",
       "    <tr style=\"text-align: right;\">\n",
       "      <th></th>\n",
       "      <th>country</th>\n",
       "      <th>Alpha Infection</th>\n",
       "      <th>Delta Infection</th>\n",
       "      <th>Omicron Infection</th>\n",
       "    </tr>\n",
       "  </thead>\n",
       "  <tbody>\n",
       "    <tr>\n",
       "      <th>0</th>\n",
       "      <td>Latvia</td>\n",
       "      <td>83.979911</td>\n",
       "      <td>82.342174</td>\n",
       "      <td>43.147890</td>\n",
       "    </tr>\n",
       "    <tr>\n",
       "      <th>1</th>\n",
       "      <td>United States</td>\n",
       "      <td>87.833294</td>\n",
       "      <td>86.028243</td>\n",
       "      <td>45.171923</td>\n",
       "    </tr>\n",
       "    <tr>\n",
       "      <th>2</th>\n",
       "      <td>Peru</td>\n",
       "      <td>79.681224</td>\n",
       "      <td>78.748681</td>\n",
       "      <td>41.232035</td>\n",
       "    </tr>\n",
       "    <tr>\n",
       "      <th>3</th>\n",
       "      <td>Ecuador</td>\n",
       "      <td>61.099998</td>\n",
       "      <td>60.986323</td>\n",
       "      <td>31.871800</td>\n",
       "    </tr>\n",
       "    <tr>\n",
       "      <th>4</th>\n",
       "      <td>South Korea</td>\n",
       "      <td>83.368120</td>\n",
       "      <td>82.756533</td>\n",
       "      <td>43.385375</td>\n",
       "    </tr>\n",
       "  </tbody>\n",
       "</table>\n",
       "</div>"
      ],
      "text/plain": [
       "         country  Alpha Infection  Delta Infection  Omicron Infection\n",
       "0         Latvia        83.979911        82.342174          43.147890\n",
       "1  United States        87.833294        86.028243          45.171923\n",
       "2           Peru        79.681224        78.748681          41.232035\n",
       "3        Ecuador        61.099998        60.986323          31.871800\n",
       "4    South Korea        83.368120        82.756533          43.385375"
      ]
     },
     "execution_count": 106,
     "metadata": {},
     "output_type": "execute_result"
    }
   ],
   "source": [
    "df_country_efficiency2[['country','Alpha Infection','Delta Infection','Omicron Infection']].head()"
   ]
  },
  {
   "cell_type": "code",
   "execution_count": 102,
   "id": "c656b422",
   "metadata": {},
   "outputs": [],
   "source": [
    "df_country_efficiency2.to_csv(\"data/country_efficacy.csv\")"
   ]
  },
  {
   "cell_type": "code",
   "execution_count": 105,
   "id": "9ff7a72a",
   "metadata": {},
   "outputs": [
    {
     "data": {
      "text/html": [
       "<div>\n",
       "<style scoped>\n",
       "    .dataframe tbody tr th:only-of-type {\n",
       "        vertical-align: middle;\n",
       "    }\n",
       "\n",
       "    .dataframe tbody tr th {\n",
       "        vertical-align: top;\n",
       "    }\n",
       "\n",
       "    .dataframe thead th {\n",
       "        text-align: right;\n",
       "    }\n",
       "</style>\n",
       "<table border=\"1\" class=\"dataframe\">\n",
       "  <thead>\n",
       "    <tr style=\"text-align: right;\">\n",
       "      <th></th>\n",
       "      <th>country</th>\n",
       "      <th>Alpha Infection</th>\n",
       "      <th>Delta Infection</th>\n",
       "      <th>Omicron Infection</th>\n",
       "    </tr>\n",
       "  </thead>\n",
       "  <tbody>\n",
       "    <tr>\n",
       "      <th>0</th>\n",
       "      <td>Latvia</td>\n",
       "      <td>83.979911</td>\n",
       "      <td>82.342174</td>\n",
       "      <td>43.147890</td>\n",
       "    </tr>\n",
       "    <tr>\n",
       "      <th>1</th>\n",
       "      <td>United States</td>\n",
       "      <td>87.833294</td>\n",
       "      <td>86.028243</td>\n",
       "      <td>45.171923</td>\n",
       "    </tr>\n",
       "    <tr>\n",
       "      <th>2</th>\n",
       "      <td>Peru</td>\n",
       "      <td>79.681224</td>\n",
       "      <td>78.748681</td>\n",
       "      <td>41.232035</td>\n",
       "    </tr>\n",
       "    <tr>\n",
       "      <th>3</th>\n",
       "      <td>Ecuador</td>\n",
       "      <td>61.099998</td>\n",
       "      <td>60.986323</td>\n",
       "      <td>31.871800</td>\n",
       "    </tr>\n",
       "    <tr>\n",
       "      <th>4</th>\n",
       "      <td>South Korea</td>\n",
       "      <td>83.368120</td>\n",
       "      <td>82.756533</td>\n",
       "      <td>43.385375</td>\n",
       "    </tr>\n",
       "  </tbody>\n",
       "</table>\n",
       "</div>"
      ],
      "text/plain": [
       "         country  Alpha Infection  Delta Infection  Omicron Infection\n",
       "0         Latvia        83.979911        82.342174          43.147890\n",
       "1  United States        87.833294        86.028243          45.171923\n",
       "2           Peru        79.681224        78.748681          41.232035\n",
       "3        Ecuador        61.099998        60.986323          31.871800\n",
       "4    South Korea        83.368120        82.756533          43.385375"
      ]
     },
     "execution_count": 105,
     "metadata": {},
     "output_type": "execute_result"
    }
   ],
   "source": [
    "\n",
    "df_temp=pd.read_csv(\"data/country_efficacy.csv\")\n",
    "df_temp=df_temp[['country','Alpha Infection','Delta Infection','Omicron Infection']]\n",
    "df_temp.head()"
   ]
  },
  {
   "cell_type": "code",
   "execution_count": null,
   "id": "61bebcaf",
   "metadata": {},
   "outputs": [],
   "source": []
  }
 ],
 "metadata": {
  "kernelspec": {
   "display_name": "Python 3 (ipykernel)",
   "language": "python",
   "name": "python3"
  },
  "language_info": {
   "codemirror_mode": {
    "name": "ipython",
    "version": 3
   },
   "file_extension": ".py",
   "mimetype": "text/x-python",
   "name": "python",
   "nbconvert_exporter": "python",
   "pygments_lexer": "ipython3",
   "version": "3.9.12"
  }
 },
 "nbformat": 4,
 "nbformat_minor": 5
}
